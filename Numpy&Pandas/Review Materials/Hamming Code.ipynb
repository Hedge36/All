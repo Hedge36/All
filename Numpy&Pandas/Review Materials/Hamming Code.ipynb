{
 "metadata": {
  "language_info": {
   "codemirror_mode": {
    "name": "ipython",
    "version": 3
   },
   "file_extension": ".py",
   "mimetype": "text/x-python",
   "name": "python",
   "nbconvert_exporter": "python",
   "pygments_lexer": "ipython3",
   "version": "3.8.3"
  },
  "orig_nbformat": 2,
  "kernelspec": {
   "name": "python383jvsc74a57bd0ed30ea7ea1cbcc5d6cdd427c80ab89fed01beb16106f90368e1dac31164d7c67",
   "display_name": "Python 3.8.3 64-bit"
  }
 },
 "nbformat": 4,
 "nbformat_minor": 2,
 "cells": [
  {
   "source": [
    "<h1>Hamming Code</h1>\n",
    "More information for 'https://www.bilibili.com/video/BV1WK411N7kz' by 3B1b<br>\n",
    "It can just correct only 1 error and tell you there are more than 1 error with position unknown, so we need to use more advanced \n",
    "algorithm to solve this problem, just like RS.\n"
   ],
   "cell_type": "markdown",
   "metadata": {}
  },
  {
   "source": [
    "<H2>Total Code"
   ],
   "cell_type": "markdown",
   "metadata": {}
  },
  {
   "cell_type": "code",
   "execution_count": 6,
   "metadata": {},
   "outputs": [],
   "source": [
    "import numpy as np\n",
    "from functools import reduce"
   ]
  },
  {
   "cell_type": "code",
   "execution_count": null,
   "metadata": {},
   "outputs": [],
   "source": [
    "def hamming_syndrome():\n",
    "    \"\"\"Hamming code, which can auto print the position of error bits, or return 0 for normal.\"\"\"\n",
    "    return reduce(\n",
    "        # reduce by xor\n",
    "        lambda x, y : x ^ y ,\n",
    "        # All indices of active bits\n",
    "        [i for i,bit in enumerate(bits) if bit]\n",
    "    )"
   ]
  },
  {
   "source": [
    "<h2>Example"
   ],
   "cell_type": "markdown",
   "metadata": {}
  },
  {
   "cell_type": "code",
   "execution_count": 31,
   "metadata": {},
   "outputs": [
    {
     "output_type": "execute_result",
     "data": {
      "text/plain": [
       "array([[1, 1, 1, 0],\n",
       "       [0, 1, 0, 1],\n",
       "       [1, 0, 0, 1],\n",
       "       [0, 0, 0, 0]])"
      ]
     },
     "metadata": {},
     "execution_count": 31
    }
   ],
   "source": [
    "# To create a random Code array\n",
    "bits = np.random.randint(0, 2, 16)\n",
    "bits.reshape((4,4))\n",
    "\"\"\"\n",
    "15,11 hamming_code with 11 valid and 5 redundant, 1 for normal indicate.\n",
    "\"\"\""
   ]
  },
  {
   "cell_type": "code",
   "execution_count": 4,
   "metadata": {},
   "outputs": [
    {
     "output_type": "execute_result",
     "data": {
      "text/plain": [
       "[8, 10, 13]"
      ]
     },
     "metadata": {},
     "execution_count": 4
    }
   ],
   "source": [
    "# print all position of \"1\"\n",
    "pos = [i for i,bit in enumerate(bits) if bit]\n",
    "pos"
   ]
  },
  {
   "cell_type": "code",
   "execution_count": 8,
   "metadata": {},
   "outputs": [
    {
     "output_type": "execute_result",
     "data": {
      "text/plain": [
       "15"
      ]
     },
     "metadata": {},
     "execution_count": 8
    }
   ],
   "source": [
    "# print error code's position\n",
    "error_pos = reduce(op.xor, pos)\n",
    "# 0 for normal\n",
    "error_pos "
   ]
  },
  {
   "cell_type": "code",
   "execution_count": 9,
   "metadata": {},
   "outputs": [],
   "source": [
    "# Correct the error to make a correct code\n",
    "bits[error_pos] = not bits[error_pos]"
   ]
  },
  {
   "cell_type": "code",
   "execution_count": 23,
   "metadata": {},
   "outputs": [],
   "source": [
    "# Now we try to simulated noise\n",
    "bits[2] = not bits[2]"
   ]
  },
  {
   "cell_type": "code",
   "execution_count": 26,
   "metadata": {},
   "outputs": [
    {
     "output_type": "execute_result",
     "data": {
      "text/plain": [
       "2"
      ]
     },
     "metadata": {},
     "execution_count": 26
    }
   ],
   "source": [
    "# Compute print the error automatically\n",
    "pos = [i for i,bit in enumerate(bits) if bit]\n",
    "error_pos = reduce(op.xor, pos)\n",
    "error_pos"
   ]
  }
 ]
}