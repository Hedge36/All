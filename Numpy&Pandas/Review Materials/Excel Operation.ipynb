{
 "metadata": {
  "language_info": {
   "codemirror_mode": {
    "name": "ipython",
    "version": 3
   },
   "file_extension": ".py",
   "mimetype": "text/x-python",
   "name": "python",
   "nbconvert_exporter": "python",
   "pygments_lexer": "ipython3",
   "version": "3.8.3"
  },
  "orig_nbformat": 2,
  "kernelspec": {
   "name": "python383jvsc74a57bd0ed30ea7ea1cbcc5d6cdd427c80ab89fed01beb16106f90368e1dac31164d7c67",
   "display_name": "Python 3.8.3 64-bit"
  }
 },
 "nbformat": 4,
 "nbformat_minor": 2,
 "cells": [
  {
   "source": [
    "<h1>Excel Operation"
   ],
   "cell_type": "markdown",
   "metadata": {}
  },
  {
   "cell_type": "code",
   "execution_count": null,
   "metadata": {},
   "outputs": [],
   "source": [
    "import pandas as pd\n",
    "import numpy as np \n",
    "import matplotlib.pyplot as plt"
   ]
  },
  {
   "source": [
    "<h2> Load </h2>\n",
    "New version of Pandas doesn't support file with extension with \"xlsx\", you can open it with openpyxl."
   ],
   "cell_type": "markdown",
   "metadata": {}
  },
  {
   "cell_type": "code",
   "execution_count": null,
   "metadata": {},
   "outputs": [],
   "source": [
    "xls = pd.read_excel(\"../rubbish/1.xls\")\n",
    "type(xls)   # 数据类型为pandas.core.frame.DataFrame"
   ]
  },
  {
   "cell_type": "code",
   "execution_count": null,
   "metadata": {},
   "outputs": [],
   "source": [
    "xls"
   ]
  },
  {
   "source": [
    "<h2>Index & Slice</h2>\n",
    "There are a little diffence with pandas.DataFrame, here doesn't \n",
    "support part of columns operation, including index and attribute."
   ],
   "cell_type": "markdown",
   "metadata": {}
  },
  {
   "cell_type": "code",
   "execution_count": null,
   "metadata": {},
   "outputs": [],
   "source": [
    "xls.values[:,3:10]"
   ]
  },
  {
   "cell_type": "code",
   "execution_count": null,
   "metadata": {},
   "outputs": [],
   "source": [
    "# 切片，截取所需数据\n",
    "data = xls[xls.iloc[:,13]>40].iloc[:,[13,5]]\n",
    "data"
   ]
  },
  {
   "cell_type": "code",
   "execution_count": null,
   "metadata": {},
   "outputs": [],
   "source": [
    "# 获取当前法向力值\n",
    "F_max = xls.iloc[:,11].max()"
   ]
  },
  {
   "source": [
    "<h2> Access and Modify"
   ],
   "cell_type": "markdown",
   "metadata": {}
  },
  {
   "cell_type": "code",
   "execution_count": null,
   "metadata": {},
   "outputs": [],
   "source": [
    "# 将时间与剪应力两个数据归零化\n",
    "Q = (xls.iloc[:,5] - xls.iloc[400,5])[400:]\n",
    "T = (xls.iloc[:,13] - xls.iloc[400,13])[400:]"
   ]
  },
  {
   "cell_type": "code",
   "execution_count": null,
   "metadata": {},
   "outputs": [],
   "source": [
    "for i in range(len(data)-400):\n",
    "    data.iloc[i,1] = Q.iloc[i]\n",
    "    data.iloc[i,0] = T.iloc[i]\n",
    "data.columns = ['时间(s)', '剪切力(法向力%dKN)'%F_max]\n",
    "data"
   ]
  },
  {
   "source": [
    "<h2>Save"
   ],
   "cell_type": "markdown",
   "metadata": {}
  },
  {
   "cell_type": "code",
   "execution_count": null,
   "metadata": {},
   "outputs": [],
   "source": [
    "writer = pd.ExcelWriter(\"Excel Operation.xls\")\n",
    "data.to_excel(writer, 'page_1', float_format='%.4f', index=False)\n",
    "writer.save()"
   ]
  },
  {
   "source": [
    "<h2>For more detail please read the note."
   ],
   "cell_type": "markdown",
   "metadata": {}
  }
 ]
}