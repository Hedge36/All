{
 "metadata": {
  "language_info": {
   "codemirror_mode": {
    "name": "ipython",
    "version": 3
   },
   "file_extension": ".py",
   "mimetype": "text/x-python",
   "name": "python",
   "nbconvert_exporter": "python",
   "pygments_lexer": "ipython3",
   "version": "3.8.3-final"
  },
  "orig_nbformat": 2,
  "kernelspec": {
   "name": "python3",
   "display_name": "Python 3",
   "language": "python"
  }
 },
 "nbformat": 4,
 "nbformat_minor": 2,
 "cells": [
  {
   "source": [
    "import sys\n",
    "sys.path.insert(0,'D:\\\\Study\\\\2019-2020\\\\Python\\\\resource code\\\\resource code\\\\rubbish')\n",
    "cmc = __import__(\"common math calculate\") "
   ],
   "cell_type": "markdown",
   "metadata": {}
  },
  {
   "source": [
    "# 明渠均匀流水力计算\n",
    "# 参数设置\n",
    "#b = 8.2\n",
    "h = 0.95\n",
    "m = 1.5\n",
    "n = 2.5e-2\n",
    "i = 1e-3\n",
    "Q = 4.2 \n",
    "data_b = [2.5,3,3.5]\n",
    "K0 = Q / i**0.5\n",
    "# 试算法\n",
    "data_K = []\n",
    "for b in data_b:\n",
    "    A = (b + m * h)*h\n",
    "    X = b+2*h*(1+m**2)**0.5\n",
    "    R = A / X\n",
    "    C = R**(1/6)/n\n",
    "    Q = A*C*(R*i)**0.5\n",
    "    K = A*C*R**0.5\n",
    "    data_K.append(K)\n",
    "k,d = cmc.liner_fitting(data_h, data_K)\n",
    "import sympy\n",
    "x = symbols(\"x\")\n",
    "f = k*x + d - K0\n",
    "sympy.solve(f, x),f\n",
    "#v = Q / A\n",
    "# 结果呈现"
   ],
   "cell_type": "markdown",
   "metadata": {}
  },
  {
   "source": [
    "import sympy\n",
    "h = sympy.symbols(\"h\",real = True)\n",
    "b = 3\n",
    "Q = 4.8\n",
    "n = 0.022\n",
    "i = 0.0005\n",
    "f = h**5/(2*h+3)**2-0.433\n",
    "h = round(sympy.solve(f,h)[0],3)\n",
    "A = b*h\n",
    "v = Q/A\n",
    "v"
   ],
   "cell_type": "markdown",
   "metadata": {}
  },
  {
   "source": [
    "help(sympy.symbols)"
   ],
   "cell_type": "markdown",
   "metadata": {}
  },
  {
   "source": [
    "g = 9.8\n",
    "r = round\n",
    "h12 = [0.5e-2, 2.9e-2, 4.2e-2, 0.9e-2, 1.8e-2]  # 1，2两点间的水头差/m\n",
    "h45 = [-2.2e-2, -10.6e-2, -15.3e-2, -4.1e-2, -6.8e-2]\n",
    "h56 = [-0.4e-2, -1.7e-2, -2.4e-2, -0.6e-2, -1.1e-2]  # 5，6两点间的水头差/m\n",
    "Q = [46.8e-6, 103.6e-6, 125.2e-6, 61.6e-6, 83.5e-6]    # 流量/(m3/s)\n",
    "A1 = 0.82e-4   # 管道1截面面积/m2\n",
    "A2 = 3.17e-4   # 管道2截面面积/m2\n",
    "A3 = 0.88e-4   # 管道3截面面积/m2\n",
    "hv1 = [(Q[i]/A1)**2/2/g for i in range(5)] # 突扩前速度水头\n",
    "hv2 = [(Q[i]/A2)**2/2/g for i in range(5)]  # 突扩后速度水头\n",
    "hv3 = [(Q[i]/A3)**2/2/g for i in range(5)]  # 突缩后速度水头\n",
    "hw1 = [r(-h12[i]+hv1[i]-hv2[i],3) for i in range(5)]  # 突扩水头损失\n",
    "hw2 = [r(-h45[i]+hv2[i]-hv3[i],3) for i in range(5)]  # 突缩水头损失\n",
    "ζk = [r(hw1[i]/hv1[i],3) for i in range(5)]  # 突扩阻力系数\n",
    "ζs = [r(hw2[i]/hv3[i],3) for i in range(5)]  # 突缩阻力系数\n",
    "\n",
    "hw2,ζs"
   ],
   "cell_type": "markdown",
   "metadata": {}
  },
  {
   "source": [
    "import math\n",
    "d = 0.72e-2 # 圆管直径/m\n",
    "L = 85e-2   # 测量段长度/m\n",
    "A = 3.14/4*d**2\n",
    "v = [11.06, 22.80, 31.21, 482.62, 519.73, 286.77, 303.73,\n",
    "         340.83, 445.52, 462.72, 470.33]    # 流速/(cm/s)\n",
    "hf = [0.5, 1.54, 2.20, 304, 328, 125, 141, 169, 265, 281, 441]\n",
    "x = [math.log10(v[i]) for i in range(len(v))]\n",
    "y = [math.log10(hf[i]) for i in range(len(hf))]"
   ],
   "cell_type": "markdown",
   "metadata": {}
  },
  {
   "cell_type": "code",
   "execution_count": 13,
   "metadata": {},
   "outputs": [
    {
     "output_type": "stream",
     "name": "stdout",
     "text": [
      "Help on built-in function log10 in module math:\n\nlog10(x, /)\n    Return the base 10 logarithm of x.\n\n"
     ]
    }
   ],
   "source": [
    "help(math.log10)"
   ]
  }
 ]
}