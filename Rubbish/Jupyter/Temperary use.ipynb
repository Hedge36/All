{
 "metadata": {
  "language_info": {
   "codemirror_mode": {
    "name": "ipython",
    "version": 3
   },
   "file_extension": ".py",
   "mimetype": "text/x-python",
   "name": "python",
   "nbconvert_exporter": "python",
   "pygments_lexer": "ipython3",
   "version": "3.8.3"
  },
  "orig_nbformat": 2,
  "kernelspec": {
   "name": "python383jvsc74a57bd0ed30ea7ea1cbcc5d6cdd427c80ab89fed01beb16106f90368e1dac31164d7c67",
   "display_name": "Python 3.8.3 64-bit"
  }
 },
 "nbformat": 4,
 "nbformat_minor": 2,
 "cells": [
  {
   "cell_type": "code",
   "execution_count": 2,
   "metadata": {},
   "outputs": [],
   "source": [
    "import time\n",
    "import numpy as np\n",
    "import matplotlib.pyplot as plt"
   ]
  },
  {
   "cell_type": "code",
   "execution_count": 55,
   "metadata": {},
   "outputs": [
    {
     "output_type": "execute_result",
     "data": {
      "text/plain": [
       "(array([1214,  343, 1239, 1408,  439, 1537, 1200,  313]), array([1887,  980]))"
      ]
     },
     "metadata": {},
     "execution_count": 55
    }
   ],
   "source": [
    "x = np.random.randint(100, high=2000, size=10)\n",
    "y = np.random.randint(200, high=3000, size=10)\n",
    "columns = np.where(x<y)\n",
    "x_ = np.delete(x, columns)\n",
    "x[columns], x_\n",
    "# 第一个零数组表明序号的行号，第二个数组表明列号"
   ]
  }
 ]
}