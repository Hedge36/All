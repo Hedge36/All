{
 "cells": [
  {
   "cell_type": "code",
   "execution_count": 1,
   "metadata": {},
   "outputs": [],
   "source": [
    "import sympy as sp "
   ]
  },
  {
   "cell_type": "code",
   "execution_count": 14,
   "metadata": {},
   "outputs": [
    {
     "data": {
      "text/plain": [
       "[(b*fc*α - sqrt(b*fc*α*(-2.0*As*as2*h0**2*σ + 2.0*As*h*h0**2*σ - 2.0*N*as1*h0**2 - 2.0*N*e*h0**2 + 2.0*N*h0**3 + b*fc*α)))/(b*fc*h0**2*α),\n",
       " (b*fc*α + sqrt(b*fc*α*(-2.0*As*as2*h0**2*σ + 2.0*As*h*h0**2*σ - 2.0*N*as1*h0**2 - 2.0*N*e*h0**2 + 2.0*N*h0**3 + b*fc*α)))/(b*fc*h0**2*α)]"
      ]
     },
     "execution_count": 14,
     "metadata": {},
     "output_type": "execute_result"
    }
   ],
   "source": [
    "N,h0,as1,ss,As,h,as2,e,a1,fc, xi, b = sp.symbols(\"N h0 as1 σ As h as2 e α fc ξ b\")\n",
    "f = -0.5*xi**2 + xi/h0**2 + (N*(h0-as1)+ss*As*(h-as2)-N*e)/(h0**2*a1*fc*b)\n",
    "sp.solve(f, xi)\n"
   ]
  }
 ],
 "metadata": {
  "kernelspec": {
   "display_name": "Python 3",
   "language": "python",
   "name": "python3"
  },
  "language_info": {
   "codemirror_mode": {
    "name": "ipython",
    "version": 3
   },
   "file_extension": ".py",
   "mimetype": "text/x-python",
   "name": "python",
   "nbconvert_exporter": "python",
   "pygments_lexer": "ipython3",
   "version": "3.8.3"
  },
  "orig_nbformat": 2
 },
 "nbformat": 4,
 "nbformat_minor": 2
}
