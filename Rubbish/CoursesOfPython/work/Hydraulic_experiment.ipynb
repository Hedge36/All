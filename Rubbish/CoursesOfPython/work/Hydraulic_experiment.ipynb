{
 "cells": [
  {
   "cell_type": "code",
   "execution_count": null,
   "metadata": {},
   "outputs": [],
   "source": [
    "# 明渠均匀流水力计算\n",
    "# 参数设置\n",
    "#b = 8.2\n",
    "h = 0.95\n",
    "m = 1.5\n",
    "n = 2.5e-2\n",
    "i = 1e-3\n",
    "Q = 4.2 \n",
    "data_b = [2.5,3,3.5]\n",
    "K0 = Q / i**0.5\n",
    "# 试算法\n",
    "data_K = []\n",
    "for b in data_b:\n",
    "    A = (b + m * h)*h\n",
    "    X = b+2*h*(1+m**2)**0.5\n",
    "    R = A / X\n",
    "    C = R**(1/6)/n\n",
    "    Q = A*C*(R*i)**0.5\n",
    "    K = A*C*R**0.5\n",
    "    data_K.append(K)\n",
    "k,d = cmc.liner_fitting(data_h, data_K)\n",
    "import sympy\n",
    "x = symbols(\"x\")\n",
    "f = k*x + d - K0\n",
    "sympy.solve(f, x),f\n",
    "#v = Q / A\n",
    "# 结果呈现"
   ]
  },
  {
   "cell_type": "code",
   "execution_count": null,
   "metadata": {},
   "outputs": [],
   "source": [
    "import sympy\n",
    "h = sympy.symbols(\"h\",real = True)\n",
    "b = 3\n",
    "Q = 4.8\n",
    "n = 0.022\n",
    "i = 0.0005\n",
    "f = h**5/(2*h+3)**2-0.433\n",
    "h = round(sympy.solve(f,h)[0],3)\n",
    "A = b*h\n",
    "v = Q/A\n",
    "v"
   ]
  },
  {
   "cell_type": "code",
   "execution_count": null,
   "metadata": {},
   "outputs": [],
   "source": [
    "g = 9.8\n",
    "r = round\n",
    "h12 = [0.5e-2, 2.9e-2, 4.2e-2, 0.9e-2, 1.8e-2]  # 1，2两点间的水头差/m\n",
    "h45 = [-2.2e-2, -10.6e-2, -15.3e-2, -4.1e-2, -6.8e-2]\n",
    "h56 = [-0.4e-2, -1.7e-2, -2.4e-2, -0.6e-2, -1.1e-2]  # 5，6两点间的水头差/m\n",
    "Q = [46.8e-6, 103.6e-6, 125.2e-6, 61.6e-6, 83.5e-6]    # 流量/(m3/s)\n",
    "A1 = 0.82e-4   # 管道1截面面积/m2\n",
    "A2 = 3.17e-4   # 管道2截面面积/m2\n",
    "A3 = 0.88e-4   # 管道3截面面积/m2\n",
    "hv1 = [(Q[i]/A1)**2/2/g for i in range(5)] # 突扩前速度水头\n",
    "hv2 = [(Q[i]/A2)**2/2/g for i in range(5)]  # 突扩后速度水头\n",
    "hv3 = [(Q[i]/A3)**2/2/g for i in range(5)]  # 突缩后速度水头\n",
    "hw1 = [r(-h12[i]+hv1[i]-hv2[i],3) for i in range(5)]  # 突扩水头损失\n",
    "hw2 = [r(-h45[i]+hv2[i]-hv3[i],3) for i in range(5)]  # 突缩水头损失\n",
    "ζk = [r(hw1[i]/hv1[i],3) for i in range(5)]  # 突扩阻力系数\n",
    "ζs = [r(hw2[i]/hv3[i],3) for i in range(5)]  # 突缩阻力系数\n",
    "\n",
    "hw2,ζs"
   ]
  },
  {
   "cell_type": "code",
   "execution_count": null,
   "metadata": {},
   "outputs": [],
   "source": [
    "import math\n",
    "d = 0.72e-2 # 圆管直径/m\n",
    "L = 85e-2   # 测量段长度/m\n",
    "A = 3.14/4*d**2\n",
    "v = [11.06, 22.80, 31.21, 482.62, 519.73, 286.77, 303.73,\n",
    "         340.83, 445.52, 462.72, 470.33]    # 流速/(cm/s)\n",
    "hf = [0.5, 1.54, 2.20, 304, 328, 125, 141, 169, 265, 281, 441]\n",
    "x = [math.log10(v[i]) for i in range(len(v))]\n",
    "y = [math.log10(hf[i]) for i in range(len(hf))]"
   ]
  },
  {
   "cell_type": "code",
   "execution_count": null,
   "metadata": {},
   "outputs": [],
   "source": [
    "import sympy,math\n",
    "sys.displayhook = sympy.pprint\n",
    "\n",
    "def hf(λ, l, d, v):\n",
    "    \"短管沿程水头损失\"\n",
    "    hf = λ * l  * v**2/ (d * 2 * 9.8)\n",
    "    return hf\n",
    "\n",
    "\n",
    "def hj(ζ,v):\n",
    "    \"局部水头损失\"\n",
    "    hj = ζ * v **2 / 2 /9.8\n",
    "    return hj\n",
    "\n",
    "    \n",
    "def v(Q,d):\n",
    "    \"流速\"\n",
    "    v = 4*Q / math.pi / d ** 2\n",
    "    return v\n",
    "\n",
    "def hfl(a,l,Q):\n",
    "     \"长管水头损失\"\n",
    "     hf = a*l*Q**2\n",
    "     return hf   "
   ]
  },
  {
   "cell_type": "code",
   "execution_count": null,
   "metadata": {},
   "outputs": [],
   "source": [
    "# 5-11\n",
    "l = 10\n",
    "d = 1\n",
    "Q = 4.3\n",
    "ζ = 1.5\n",
    "λ = 0.02\n",
    "μc = 1/(λ*l/d+ζ)**0.5\n",
    "A = math.pi*d**2/4\n",
    "H = sympy.symbols('H')\n",
    "f = Q - μc*A*(2*9.8*H)**0.5\n",
    "sympy.solve(f,H)"
   ]
  },
  {
   "cell_type": "code",
   "execution_count": null,
   "metadata": {},
   "outputs": [],
   "source": [
    "# 5-13\n",
    "Q = 30E-3\n",
    "ζ1 = 7.5\n",
    "ζ2 = 4.5\n",
    "d1 = 0.2\n",
    "d2 = 0.15\n",
    "z = 30\n",
    "λ = 0.03\n",
    "l1 = 20\n",
    "l2 = 45\n",
    "v1 = v(Q,d1)\n",
    "v2 = v(Q,d2)\n",
    "γ = 9.8e3\n",
    "H = z + hj(ζ1,v1) + hj(ζ2,v2) + hf(λ, l1, d1, v1)+hf(λ, l2, d2, v2)\n",
    "H*γ*Q/0.8"
   ]
  },
  {
   "cell_type": "code",
   "execution_count": null,
   "metadata": {},
   "outputs": [],
   "source": [
    "# 5-16\n",
    "Q1 = Q2 = 20E-3\n",
    "Q3 = 10E-3\n",
    "Q4 = 5E-3\n",
    "a1 = 9.029\n",
    "a2 = 41.85\n",
    "a3 = a4 = 365.3\n",
    "l1 = 30\n",
    "l2 = 240\n",
    "l3 = 200\n",
    "l4 = 100\n",
    "d1 = 0.2\n",
    "d2 = 0.15\n",
    "d3 = d4 = 0.1\n",
    "H = hfl(a1,l1,Q1)+hfl(a2,l2,Q2)+hfl(a3,l3,Q3)+hfl(a4,l4,Q4)+6.5*v(Q1,d1)**2 / 2 / 9.8 + 9\n",
    "H"
   ]
  },
  {
   "cell_type": "code",
   "execution_count": null,
   "metadata": {},
   "outputs": [],
   "source": [
    "# 5-19\n",
    "x,y,z = sympy.symbols('x y z')\n",
    "Q = 120\n",
    "la = 1000\n",
    "lb = 900\n",
    "lc = 300\n",
    "da = 250e-3\n",
    "db = 300e-3\n",
    "dc = 250e-3\n",
    "λ = 0.03\n",
    "f = [x+y-Q,\n",
    "    z-y,\n",
    "    la / da**5 *x**2 -lb / db**5 *y**2 -lc / dc**5 *z**2 ]\n",
    "# solve(f,[x,y,z])\n",
    "va = v(x,da)\n",
    "hf(λ,la,da,va)"
   ]
  },
  {
   "cell_type": "code",
   "execution_count": null,
   "metadata": {},
   "outputs": [],
   "source": [
    "#5-20\n",
    "x,y,z,m,n = sympy.symbols('x y z m n')\n",
    "Q = 1\n",
    "f = [Q - x- y,\n",
    "    x -m-z,\n",
    "    y-z-n,\n",
    "    m+n-Q,\n",
    "    x**2 - y**2 +z**2 + 2*m**2 -2*n **2]\n",
    "sympy.solve(f,[x,y,z,m,n])"
   ]
  },
  {
   "cell_type": "code",
   "execution_count": null,
   "metadata": {},
   "outputs": [],
   "source": [
    "k = sympy.symbols('k')\n",
    "f = 0.9*(16e4 - k)**0.5 + 0.1*(16e4-k-7620)**0.5 - 385\n",
    "sympy.solve(f,k)"
   ]
  },
  {
   "cell_type": "code",
   "execution_count": null,
   "metadata": {},
   "outputs": [],
   "source": [
    "# 求极限\n",
    "V,m = sympy.symbols(\"v m\")\n",
    "f = V - 2*m**2 * V + m**3\n",
    "sympy.limit(f,m,0)\n",
    "x = sympy.symbols(\"x\")\n",
    "G = sympy.Function(\"G\")\n",
    "# 微分方程的函数方程一定要声明\n",
    "# 求微分方程的解\n",
    "sympy.dsolve(G(x).diff(x) + G(x)**2 + G(x), G(x))\n"
   ]
  },
  {
   "cell_type": "code",
   "execution_count": null,
   "metadata": {},
   "outputs": [],
   "source": [
    "# 二重定积分\n",
    "t,x = sympy.symbols(\"t x\")\n",
    "f = 2*t\n",
    "g = sympy.integrate(f,(t,0,x))\n",
    "print(sympy.integrate(g,(x,0,3)))\n",
    "# 不定积分\n",
    "print(sympy.integrate(6*x**5, x))"
   ]
  }
 ],
 "metadata": {
  "kernelspec": {
   "display_name": "Python 3",
   "language": "python",
   "name": "python3"
  },
  "language_info": {
   "codemirror_mode": {
    "name": "ipython",
    "version": 3
   },
   "file_extension": ".py",
   "mimetype": "text/x-python",
   "name": "python",
   "nbconvert_exporter": "python",
   "pygments_lexer": "ipython3",
   "version": "3.8.3"
  },
  "orig_nbformat": 2
 },
 "nbformat": 4,
 "nbformat_minor": 2
}
