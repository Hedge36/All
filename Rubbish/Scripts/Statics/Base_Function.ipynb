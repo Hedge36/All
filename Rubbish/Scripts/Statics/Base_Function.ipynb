{
 "cells": [
  {
   "cell_type": "markdown",
   "id": "08c3543c",
   "metadata": {},
   "source": [
    "## Function"
   ]
  },
  {
   "cell_type": "markdown",
   "id": "7ac7b97f",
   "metadata": {},
   "source": [
    "```python\n",
    "def tag(parameters: type) -> type hint:\t\n",
    "\n",
    "\"\"\"Annotion of Fuction, can inquire and print by help, according to PEP8\"\"\"\n",
    "\n",
    "    Expressions\n",
    "\n",
    "    return values\n",
    "```"
   ]
  },
  {
   "cell_type": "markdown",
   "id": "a0ead827",
   "metadata": {},
   "source": [
    "Functionscopes: local, global, nonlocal."
   ]
  },
  {
   "cell_type": "markdown",
   "id": "6f8a0b39",
   "metadata": {},
   "source": [
    "Local First."
   ]
  },
  {
   "cell_type": "markdown",
   "id": "b9750a4b",
   "metadata": {},
   "source": [
    "With local variable of same name, state by global to call or intending to change the value of global."
   ]
  },
  {
   "cell_type": "markdown",
   "id": "7a8f87e9",
   "metadata": {},
   "source": [
    "Tip:如果在一个范围内，对一个变量进行赋值，那么这个变量就会被认为是局部变量。总的来说，引用全局变量，不需要golbal声明，**修改全局变量，需要使用global声明**，特别地，列表、字典等如果只是修改其中元素的值，可以直接使用全局变量，不需要global声明。"
   ]
  }
 ],
 "metadata": {
  "kernelspec": {
   "display_name": "Python 3",
   "language": "python",
   "name": "python3"
  },
  "language_info": {
   "codemirror_mode": {
    "name": "ipython",
    "version": 3
   },
   "file_extension": ".py",
   "mimetype": "text/x-python",
   "name": "python",
   "nbconvert_exporter": "python",
   "pygments_lexer": "ipython3",
   "version": "3.8.3"
  }
 },
 "nbformat": 4,
 "nbformat_minor": 5
}
