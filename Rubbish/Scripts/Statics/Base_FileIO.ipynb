{
 "cells": [
  {
   "cell_type": "markdown",
   "id": "04348c2f",
   "metadata": {},
   "source": [
    "## 非文本类型文件IO"
   ]
  },
  {
   "cell_type": "code",
   "execution_count": null,
   "id": "793dabb5",
   "metadata": {},
   "outputs": [],
   "source": [
    "import numpy as np\n",
    "import pandas as pd\n",
    "import pymysql\n"
   ]
  },
  {
   "cell_type": "markdown",
   "id": "6f51f15b",
   "metadata": {},
   "source": [
    "### 1. numpy"
   ]
  },
  {
   "cell_type": "code",
   "execution_count": null,
   "id": "c1fa082e",
   "metadata": {},
   "outputs": [],
   "source": [
    "np.loadtxt(\"data.txt\", delimiter=\",\", comments='#', \n",
    "           encoding=\"utf-8\", converters={0:lambda x:float(x)+1})"
   ]
  },
  {
   "cell_type": "markdown",
   "id": "5a30133b",
   "metadata": {},
   "source": [
    "### 2. pandas"
   ]
  },
  {
   "cell_type": "markdown",
   "id": "814c36ce",
   "metadata": {},
   "source": [
    "（1）读取csv，txt文件：pandas.read_csv()"
   ]
  },
  {
   "cell_type": "code",
   "execution_count": null,
   "id": "847c9bbb",
   "metadata": {},
   "outputs": [],
   "source": [
    "pathname = \"data.txt\"\n",
    "pd.read_csv(pathname, header=None, encoding='utf-8')"
   ]
  },
  {
   "cell_type": "markdown",
   "id": "5578f7b9",
   "metadata": {},
   "source": [
    "（2）读取excel文件：pandas.read_excel()"
   ]
  },
  {
   "cell_type": "code",
   "execution_count": null,
   "id": "b06c0a94",
   "metadata": {},
   "outputs": [],
   "source": [
    "mydata_excel = pd.read_excel(\"test.xlsx\", sep='\\t', encoding='utf-8')"
   ]
  },
  {
   "cell_type": "markdown",
   "id": "30ab22c6",
   "metadata": {},
   "source": [
    "（3）读取统计软件生成的数据文件SAS:pandas.read_sas()"
   ]
  },
  {
   "cell_type": "code",
   "execution_count": null,
   "id": "3da2654b",
   "metadata": {},
   "outputs": [],
   "source": [
    "mydata_sas = pd.read_sas('class.sas7bdat', encoding='utf8')"
   ]
  },
  {
   "cell_type": "markdown",
   "id": "4ecbbee6",
   "metadata": {},
   "source": [
    "（4）上述办法都不行，怎么办？R自带的foreign包可以读取很多种统计软件的数据集，当读取成功后，再利用write.csv函数将数据集写出为csv格式的数据，这样Python就可以轻松读取csv数据集了，"
   ]
  },
  {
   "cell_type": "markdown",
   "id": "a26628f9",
   "metadata": {},
   "source": [
    "（5）读取数据库(Mysql)文件"
   ]
  },
  {
   "cell_type": "code",
   "execution_count": null,
   "id": "2037625e",
   "metadata": {},
   "outputs": [],
   "source": [
    "#连接数据库\n",
    "db = pymysql.connect(\"localhost\", \"root\", \"123456\", \"库名\")  # 本机数据库连接\n",
    "\n",
    "conn = pymysql.connect(host='127.0.0.1',  # 连接名称，默认127.0.0.1\n",
    "                       user='root',  # 用户名\n",
    "                       passwd='password',  # 密码\n",
    "                       port=3306,  # 端口，默认为3306\n",
    "                       db='test',  # 数据库名称\n",
    "                       charset='utf8')  # 字符编码\n",
    "\n",
    "cur = conn.cursor()  # 生成游标对象\n",
    "sql = \"select * from `student` \"  # SQL语句\n",
    "cur.execute(sql)  # 执行SQL语句\n",
    "data = cur.fetchall()  # 通过fetchall方法获得数据\n",
    "for i in data[:2]:  # 打印输出前2条数据\n",
    "    print(i)\n",
    "cur.close()  # 关闭游标\n",
    "conn.close()  # 关闭连接\n"
   ]
  },
  {
   "cell_type": "markdown",
   "id": "00c102a8",
   "metadata": {},
   "source": [
    "## 文本文件IO"
   ]
  },
  {
   "cell_type": "markdown",
   "id": "91ef44bc",
   "metadata": {},
   "source": [
    "python文件打开使用函数open，调用格式为：open(文件名，访问模式)\n",
    "\n",
    "访问模式：\n",
    "> + `'w'`：可写入访问，如果文件存在，直接打开，如果文件不存在，就先创建该文件，再打开;\n",
    "> + `'r'`：只读访问，不能写入，也不能创建文件;\n",
    "> + `'x'`，创建写模式，文件不存在则创建，存在则返回FileExistsError(文本的创建另存为);\n",
    "> + `'a'`，追加写模式，文件不存在则创建，存在则在文件最后追加内容；\n",
    "\n",
    "文件写入：\n",
    "> + `handle.write(text)`\n",
    "> + `handle.writelines(lists)`\n",
    "\n",
    "文件读出:\n",
    "> + `handle.read([hint])`\n",
    "> + `handle.readline([hint])`\n",
    "> + `handle.readlines()`\n",
    "\n",
    "文件关闭\n",
    "> + `close()`\n",
    "\n",
    "Else:上下文管理——with open."
   ]
  },
  {
   "cell_type": "code",
   "execution_count": null,
   "id": "4a28ef59",
   "metadata": {},
   "outputs": [],
   "source": [
    "f = open('test1.txt','r')"
   ]
  },
  {
   "cell_type": "code",
   "execution_count": null,
   "id": "c40ce72f",
   "metadata": {},
   "outputs": [],
   "source": [
    "f = open('test1.txt','w')\n",
    "srsj = \"\"\"I am heshengmei\n",
    "I come from Hunan\n",
    "I am a teacher in gduf\n",
    "\"\"\"\n",
    "f.write(srsj)\n",
    "f.close()"
   ]
  },
  {
   "cell_type": "markdown",
   "id": "258ac167",
   "metadata": {},
   "source": [
    "python文件数据的读取"
   ]
  },
  {
   "cell_type": "code",
   "execution_count": null,
   "id": "8ae8f5ea",
   "metadata": {},
   "outputs": [],
   "source": [
    "f = open('test1.txt','r')\n",
    "content1 = f.readline()\n",
    "print(\"读出的内容1：%s\"%content1)\n",
    "content2 = f.readline()\n",
    "print(\"读出的内容2：%s\"%content2)\n",
    "f.close()"
   ]
  },
  {
   "cell_type": "markdown",
   "id": "8977c03a",
   "metadata": {},
   "source": [
    "## 文件的路径操作"
   ]
  },
  {
   "cell_type": "markdown",
   "id": "15631cce",
   "metadata": {},
   "source": [
    "文件的路径操作需要借助os模块来完成，所以事先需要调用该库：import os。可以完成文件重命名，文件删除等相关工作。"
   ]
  }
 ],
 "metadata": {
  "kernelspec": {
   "display_name": "Python 3",
   "language": "python",
   "name": "python3"
  },
  "language_info": {
   "codemirror_mode": {
    "name": "ipython",
    "version": 3
   },
   "file_extension": ".py",
   "mimetype": "text/x-python",
   "name": "python",
   "nbconvert_exporter": "python",
   "pygments_lexer": "ipython3",
   "version": "3.8.3"
  }
 },
 "nbformat": 4,
 "nbformat_minor": 5
}
