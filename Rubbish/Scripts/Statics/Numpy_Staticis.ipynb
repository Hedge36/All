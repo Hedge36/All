{
 "cells": [
  {
   "cell_type": "markdown",
   "id": "cd94ca7a",
   "metadata": {},
   "source": [
    "## numpy做统计分析"
   ]
  },
  {
   "cell_type": "code",
   "execution_count": 14,
   "id": "61c21e29",
   "metadata": {
    "scrolled": true
   },
   "outputs": [],
   "source": [
    "import numpy as np\n",
    "import random\n",
    "import scipy\n",
    "from scipy import stats\n",
    "from numpy import linalg"
   ]
  },
  {
   "cell_type": "markdown",
   "id": "cfc41655",
   "metadata": {},
   "source": [
    "### 主要内容"
   ]
  },
  {
   "cell_type": "markdown",
   "id": "6202de4f",
   "metadata": {},
   "source": [
    "* 常用的数学函数;\n",
    "+ 数据处理（均值，方差，中位数，分位数）; \n",
    "+ 随机数的生成;\n",
    "+ 协方差和相关系数;\n",
    "+ 线性代数运算\n",
    "+ 线性回归\n",
    "+ 常用的两个函数\n",
    "- 非参应用\n"
   ]
  },
  {
   "cell_type": "markdown",
   "id": "95cadb57",
   "metadata": {},
   "source": [
    "### 1. 常用的通用函数：元素级数组函数"
   ]
  },
  {
   "cell_type": "markdown",
   "id": "e427a689",
   "metadata": {},
   "source": [
    "abs,sqrt,square,exp,log,log10,log2,cos,sin,modf,power,maximum,minimum,fmax,fmin,isnan"
   ]
  },
  {
   "cell_type": "code",
   "execution_count": 24,
   "id": "81572717",
   "metadata": {},
   "outputs": [
    {
     "name": "stdout",
     "output_type": "stream",
     "text": [
      "arr1=\n",
      " [[ 0.59714871 -1.73772695 -0.01584482  0.04720033  0.9818373 ]\n",
      " [-0.14370364 -1.56867434  0.74325277 -1.19419043 -0.99997219]\n",
      " [ 0.27429729 -0.06220016  0.62730857 -0.3156798  -3.01293012]\n",
      " [-1.0605298  -1.12862672 -0.18513659  0.43808472  0.56366861]]\n",
      "abs(arr1)=\n",
      " [[0.59714871 1.73772695 0.01584482 0.04720033 0.9818373 ]\n",
      " [0.14370364 1.56867434 0.74325277 1.19419043 0.99997219]\n",
      " [0.27429729 0.06220016 0.62730857 0.3156798  3.01293012]\n",
      " [1.0605298  1.12862672 0.18513659 0.43808472 0.56366861]]\n"
     ]
    }
   ],
   "source": [
    "arr1 = np.random.randn(4, 5)\n",
    "print(\"arr1=\\n\", arr1)\n",
    "print(\"abs(arr1)=\\n\", np.abs(arr1))\n"
   ]
  },
  {
   "cell_type": "code",
   "execution_count": 33,
   "id": "f1c446da",
   "metadata": {},
   "outputs": [
    {
     "name": "stdout",
     "output_type": "stream",
     "text": [
      "arr2= [ 1  4  9 16 25]\n",
      "sqrt(arr2)=\n",
      " [1. 2. 3. 4. 5.]\n",
      "square(arr2)=\n",
      " [  1  16  81 256 625]\n",
      "[  1  16  81 256 625]\n",
      "[    1    64   729  4096 15625]\n"
     ]
    }
   ],
   "source": [
    "arr2 = np.array([1, 4, 9, 16, 25])\n",
    "print(\"arr2=\", arr2)\n",
    "print(\"sqrt(arr2)=\\n\", np.sqrt(arr2))\n",
    "print(\"square(arr2)=\\n\", np.square(arr2))\n",
    "print(arr2**2)\n",
    "print(np.power(arr2, 3))\n"
   ]
  },
  {
   "cell_type": "markdown",
   "id": "cc7cf2e4",
   "metadata": {},
   "source": [
    "round(arr1),floor(arr1),ceil(arr1)"
   ]
  },
  {
   "cell_type": "markdown",
   "id": "65c75852",
   "metadata": {},
   "source": [
    "#### 2、利用数组进行数据处理 "
   ]
  },
  {
   "cell_type": "markdown",
   "id": "9a836495",
   "metadata": {},
   "source": [
    "例如：给定一个数组，求出各行各列的和、均值、方差、最大值、最小值以及最大（最小）值的位置等等。"
   ]
  },
  {
   "cell_type": "code",
   "execution_count": 55,
   "id": "96918c1f",
   "metadata": {},
   "outputs": [
    {
     "name": "stdout",
     "output_type": "stream",
     "text": [
      "[[-1.04662621  0.03554074  1.08576226  0.12669726]\n",
      " [ 0.06002977  0.93872281 -0.03136114 -0.5103186 ]\n",
      " [-1.21893109 -0.61498213 -0.70711248 -0.50506633]\n",
      " [ 0.30412211  0.88588133  0.44392223  1.14792486]\n",
      " [-0.11007171  1.017618    0.8122928  -2.6264428 ]]\n"
     ]
    }
   ],
   "source": [
    "dat1 = np.random.randn(5, 4)\n",
    "print(dat1)\n"
   ]
  },
  {
   "cell_type": "markdown",
   "id": "0e309b3c",
   "metadata": {},
   "source": [
    "###### (1)求和"
   ]
  },
  {
   "cell_type": "code",
   "execution_count": 39,
   "id": "4fbf1dbb",
   "metadata": {},
   "outputs": [
    {
     "name": "stdout",
     "output_type": "stream",
     "text": [
      "2.892910195815774\n",
      "[-1.52284231  2.19369867  1.81296623  0.4090876 ]\n",
      "[ 1.03121251 -0.87825576 -0.72189524  1.75054171  1.71130698]\n"
     ]
    }
   ],
   "source": [
    "print(dat1.sum())\n",
    "print(dat1.sum(0))\n",
    "print(dat1.sum(1))\n"
   ]
  },
  {
   "cell_type": "markdown",
   "id": "7dc05c26",
   "metadata": {},
   "source": [
    "这里要将sum函数与cumsum函数做个区别。同时，dat1.sum()也可以用np.sum(dat1)代替"
   ]
  },
  {
   "cell_type": "markdown",
   "id": "d86693ce",
   "metadata": {},
   "source": [
    "#### (2)求均值，方差"
   ]
  },
  {
   "cell_type": "code",
   "execution_count": 50,
   "id": "393b40c6",
   "metadata": {},
   "outputs": [
    {
     "name": "stdout",
     "output_type": "stream",
     "text": [
      "0.2323688836901912\n",
      "[ 0.08872597  1.12650725 -0.38103079  0.0952731 ]\n",
      "[0.13525436 0.13553347 0.29530206 0.54905652 0.046698  ]\n",
      "0.9402904794650835\n",
      "[0.29393602 1.72644756 0.24943346 0.27617376]\n",
      "[0.83948336 0.464688   0.17085203 2.20277827 0.86611709]\n",
      "0.9696857632579141\n",
      "[0.54215866 1.31394352 0.49943314 0.52552237]\n",
      "[0.91623324 0.68168028 0.41334251 1.48417596 0.93065412]\n"
     ]
    }
   ],
   "source": [
    "print(dat1.mean())\n",
    "print(dat1.mean(0))\n",
    "print(dat1.mean(1))\n",
    "print(dat1.var())\n",
    "print(dat1.var(0))\n",
    "print(dat1.var(1))\n",
    "print(dat1.std())\n",
    "print(dat1.std(0))\n",
    "print(dat1.std(1))\n"
   ]
  },
  {
   "cell_type": "markdown",
   "id": "ddb6e6f1",
   "metadata": {},
   "source": [
    "#### (3)最大、最小值"
   ]
  },
  {
   "cell_type": "code",
   "execution_count": 58,
   "id": "f15e3780",
   "metadata": {},
   "outputs": [
    {
     "name": "stdout",
     "output_type": "stream",
     "text": [
      "[[-1.04662621  0.03554074  1.08576226  0.12669726]\n",
      " [ 0.06002977  0.93872281 -0.03136114 -0.5103186 ]\n",
      " [-1.21893109 -0.61498213 -0.70711248 -0.50506633]\n",
      " [ 0.30412211  0.88588133  0.44392223  1.14792486]\n",
      " [-0.11007171  1.017618    0.8122928  -2.6264428 ]]\n",
      "1.1479248621257294\n",
      "[0.30412211 1.017618   1.08576226 1.14792486]\n",
      "[ 1.08576226  0.93872281 -0.50506633  1.14792486  1.017618  ]\n"
     ]
    }
   ],
   "source": [
    "print(dat1)\n",
    "print(dat1.max())\n",
    "print(dat1.max(0))\n",
    "print(dat1.max(1))\n"
   ]
  },
  {
   "cell_type": "markdown",
   "id": "a0d405de",
   "metadata": {},
   "source": [
    "如果想要知道最大值所在的位置呢？"
   ]
  },
  {
   "cell_type": "code",
   "execution_count": 1,
   "id": "3d51251f",
   "metadata": {},
   "outputs": [
    {
     "ename": "NameError",
     "evalue": "name 'dat1' is not defined",
     "output_type": "error",
     "traceback": [
      "\u001b[1;31m---------------------------------------------------------------------------\u001b[0m",
      "\u001b[1;31mNameError\u001b[0m                                 Traceback (most recent call last)",
      "\u001b[1;32m<ipython-input-1-677209d2a0db>\u001b[0m in \u001b[0;36m<module>\u001b[1;34m\u001b[0m\n\u001b[1;32m----> 1\u001b[1;33m \u001b[0mprint\u001b[0m\u001b[1;33m(\u001b[0m\u001b[0mdat1\u001b[0m\u001b[1;33m.\u001b[0m\u001b[0margmax\u001b[0m\u001b[1;33m(\u001b[0m\u001b[1;33m)\u001b[0m\u001b[1;33m)\u001b[0m\u001b[1;33m\u001b[0m\u001b[1;33m\u001b[0m\u001b[0m\n\u001b[0m\u001b[0;32m      2\u001b[0m \u001b[0mprint\u001b[0m\u001b[1;33m(\u001b[0m\u001b[0mdat1\u001b[0m\u001b[1;33m.\u001b[0m\u001b[0margmax\u001b[0m\u001b[1;33m(\u001b[0m\u001b[1;36m0\u001b[0m\u001b[1;33m)\u001b[0m\u001b[1;33m)\u001b[0m\u001b[1;33m\u001b[0m\u001b[1;33m\u001b[0m\u001b[0m\n\u001b[0;32m      3\u001b[0m \u001b[0mprint\u001b[0m\u001b[1;33m(\u001b[0m\u001b[0mdat1\u001b[0m\u001b[1;33m.\u001b[0m\u001b[0margmax\u001b[0m\u001b[1;33m(\u001b[0m\u001b[1;36m1\u001b[0m\u001b[1;33m)\u001b[0m\u001b[1;33m)\u001b[0m\u001b[1;33m\u001b[0m\u001b[1;33m\u001b[0m\u001b[0m\n",
      "\u001b[1;31mNameError\u001b[0m: name 'dat1' is not defined"
     ]
    }
   ],
   "source": [
    "print(dat1.argmax())\n",
    "print(dat1.argmax(0))\n",
    "print(dat1.argmax(1))\n"
   ]
  },
  {
   "cell_type": "markdown",
   "id": "f4f6e595",
   "metadata": {},
   "source": [
    "python中，二维数组元素位置时按行来编号的"
   ]
  },
  {
   "cell_type": "markdown",
   "id": "4e4a83a3",
   "metadata": {},
   "source": [
    "#### 3、随机数的生成"
   ]
  },
  {
   "cell_type": "code",
   "execution_count": 16,
   "id": "df927444",
   "metadata": {},
   "outputs": [
    {
     "data": {
      "text/plain": [
       "array([[-1.36421702, -1.26459705, -0.96211676,  1.70643689,  0.45564919],\n",
       "       [ 1.34492969, -0.39590216, -2.25314543,  0.92272007, -0.06517522],\n",
       "       [ 0.78344397, -0.59692409,  1.36919781, -1.05224204, -1.32101752],\n",
       "       [ 0.35388755, -1.46802903, -0.99381344,  0.11971442, -0.42167076]])"
      ]
     },
     "execution_count": 16,
     "metadata": {},
     "output_type": "execute_result"
    }
   ],
   "source": [
    "np.random.randn(4, 5)\n"
   ]
  },
  {
   "cell_type": "code",
   "execution_count": 14,
   "id": "4f2e3261",
   "metadata": {},
   "outputs": [],
   "source": [
    "?np.random.randn\n"
   ]
  },
  {
   "cell_type": "code",
   "execution_count": null,
   "id": "dbfe04e9",
   "metadata": {},
   "outputs": [],
   "source": [
    "dir(np.random)  # 查看random模块中的所有函数\n"
   ]
  },
  {
   "cell_type": "markdown",
   "id": "e5577937",
   "metadata": {},
   "source": [
    "#### 4、协方差和相关系数"
   ]
  },
  {
   "cell_type": "markdown",
   "id": "8ec963eb",
   "metadata": {},
   "source": [
    "cov,corrcoef"
   ]
  },
  {
   "cell_type": "code",
   "execution_count": 2,
   "id": "53a47c25",
   "metadata": {},
   "outputs": [
    {
     "name": "stdout",
     "output_type": "stream",
     "text": [
      "Object `np.cov` not found.\n"
     ]
    }
   ],
   "source": [
    "?np.cov\n"
   ]
  },
  {
   "cell_type": "code",
   "execution_count": 64,
   "id": "9467f010",
   "metadata": {},
   "outputs": [],
   "source": [
    "?np.corrcoef\n"
   ]
  },
  {
   "cell_type": "code",
   "execution_count": 69,
   "id": "759f1edf",
   "metadata": {},
   "outputs": [
    {
     "name": "stdout",
     "output_type": "stream",
     "text": [
      "[[-0.25923275  0.95740202]\n",
      " [-0.62384697  0.29836037]\n",
      " [ 0.62513047  1.43277096]]\n"
     ]
    },
    {
     "data": {
      "text/plain": [
       "array([[1., 1., 1.],\n",
       "       [1., 1., 1.],\n",
       "       [1., 1., 1.]])"
      ]
     },
     "execution_count": 69,
     "metadata": {},
     "output_type": "execute_result"
    }
   ],
   "source": [
    "x = np.random.randn(3, 2)\n",
    "print(x)\n",
    "np.corrcoef(x)  # np.corrcoef(x.T)\n"
   ]
  },
  {
   "cell_type": "code",
   "execution_count": 68,
   "id": "0ae79e1f",
   "metadata": {},
   "outputs": [
    {
     "data": {
      "text/plain": [
       "array([[1.        , 0.07682168, 0.12112605],\n",
       "       [0.07682168, 1.        , 0.10844366],\n",
       "       [0.12112605, 0.10844366, 1.        ]])"
      ]
     },
     "execution_count": 68,
     "metadata": {},
     "output_type": "execute_result"
    }
   ],
   "source": [
    "x = np.random.randn(3, 100)\n",
    "np.corrcoef(x)\n"
   ]
  },
  {
   "cell_type": "markdown",
   "id": "a5004798",
   "metadata": {},
   "source": [
    "#### 5、线性代数运算"
   ]
  },
  {
   "cell_type": "markdown",
   "id": "6d18e8ad",
   "metadata": {},
   "source": [
    "* 矩阵乘法\n",
    "+ 求行列式\n",
    "+ 求逆矩阵\n",
    "- ......"
   ]
  },
  {
   "cell_type": "code",
   "execution_count": 3,
   "id": "7ec25a79",
   "metadata": {},
   "outputs": [
    {
     "data": {
      "text/plain": [
       "array([[ 1.00000000e+00, -2.50718510e-16, -4.78267668e-17],\n",
       "       [-6.20783922e-16,  1.00000000e+00, -4.93314948e-17],\n",
       "       [ 1.61584583e-16, -8.93382221e-16,  1.00000000e+00]])"
      ]
     },
     "execution_count": 3,
     "metadata": {},
     "output_type": "execute_result"
    }
   ],
   "source": [
    "# 求行列式，逆矩阵\n",
    "A = np.random.randn(3, 3)\n",
    "np.linalg.det(A)\n",
    "B = np.linalg.inv(A)\n",
    "A.dot(B)  # np.dot(A,B)\n"
   ]
  },
  {
   "cell_type": "markdown",
   "id": "573923a8",
   "metadata": {},
   "source": [
    "#### 6、线性回归"
   ]
  },
  {
   "cell_type": "markdown",
   "id": "ae8c4b53",
   "metadata": {},
   "source": [
    "$$Y = X \\beta + \\epsilon$$"
   ]
  },
  {
   "cell_type": "code",
   "execution_count": null,
   "id": "bb80fa70",
   "metadata": {},
   "outputs": [],
   "source": [
    "n = 100\n",
    "p = 5\n",
    "X = np.random.randn(n, p)\n",
    "beta = [1, 2, 3, 4, 5]\n",
    "Y = np.dot(X, beta)+np.random.randn(n)\n",
    "print(X)\n",
    "print(Y)\n"
   ]
  },
  {
   "cell_type": "code",
   "execution_count": 84,
   "id": "1ce7d2d7",
   "metadata": {},
   "outputs": [
    {
     "data": {
      "text/plain": [
       "(array([0.7426851 , 2.03610212, 3.08393422, 3.87532996, 5.00772641]),\n",
       " array([93.65365804]),\n",
       " 5,\n",
       " array([11.47148421, 10.87731284,  9.41294639,  9.13003535,  8.22246645]))"
      ]
     },
     "execution_count": 84,
     "metadata": {},
     "output_type": "execute_result"
    }
   ],
   "source": [
    "np.linalg.lstsq(X, Y, rcond=None)\n"
   ]
  },
  {
   "cell_type": "code",
   "execution_count": null,
   "id": "830cdbb3",
   "metadata": {},
   "outputs": [],
   "source": [
    "?np.linalg.lstsq\n"
   ]
  },
  {
   "cell_type": "markdown",
   "id": "73e61667",
   "metadata": {},
   "source": [
    "求相应分布的概率值（用于求$p$值）"
   ]
  },
  {
   "cell_type": "code",
   "execution_count": 6,
   "id": "14d632fd",
   "metadata": {},
   "outputs": [
    {
     "data": {
      "text/plain": [
       "0.001919132940163049"
      ]
     },
     "execution_count": 6,
     "metadata": {},
     "output_type": "execute_result"
    }
   ],
   "source": [
    "scipy.stats.binom.cdf(16, 54, 0.5)  # X服从bionom(54,0.5),P(X<=16)\n"
   ]
  },
  {
   "cell_type": "markdown",
   "id": "b8dbc14d",
   "metadata": {},
   "source": [
    "求样本的秩：scipy的rankdata()函数"
   ]
  },
  {
   "cell_type": "code",
   "execution_count": 5,
   "id": "90948c3c",
   "metadata": {},
   "outputs": [
    {
     "name": "stdout",
     "output_type": "stream",
     "text": [
      "[0 1 5 3 8 6 9]\n",
      "[1.2 3.8 3.2 1.2 3.4 3.2 3.2]\n",
      "[1. 2. 4. 3. 6. 5. 7.]\n",
      "[1.5 7.  4.  1.5 6.  4.  4. ]\n"
     ]
    }
   ],
   "source": [
    "arr1 = np.array([0, 1, 5, 3, 8, 6, 9])\n",
    "arr2 = np.array([1.2, 3.8, 3.2, 1.2, 3.4, 3.2, 3.2])\n",
    "print(arr1)\n",
    "print(arr2)\n",
    "print(scipy.stats.rankdata(arr1))\n",
    "print(scipy.stats.rankdata(arr2))\n"
   ]
  },
  {
   "cell_type": "markdown",
   "id": "74f5d416",
   "metadata": {},
   "source": [
    "#### 非参数检验函数示例1：cox-stauter趋势检验"
   ]
  },
  {
   "cell_type": "code",
   "execution_count": 49,
   "id": "115daa9f",
   "metadata": {},
   "outputs": [],
   "source": [
    "def cox_stauter_test(x, alpha=0.05, alt=\"trend\"):\n",
    "    # 该函数用于检验时间序列x是否具有趋势性\n",
    "    # x为给定的时间序列，以1维数组的形式给定\n",
    "    # alpha为显著性水平，默认为0.05。\n",
    "    # alt是对应备择假设H1的选择，trend：有趋势，up：有上升趋势，down：有下降趋势\n",
    "    n = x.size\n",
    "    if np.mod(n, 2) == 0:\n",
    "        c = int(n/2)\n",
    "        nn = c\n",
    "    else:\n",
    "        c = int((n+1)/2)\n",
    "        nn = c-1\n",
    "\n",
    "    D = x[1:nn]-x[(n-nn+1):nn]\n",
    "    sjia = np.sum(D > 0)  # sjia是S+的观测值，在原假设成立的条件下，S+服从binom(nn,0.5)\n",
    "    pvalue1 = scipy.stats.binom.cdf(sjia, nn, 0.5)  # P(S+<=sjia)\n",
    "    pvalue2 = 1-scipy.stats.binom.cdf(sjia-1, nn, 0.5)  # P(S+>=sjia)\n",
    "    pvalue3 = 2*min(pvalue1, pvalue2)\n",
    "\n",
    "    if alt == \"trend\":\n",
    "        pvalue = pvalue3\n",
    "        if pvalue < alpha:\n",
    "            decision = \"拒绝原假设，认为该序列有趋势\"\n",
    "        else:\n",
    "            decision = \"没有充分理由拒绝原假设，认为该序列没有趋势\"\n",
    "    elif alt == \"up\":\n",
    "        pvalue = pvalue1\n",
    "        if pvalue < alpha:\n",
    "            decision = \"拒绝原假设，认为该序列有上升趋势\"\n",
    "        else:\n",
    "            decision = \"没有充分理由拒绝原假设，认为该序列没有趋势\"\n",
    "    else:\n",
    "        pvalue = pvalue2\n",
    "        if pvalue < alpha:\n",
    "            decision = \"拒绝原假设，认为该序列有下降趋势\"\n",
    "        else:\n",
    "            decision = \"没有充分理由拒绝原假设，认为该序列没有趋势\"\n",
    "    return pvalue, decision\n"
   ]
  },
  {
   "cell_type": "code",
   "execution_count": 50,
   "id": "0bb052ad",
   "metadata": {},
   "outputs": [
    {
     "name": "stdout",
     "output_type": "stream",
     "text": [
      "[[ 54379.  45461.  55408.  59712.  60776.  57635.  63335.  71296.  70250.\n",
      "   76866.  75561.  66427.  61330.  58186.  67799.  76360.  86207.  75509.\n",
      "   83020.  89614.  75791.  80835.  72179.  61520.  66726.  60629.  68549.\n",
      "   73310.  80719.  67759.  70352.  82825.  70541.  74631.  68938.  53318.\n",
      "   62653.  58578.  63292.  69535.  73379.  62859.  72873.  87260.  67559.\n",
      "   76647.  70590.  58935.  58161.  64057.  63051.  58807.  63663.  57367.\n",
      "   70854.  79949.  66992.  80140.  62260.  55942.  58367.  56673.  61039.\n",
      "   74958.  85859.  67263.  87183.  97575.  79988.  88501.  68600.  58442.\n",
      "   68955.  56835.  67021.  81547.  85118.  70145.  95080. 106186.  86103.\n",
      "   88548.  70090.  65550.  69223.  85138.  89799.  99513.  98114.  68172.\n",
      "   97366. 116820.  95665. 109881.  87068.  75362.  88268.  85183.  87909.\n",
      "   79976.  27687.  50178. 100878. 131788. 116293. 120770. 104958. 109603.]]\n"
     ]
    },
    {
     "data": {
      "text/plain": [
       "(5.551115123125783e-17, '拒绝原假设，认为该序列有上升趋势')"
      ]
     },
     "execution_count": 50,
     "metadata": {},
     "output_type": "execute_result"
    }
   ],
   "source": [
    "# 验证\n",
    "dat = np.loadtxt(\n",
    "    \"C:\\\\Users\\\\thsm9\\\\Desktop\\\\教学2021-2022-1\\\\非参数统计\\\\教材数据\\\\TJAir.txt\")\n",
    "# print(dat)\n",
    "x = dat.reshape(1, 108)\n",
    "print(x)\n",
    "cox_stauter_test(x, alpha=0.05, alt=\"up\")\n"
   ]
  },
  {
   "cell_type": "markdown",
   "id": "f85591ff",
   "metadata": {},
   "source": [
    "#### 非参数检验函数示例2：Wilcox(Mann-Whiteney)秩和检验"
   ]
  },
  {
   "cell_type": "code",
   "execution_count": 38,
   "id": "2d9fe8c9",
   "metadata": {},
   "outputs": [],
   "source": [
    "def Milcox_test(x, y, alpha=0.05, alt=\"twosided\"):\n",
    "    # 本函数实现两样吧的wilcox秩和检验\n",
    "    # x,y是给定的两个样本数组\n",
    "    # alpha是显著性水平\n",
    "    # alt是对应方法的选择，twosided:Mx!=My; greater:Mx>My; less:Mx<My\n",
    "    # 本函数检验中，我们才用Wy作为检验统计量,采用正态近似检验\n",
    "\n",
    "    m = x.size\n",
    "    n = y.size\n",
    "    N = m+n\n",
    "\n",
    "    # 求混合秩\n",
    "    R = scipy.stats.rankdata(np.hstack((y, x)))  # hstack((y,x))将数组y和x横向拼接起来\n",
    "    # 求Wy\n",
    "    Wy = np.sum(R[0:n])\n",
    "    # 求E(W)和Var(W)\n",
    "    EWy = n*(N+1)/2\n",
    "    VarWy = m*n*(N+1)/12\n",
    "    # 标准化z\n",
    "    z = (Wy-EWy)/np.sqrt(VarWy)\n",
    "\n",
    "    # 计算p值\n",
    "    pvalue1 = scipy.stats.norm.cdf(z)  # P(Z<=z)\n",
    "    pvalue2 = 1-scipy.stats.norm.cdf(z)  # P(Z>=z)\n",
    "    pvalue3 = 2*min(pvalue1, pvalue2)\n",
    "\n",
    "    # 输出\n",
    "    if alt == \"twosided\":\n",
    "        pvalue = pvalue3\n",
    "        if pvalue < alpha:\n",
    "            decision = \"拒绝原假设，认为Mx!=My\"\n",
    "        else:\n",
    "            decision = \"没有充分理由拒绝原假设，认为Mx=My\"\n",
    "    elif alt == \"greater\":\n",
    "        pvalue = pvalue1\n",
    "        if pvalue < alpha:\n",
    "            decision = \"拒绝原假设，认为Mx>My\"\n",
    "        else:\n",
    "            decision = \"没有充分理由拒绝原假设，认为Mx=My\"\n",
    "    else:\n",
    "        pvalue = pvalue2\n",
    "        if pvalue < alpha:\n",
    "            decision = \"拒绝原假设，认为Mx<My\"\n",
    "        else:\n",
    "            decision = \"没有充分理由拒绝原假设，认为Mx=My\"\n",
    "    return pvalue, decision\n"
   ]
  },
  {
   "cell_type": "code",
   "execution_count": 40,
   "id": "fe7498f5",
   "metadata": {},
   "outputs": [
    {
     "data": {
      "text/plain": [
       "(0.013583126204004259, '拒绝原假设，认为Mx<My')"
      ]
     },
     "execution_count": 40,
     "metadata": {},
     "output_type": "execute_result"
    }
   ],
   "source": [
    "# 示例\n",
    "# 验证\n",
    "dat = np.loadtxt(\n",
    "    \"C:\\\\Users\\\\thsm9\\\\Desktop\\\\教学2021-2022-1\\\\非参数统计\\\\教材数据\\\\salary.txt\")\n",
    "x = dat[dat[:, 1] == 1, 0]\n",
    "y = dat[dat[:, 1] == 2, 0]\n",
    "Milcox_test(x, y, alpha=0.05, alt=\"less\")\n"
   ]
  },
  {
   "cell_type": "code",
   "execution_count": 49,
   "id": "afe687be",
   "metadata": {},
   "outputs": [],
   "source": [
    "dir(scipy.stats)\n",
    "?scipy.stats.multivariate_normal.rvs\n"
   ]
  },
  {
   "cell_type": "markdown",
   "id": "9e4a4a8b",
   "metadata": {},
   "source": [
    "* 重点1、学会使用dir(模块名）：查看该模块下的所有函数\n",
    "- 重点2、学会使用help(函数名）或者?函数名查看函数的帮助文档，学习函数的使用"
   ]
  },
  {
   "cell_type": "code",
   "execution_count": 20,
   "id": "c9fe9c8a",
   "metadata": {},
   "outputs": [
    {
     "data": {
      "text/plain": [
       "10"
      ]
     },
     "execution_count": 20,
     "metadata": {},
     "output_type": "execute_result"
    }
   ],
   "source": [
    "data = np.random.randn(10,10)\n",
    "linalg.matrix_rank(data)"
   ]
  }
 ],
 "metadata": {
  "kernelspec": {
   "display_name": "Python 3",
   "language": "python",
   "name": "python3"
  },
  "language_info": {
   "codemirror_mode": {
    "name": "ipython",
    "version": 3
   },
   "file_extension": ".py",
   "mimetype": "text/x-python",
   "name": "python",
   "nbconvert_exporter": "python",
   "pygments_lexer": "ipython3",
   "version": "3.8.10"
  }
 },
 "nbformat": 4,
 "nbformat_minor": 5
}
