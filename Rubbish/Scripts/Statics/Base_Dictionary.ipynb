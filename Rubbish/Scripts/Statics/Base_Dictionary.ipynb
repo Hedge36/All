{
 "cells": [
  {
   "cell_type": "markdown",
   "id": "de14f34e",
   "metadata": {},
   "source": [
    "## Basic Operation"
   ]
  },
  {
   "cell_type": "markdown",
   "id": "006e047b",
   "metadata": {},
   "source": [
    "### Add & Modify"
   ]
  },
  {
   "cell_type": "code",
   "execution_count": 1,
   "id": "3ed20141",
   "metadata": {},
   "outputs": [
    {
     "data": {
      "text/plain": [
       "{'学号': '1916171XX', '姓名': '小张', '性别': 'female'}"
      ]
     },
     "execution_count": 1,
     "metadata": {},
     "output_type": "execute_result"
    }
   ],
   "source": [
    "info = {\"学号\":\"1916171XX\",\"姓名\":\"小张\"}\n",
    "info[\"性别\"] = \"female\"\n",
    "info\n"
   ]
  },
  {
   "cell_type": "markdown",
   "id": "060f0be6",
   "metadata": {},
   "source": [
    "### Del & Clear"
   ]
  },
  {
   "cell_type": "code",
   "execution_count": 2,
   "id": "93e70a8f",
   "metadata": {},
   "outputs": [
    {
     "data": {
      "text/plain": [
       "{}"
      ]
     },
     "execution_count": 2,
     "metadata": {},
     "output_type": "execute_result"
    }
   ],
   "source": [
    "del info[\"性别\"]\n",
    "info.clear()\n",
    "info\n"
   ]
  },
  {
   "cell_type": "markdown",
   "id": "3b08279a",
   "metadata": {},
   "source": [
    "### Query"
   ]
  },
  {
   "cell_type": "code",
   "execution_count": 3,
   "id": "311f563b",
   "metadata": {},
   "outputs": [
    {
     "name": "stdout",
     "output_type": "stream",
     "text": [
      "dict_keys(['学号', '姓名', '性别'])\n",
      "dict_values(['1916171XX', '小张', '女'])\n",
      "dict_items([('学号', '1916171XX'), ('姓名', '小张'), ('性别', '女')])\n"
     ]
    }
   ],
   "source": [
    "info = {\"学号\":\"1916171XX\",\"姓名\":\"小张\",\"性别\":\"女\"}\n",
    "print(info.keys())  # 查看/调用所有的值\n",
    "print(info.values())    # 查看/调用所有的项\n",
    "print(info.items()) # 遍历字典的每一个键"
   ]
  }
 ],
 "metadata": {
  "kernelspec": {
   "display_name": "Python 3",
   "language": "python",
   "name": "python3"
  },
  "language_info": {
   "codemirror_mode": {
    "name": "ipython",
    "version": 3
   },
   "file_extension": ".py",
   "mimetype": "text/x-python",
   "name": "python",
   "nbconvert_exporter": "python",
   "pygments_lexer": "ipython3",
   "version": "3.8.10"
  }
 },
 "nbformat": 4,
 "nbformat_minor": 5
}
