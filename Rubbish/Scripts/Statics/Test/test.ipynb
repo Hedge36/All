{
 "cells": [
  {
   "cell_type": "code",
   "execution_count": 4,
   "metadata": {},
   "outputs": [],
   "source": [
    "import numpy as np \n",
    "import pandas as pd\n",
    "import matplotlib.pyplot as plt\n"
   ]
  },
  {
   "cell_type": "code",
   "execution_count": 5,
   "metadata": {},
   "outputs": [],
   "source": [
    "plt.rcParams['font.sans-serif'] = 'SimHei'\n",
    "plt.rcParams['axes.unicode_minus'] = False  # 设置正常显示符号\n"
   ]
  },
  {
   "cell_type": "markdown",
   "metadata": {},
   "source": [
    "## Test1"
   ]
  },
  {
   "cell_type": "markdown",
   "metadata": {},
   "source": [
    "题目描述：\n",
    "\n",
    "大学考试通常采取百分制，阅卷老师根据学生完成试卷情况，给定一个分数(score, $ 0\\le score\\le100$ ),但是，绩点（GPA: grade point）通常是用来衡量学生学业成绩的常用方法，假设在考试分数（score）和课程绩点的换算关系见下面表格。试编写一个分数到绩点的转换函Tran_Scor_Gap，给定分数（score），就能返回对应的绩点（GAP）。并键盘输入一个分数，调用该函数，打印对应的绩点。\n"
   ]
  },
  {
   "cell_type": "markdown",
   "metadata": {},
   "source": [
    "![换算关系](./test.png)"
   ]
  },
  {
   "cell_type": "code",
   "execution_count": null,
   "metadata": {},
   "outputs": [],
   "source": [
    "def Tran_Scor_Gap(score:int)->float:\n",
    "    \"\"\"根据分数返回绩点\"\"\"\n",
    "    if not 100 >= score >= 0:\n",
    "        raise ValueError(\"输入分数应在0-100内\")\n",
    "    elif score < 60:\n",
    "        return 0.0\n",
    "    else:\n",
    "        return (score - 50.0)//10\n",
    "        # return (score - 50)/10\n"
   ]
  },
  {
   "cell_type": "code",
   "execution_count": null,
   "metadata": {},
   "outputs": [],
   "source": [
    "# 测试模块\n",
    "for score, grade in np.random.randint(0,100,(10,2)):\n",
    "    print(f\"课程得分为 {score}，绩点为 {Tran_Scor_Gap(score)}\")"
   ]
  },
  {
   "cell_type": "markdown",
   "metadata": {},
   "source": [
    "# Test2"
   ]
  },
  {
   "cell_type": "markdown",
   "metadata": {},
   "source": [
    "题目描述：\n",
    "\n",
    "目前中国的资本市场逐渐成熟，投资于股市成为众多企业乃至个人的重要理财方式。因此利用上市公司当年的公开的财务指标对起来年盈利状况予以预测就成为投资人最重要的决策依据。为合理预测上市公司来年的盈利状况，我们需要有效利用上市公司的历史财务数据，对其来年的净资产收益率（ROE，本问题的因变量）进行估计预测，我们选取了公司当年的净资产收益率ROEt，资产周转率（ATO），主营讹误利润/主营业务收入（PM），债务资本比率（LEV），主营业务收入增长率（GROWTH），市倍率（PB），应收账款/主营业务收入（ARR），存货/资产总计（INV），对数变换后的资产总计（ASSET）共9个财务指标作为自变量，随机抽取深市和沪市2002年和2003年各500个样本（附件1中CSV文件）。利用附件1中的数据，完成以下问题：\n"
   ]
  },
  {
   "cell_type": "markdown",
   "metadata": {},
   "source": [
    "2.1 读入该数据，并查看该数据的基本情况（包括数据的维数，形状，数据类型等基本信息）"
   ]
  },
  {
   "cell_type": "code",
   "execution_count": 6,
   "metadata": {},
   "outputs": [
    {
     "name": "stdout",
     "output_type": "stream",
     "text": [
      "该数据维度为2，形状为(1000, 11)，大小为11000\n"
     ]
    },
    {
     "data": {
      "text/html": [
       "<div>\n",
       "<style scoped>\n",
       "    .dataframe tbody tr th:only-of-type {\n",
       "        vertical-align: middle;\n",
       "    }\n",
       "\n",
       "    .dataframe tbody tr th {\n",
       "        vertical-align: top;\n",
       "    }\n",
       "\n",
       "    .dataframe thead th {\n",
       "        text-align: right;\n",
       "    }\n",
       "</style>\n",
       "<table border=\"1\" class=\"dataframe\">\n",
       "  <thead>\n",
       "    <tr style=\"text-align: right;\">\n",
       "      <th></th>\n",
       "      <th>year</th>\n",
       "      <th>ROEt</th>\n",
       "      <th>ATO</th>\n",
       "      <th>PM</th>\n",
       "      <th>LEV</th>\n",
       "      <th>GROWTH</th>\n",
       "      <th>PB</th>\n",
       "      <th>ARR</th>\n",
       "      <th>INV</th>\n",
       "      <th>ASSET</th>\n",
       "      <th>ROE</th>\n",
       "    </tr>\n",
       "  </thead>\n",
       "  <tbody>\n",
       "    <tr>\n",
       "      <th>count</th>\n",
       "      <td>1000.00000</td>\n",
       "      <td>1000.000000</td>\n",
       "      <td>1000.000000</td>\n",
       "      <td>1000.000000</td>\n",
       "      <td>1000.000000</td>\n",
       "      <td>1000.000000</td>\n",
       "      <td>1000.000000</td>\n",
       "      <td>1000.000000</td>\n",
       "      <td>1000.000000</td>\n",
       "      <td>1000.000000</td>\n",
       "      <td>1000.000000</td>\n",
       "    </tr>\n",
       "    <tr>\n",
       "      <th>mean</th>\n",
       "      <td>2002.50000</td>\n",
       "      <td>0.063486</td>\n",
       "      <td>0.430850</td>\n",
       "      <td>0.211826</td>\n",
       "      <td>0.921948</td>\n",
       "      <td>0.220826</td>\n",
       "      <td>2.879619</td>\n",
       "      <td>0.164758</td>\n",
       "      <td>0.104303</td>\n",
       "      <td>21.094031</td>\n",
       "      <td>0.390832</td>\n",
       "    </tr>\n",
       "    <tr>\n",
       "      <th>std</th>\n",
       "      <td>0.50025</td>\n",
       "      <td>0.503906</td>\n",
       "      <td>0.473936</td>\n",
       "      <td>0.189573</td>\n",
       "      <td>3.147128</td>\n",
       "      <td>2.159541</td>\n",
       "      <td>9.441645</td>\n",
       "      <td>0.940298</td>\n",
       "      <td>0.128173</td>\n",
       "      <td>0.881754</td>\n",
       "      <td>0.520557</td>\n",
       "    </tr>\n",
       "    <tr>\n",
       "      <th>min</th>\n",
       "      <td>2002.00000</td>\n",
       "      <td>-1.390000</td>\n",
       "      <td>-1.191000</td>\n",
       "      <td>-0.424000</td>\n",
       "      <td>-7.941000</td>\n",
       "      <td>-7.785000</td>\n",
       "      <td>-22.952000</td>\n",
       "      <td>-2.800000</td>\n",
       "      <td>-0.339000</td>\n",
       "      <td>18.462000</td>\n",
       "      <td>-1.164000</td>\n",
       "    </tr>\n",
       "    <tr>\n",
       "      <th>25%</th>\n",
       "      <td>2002.00000</td>\n",
       "      <td>-0.266500</td>\n",
       "      <td>0.118750</td>\n",
       "      <td>0.088000</td>\n",
       "      <td>-1.102500</td>\n",
       "      <td>-1.221000</td>\n",
       "      <td>-3.607250</td>\n",
       "      <td>-0.453000</td>\n",
       "      <td>0.013750</td>\n",
       "      <td>20.505750</td>\n",
       "      <td>0.054750</td>\n",
       "    </tr>\n",
       "    <tr>\n",
       "      <th>50%</th>\n",
       "      <td>2002.50000</td>\n",
       "      <td>0.062500</td>\n",
       "      <td>0.442500</td>\n",
       "      <td>0.215000</td>\n",
       "      <td>0.920000</td>\n",
       "      <td>0.247000</td>\n",
       "      <td>2.855500</td>\n",
       "      <td>0.179500</td>\n",
       "      <td>0.110000</td>\n",
       "      <td>21.095500</td>\n",
       "      <td>0.405500</td>\n",
       "    </tr>\n",
       "    <tr>\n",
       "      <th>75%</th>\n",
       "      <td>2003.00000</td>\n",
       "      <td>0.402250</td>\n",
       "      <td>0.756250</td>\n",
       "      <td>0.340000</td>\n",
       "      <td>3.023000</td>\n",
       "      <td>1.669250</td>\n",
       "      <td>9.190500</td>\n",
       "      <td>0.777250</td>\n",
       "      <td>0.191000</td>\n",
       "      <td>21.679250</td>\n",
       "      <td>0.711250</td>\n",
       "    </tr>\n",
       "    <tr>\n",
       "      <th>max</th>\n",
       "      <td>2003.00000</td>\n",
       "      <td>1.601000</td>\n",
       "      <td>1.927000</td>\n",
       "      <td>0.750000</td>\n",
       "      <td>10.239000</td>\n",
       "      <td>6.164000</td>\n",
       "      <td>32.591000</td>\n",
       "      <td>3.417000</td>\n",
       "      <td>0.609000</td>\n",
       "      <td>23.685000</td>\n",
       "      <td>5.285000</td>\n",
       "    </tr>\n",
       "  </tbody>\n",
       "</table>\n",
       "</div>"
      ],
      "text/plain": [
       "             year         ROEt          ATO           PM          LEV  \\\n",
       "count  1000.00000  1000.000000  1000.000000  1000.000000  1000.000000   \n",
       "mean   2002.50000     0.063486     0.430850     0.211826     0.921948   \n",
       "std       0.50025     0.503906     0.473936     0.189573     3.147128   \n",
       "min    2002.00000    -1.390000    -1.191000    -0.424000    -7.941000   \n",
       "25%    2002.00000    -0.266500     0.118750     0.088000    -1.102500   \n",
       "50%    2002.50000     0.062500     0.442500     0.215000     0.920000   \n",
       "75%    2003.00000     0.402250     0.756250     0.340000     3.023000   \n",
       "max    2003.00000     1.601000     1.927000     0.750000    10.239000   \n",
       "\n",
       "            GROWTH           PB          ARR          INV        ASSET  \\\n",
       "count  1000.000000  1000.000000  1000.000000  1000.000000  1000.000000   \n",
       "mean      0.220826     2.879619     0.164758     0.104303    21.094031   \n",
       "std       2.159541     9.441645     0.940298     0.128173     0.881754   \n",
       "min      -7.785000   -22.952000    -2.800000    -0.339000    18.462000   \n",
       "25%      -1.221000    -3.607250    -0.453000     0.013750    20.505750   \n",
       "50%       0.247000     2.855500     0.179500     0.110000    21.095500   \n",
       "75%       1.669250     9.190500     0.777250     0.191000    21.679250   \n",
       "max       6.164000    32.591000     3.417000     0.609000    23.685000   \n",
       "\n",
       "               ROE  \n",
       "count  1000.000000  \n",
       "mean      0.390832  \n",
       "std       0.520557  \n",
       "min      -1.164000  \n",
       "25%       0.054750  \n",
       "50%       0.405500  \n",
       "75%       0.711250  \n",
       "max       5.285000  "
      ]
     },
     "execution_count": 6,
     "metadata": {},
     "output_type": "execute_result"
    }
   ],
   "source": [
    "data = pd.read_csv(\"python期末考试数据.csv\")\n",
    "print(f\"该数据维度为{len(data.shape)}，形状为{data.shape}，大小为{data.size}\")\n",
    "data.describe()\n"
   ]
  },
  {
   "cell_type": "code",
   "execution_count": 10,
   "metadata": {},
   "outputs": [
    {
     "name": "stdout",
     "output_type": "stream",
     "text": [
      "<class 'pandas.core.frame.DataFrame'>\n",
      "RangeIndex: 1000 entries, 0 to 999\n",
      "Data columns (total 11 columns):\n",
      " #   Column  Non-Null Count  Dtype  \n",
      "---  ------  --------------  -----  \n",
      " 0   year    1000 non-null   int64  \n",
      " 1   ROEt    1000 non-null   float64\n",
      " 2   ATO     1000 non-null   float64\n",
      " 3   PM      1000 non-null   float64\n",
      " 4   LEV     1000 non-null   float64\n",
      " 5   GROWTH  1000 non-null   float64\n",
      " 6   PB      1000 non-null   float64\n",
      " 7   ARR     1000 non-null   float64\n",
      " 8   INV     1000 non-null   float64\n",
      " 9   ASSET   1000 non-null   float64\n",
      " 10  ROE     1000 non-null   float64\n",
      "dtypes: float64(10), int64(1)\n",
      "memory usage: 86.1 KB\n"
     ]
    },
    {
     "data": {
      "text/plain": [
       "NoneType"
      ]
     },
     "execution_count": 10,
     "metadata": {},
     "output_type": "execute_result"
    }
   ],
   "source": [
    "data.info()"
   ]
  },
  {
   "cell_type": "markdown",
   "metadata": {},
   "source": [
    "2.2 求数据中因变量ROE的基本统计量（最小值，最大值，均值，标准差）"
   ]
  },
  {
   "cell_type": "code",
   "execution_count": null,
   "metadata": {},
   "outputs": [],
   "source": [
    "data['ROE'].describe()\n",
    "# 见下min, max, mean, std\n",
    "# 或者data.min(),data.max(),data.mean(),data.std()"
   ]
  },
  {
   "cell_type": "markdown",
   "metadata": {},
   "source": [
    "2.3 创建一个画布，将画布划分为 $3\\times3$ 的9个子图，依次绘制因变量ROE与其它9个自变量的散点图。"
   ]
  },
  {
   "cell_type": "code",
   "execution_count": null,
   "metadata": {},
   "outputs": [],
   "source": [
    "plt.figure(figsize=(9,9))\n",
    "for i in range(9):\n",
    "    plt.subplot(3,3,i+1)\n",
    "    plt.scatter(data.iloc[:, i], data.iloc[:, 9], s=8)\n",
    "    plt.ylabel(\"ROE\")\n",
    "    plt.xlabel(data.iloc[:, i].name)\n"
   ]
  },
  {
   "cell_type": "markdown",
   "metadata": {},
   "source": [
    "2.4 创建一个画布，在这个画布上绘制数据中10个变量的箱线图\n"
   ]
  },
  {
   "cell_type": "code",
   "execution_count": null,
   "metadata": {},
   "outputs": [],
   "source": [
    "# plt.figure(figsize=(12, 8))\n",
    "plt.boxplot(data.iloc[:, 1:], labels=data.columns[1:],\n",
    "            whis=2, flierprops={\n",
    "    'marker': 'o', 'markerfacecolor': 'r', 'color': 'k'},\n",
    "    patch_artist=True, boxprops={\n",
    "    'color': 'k', 'facecolor': 'g'}, vert=False)\n",
    "plt.tight_layout()\n",
    "plt.show()"
   ]
  },
  {
   "cell_type": "markdown",
   "metadata": {},
   "source": [
    "2.5 求数据中10个变量的相关系数矩阵\n"
   ]
  },
  {
   "cell_type": "code",
   "execution_count": null,
   "metadata": {},
   "outputs": [],
   "source": [
    "names = data.columns[1:]\n",
    "correlations = data.iloc[:, 1:].corr()\n",
    "correlations\n"
   ]
  },
  {
   "cell_type": "code",
   "execution_count": null,
   "metadata": {},
   "outputs": [],
   "source": [
    "fig = plt.figure(figsize=(7, 7))\n",
    "ax = fig.add_subplot(111)\n",
    "cax = ax.matshow(correlations, vmin=-1, vmax=1)\n",
    "# 具体值懒得加了\n",
    "fig.colorbar(cax)\n",
    "ticks = np.arange(0, 10, 1)\n",
    "ax.set_xticks(ticks)\n",
    "ax.set_yticks(ticks)\n",
    "ax.set_xticklabels(names)\n",
    "ax.set_yticklabels(names)\n",
    "plt.title(\"相关性系数图\")\n",
    "plt.tight_layout()\n"
   ]
  }
 ],
 "metadata": {
  "interpreter": {
   "hash": "ed30ea7ea1cbcc5d6cdd427c80ab89fed01beb16106f90368e1dac31164d7c67"
  },
  "kernelspec": {
   "display_name": "Python 3.8.3 64-bit",
   "language": "python",
   "name": "python3"
  },
  "language_info": {
   "codemirror_mode": {
    "name": "ipython",
    "version": 3
   },
   "file_extension": ".py",
   "mimetype": "text/x-python",
   "name": "python",
   "nbconvert_exporter": "python",
   "pygments_lexer": "ipython3",
   "version": "3.8.10"
  },
  "orig_nbformat": 4
 },
 "nbformat": 4,
 "nbformat_minor": 2
}
