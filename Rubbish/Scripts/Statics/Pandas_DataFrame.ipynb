{
 "cells": [
  {
   "cell_type": "markdown",
   "id": "44d545fe",
   "metadata": {},
   "source": [
    "# 第4章 Pandas数据分析包"
   ]
  },
  {
   "cell_type": "code",
   "execution_count": 4,
   "id": "8d2bd382",
   "metadata": {},
   "outputs": [],
   "source": [
    "import numpy as np\n",
    "import pandas as pd"
   ]
  },
  {
   "cell_type": "markdown",
   "id": "952856c6",
   "metadata": {},
   "source": [
    "### 主要内容"
   ]
  },
  {
   "cell_type": "markdown",
   "id": "d387f565",
   "metadata": {},
   "source": [
    "* Pandas的基本数据结构：Series（Time-Series）和DataFrame（Panel）\n",
    "+ Series的生成和基本操作\n",
    "+ DataFrame的生成和基本操作(增删改查，聚合，基本统计计算等）\n",
    "- 案例"
   ]
  },
  {
   "cell_type": "markdown",
   "id": "99e95178",
   "metadata": {},
   "source": [
    "### 2、DataFrame的生成和基本操作"
   ]
  },
  {
   "cell_type": "markdown",
   "id": "40f1f13a",
   "metadata": {},
   "source": [
    "#### 2.1、DataFrame生成的常见两种方式：\n",
    "\n",
    "通过数组生成和通过字典生成"
   ]
  },
  {
   "cell_type": "code",
   "execution_count": 5,
   "id": "f82c5d91",
   "metadata": {},
   "outputs": [
    {
     "name": "stdout",
     "output_type": "stream",
     "text": [
      "                   A         B         C\n",
      "2018-07-25  1.400955  0.025317  1.530736\n",
      "2018-07-26  1.455474 -0.590277  1.392449\n",
      "2018-07-27 -0.989444  1.050991  0.097803\n",
      "2018-07-28 -0.816127 -0.293484  0.172314\n",
      "2018-07-29 -0.854432  1.382547  0.120918\n",
      "2018-07-30  0.740705 -1.213021  0.302397\n",
      "(6, 3)\n",
      "[[ 1.40095521  0.0253166   1.53073607]\n",
      " [ 1.45547424 -0.59027676  1.39244889]\n",
      " [-0.98944364  1.05099106  0.09780261]\n",
      " [-0.816127   -0.29348424  0.1723138 ]\n",
      " [-0.85443172  1.38254715  0.12091771]\n",
      " [ 0.74070513 -1.21302114  0.30239738]]\n",
      "DatetimeIndex(['2018-07-25', '2018-07-26', '2018-07-27', '2018-07-28',\n",
      "               '2018-07-29', '2018-07-30'],\n",
      "              dtype='datetime64[ns]', freq='D')\n",
      "Index(['A', 'B', 'C'], dtype='object')\n"
     ]
    }
   ],
   "source": [
    "#生成一个6*3列的DataFrame df\n",
    "#以日期为主索引，从20180725开始，往后6天\n",
    "dates=pd.date_range('20180725',periods=6)\n",
    "#生成6行3列的随机二维DataFrame\n",
    "#使用日期作为行索引，列名为A，B，C\n",
    "df1 = pd.DataFrame(np.random.randn(6,3),index=dates,columns=['A','B','C'])\n",
    "print(df1)\n",
    "print(df1.shape)\n",
    "print(df1.values)\n",
    "print(df1.index)\n",
    "print(df1.columns)"
   ]
  },
  {
   "cell_type": "markdown",
   "id": "f7c6e6b0",
   "metadata": {},
   "source": [
    "DataFrame除了index名以外，还多了一个columns名"
   ]
  },
  {
   "cell_type": "code",
   "execution_count": 6,
   "id": "71584821",
   "metadata": {},
   "outputs": [
    {
     "name": "stdout",
     "output_type": "stream",
     "text": [
      "字典data:\n",
      "{'name': ['Python', 'Java', 'C++'], 'score': [95, 85, 95], 'year': [2018, 2017, 2016]}\n",
      "DataFrame s3:\n",
      "     name  score  year\n",
      "0  Python     95  2018\n",
      "1    Java     85  2017\n",
      "2     C++     95  2016\n",
      "s3.shape= (3, 3)\n",
      "s3.index= RangeIndex(start=0, stop=3, step=1)\n",
      "s3.values= [['Python' 95 2018]\n",
      " ['Java' 85 2017]\n",
      " ['C++' 95 2016]]\n"
     ]
    }
   ],
   "source": [
    "#通过字典data来构造二维数组s3\n",
    "data = {'name':['Python','Java','C++'], \n",
    "                'score':[95,85,95], \n",
    "                'year':[2018, 2017, 2016]} \n",
    "print('字典data:')\n",
    "print(data)\n",
    "s3 = pd.DataFrame(data)\n",
    "print('DataFrame s3:')\n",
    "print(s3)\n",
    "print('s3.shape=',s3.shape)\n",
    "print('s3.index=',s3.index)\n",
    "print('s3.values=',s3.values)"
   ]
  },
  {
   "cell_type": "code",
   "execution_count": 7,
   "id": "59392d20",
   "metadata": {},
   "outputs": [
    {
     "name": "stdout",
     "output_type": "stream",
     "text": [
      "构造新的DataFrame:\n",
      "df_1:\n",
      "     A          B    C  D      E    F\n",
      "0  1.0 2018-03-10  1.0  3   test  foo\n",
      "1  1.0 2018-03-10  1.0  3  train  foo\n",
      "2  1.0 2018-03-10  1.0  3   test  foo\n",
      "3  1.0 2018-03-10  1.0  3  train  foo\n",
      "各列数据类型:\n",
      "A           float64\n",
      "B    datetime64[ns]\n",
      "C           float32\n",
      "D             int32\n",
      "E          category\n",
      "F            object\n",
      "dtype: object\n"
     ]
    }
   ],
   "source": [
    "#创建特定数据的DataFrame\n",
    "print('构造新的DataFrame:')\n",
    "df_1=pd.DataFrame({'A' : 1.,\n",
    "                    'B' : pd.Timestamp('20180310'),\n",
    "                    'C' : pd.Series(1,index=list(range(4)),dtype='float32'),\n",
    "                    'D' : np.array([3] * 4,dtype='int32'),\n",
    "                    'E' : pd.Categorical([\"test\",\"train\",\"test\",\"train\"]),\n",
    "                    'F' : 'foo'\n",
    "                    })\n",
    "print('df_1:')\n",
    "print(df_1)\n",
    "print('各列数据类型:')\n",
    "print(df_1.dtypes)"
   ]
  },
  {
   "cell_type": "markdown",
   "id": "e426a955",
   "metadata": {},
   "source": [
    "#### 2.2、DataFrame数据的访问：切片访问"
   ]
  },
  {
   "cell_type": "code",
   "execution_count": 8,
   "id": "612fef7a",
   "metadata": {},
   "outputs": [
    {
     "name": "stdout",
     "output_type": "stream",
     "text": [
      "df1:\n",
      "                   A         B         C\n",
      "2018-07-25 -0.771811 -0.608586 -0.769815\n",
      "2018-07-26 -2.325152  0.374092  0.388037\n",
      "2018-07-27 -0.896952  0.843832  0.470933\n",
      "2018-07-28  1.507442 -0.702480 -0.215718\n",
      "2018-07-29  0.661898 -0.510146  0.186526\n",
      "2018-07-30  0.148548 -0.272339 -0.354321\n",
      "2018-07-31 -1.242165 -0.239464  0.992399\n",
      "2018-08-01 -0.962540 -0.864446  0.039083\n",
      "2018-08-02 -0.407141 -2.155051 -0.422566\n",
      "2018-08-03  1.791979  0.515821  2.121954\n",
      "2018-08-04  0.770419 -0.641120 -0.023831\n",
      "2018-08-05  0.306227 -0.520640  0.983310\n",
      "2018-08-06 -0.461090 -2.290732 -0.987071\n",
      "2018-08-07  1.372108  0.142054 -1.474311\n",
      "2018-08-08 -0.274292 -0.606328 -0.398800\n",
      "2018-08-09  1.766215 -0.294180  2.119684\n",
      "2018-08-10  0.710355  1.252364  1.067018\n",
      "2018-08-11 -0.112260  1.564811 -0.749187\n",
      "2018-08-12  1.419388  1.975647  0.079599\n",
      "2018-08-13  0.612926  0.657806 -0.829383\n",
      "2018-08-14 -1.011711  0.507931  1.525198\n",
      "2018-08-15  0.687195  1.243383 -1.751538\n",
      "2018-08-16 -0.977160  2.421428 -0.949361\n",
      "2018-08-17 -0.545597 -0.023073  0.997880\n",
      "2018-08-18 -0.396819  0.127531 -2.548215\n",
      "2018-08-19 -0.605128 -1.297398 -0.079915\n",
      "2018-08-20 -0.373850 -0.263413  0.292781\n",
      "2018-08-21 -0.952942 -0.241057 -1.183509\n",
      "2018-08-22  0.495371 -0.353354 -2.321969\n",
      "2018-08-23  0.897395  0.073664 -0.031068\n"
     ]
    }
   ],
   "source": [
    "# 生成一个6*3列的DataFrame df\n",
    "# 以日期为主索引，从20180725开始，往后30天\n",
    "dates = pd.date_range('20180725', periods=30)\n",
    "# 生成6行3列的随机二维DataFrame\n",
    "# 使用日期作为行索引，列名为A，B，C\n",
    "df1 = pd.DataFrame(np.random.randn(30, 3), index=dates,\n",
    "                   columns=['A', 'B', 'C'])\n",
    "print('df1:')\n",
    "print(df1)\n"
   ]
  },
  {
   "cell_type": "markdown",
   "id": "aaf96970",
   "metadata": {},
   "source": [
    "访问列:DataFrame是带有标签的二维数组，每个标签相当于一列的列名，所以可以像字典访问某个key的值一样，使用对应的列名，就可以实现单列数据的访问。"
   ]
  },
  {
   "cell_type": "code",
   "execution_count": 18,
   "id": "f1f8d3af",
   "metadata": {},
   "outputs": [
    {
     "data": {
      "text/plain": [
       "2018-07-25   -0.771811\n",
       "2018-07-26   -2.325152\n",
       "2018-07-27   -0.896952\n",
       "2018-07-28    1.507442\n",
       "2018-07-29    0.661898\n",
       "Freq: D, Name: A, dtype: float64"
      ]
     },
     "execution_count": 18,
     "metadata": {},
     "output_type": "execute_result"
    }
   ],
   "source": [
    "df1['A'].head()"
   ]
  },
  {
   "cell_type": "code",
   "execution_count": 17,
   "id": "7d7137c9",
   "metadata": {},
   "outputs": [
    {
     "data": {
      "text/plain": [
       "2018-07-25   -0.771811\n",
       "2018-07-26   -2.325152\n",
       "2018-07-27   -0.896952\n",
       "2018-07-28    1.507442\n",
       "2018-07-29    0.661898\n",
       "Freq: D, Name: A, dtype: float64"
      ]
     },
     "execution_count": 17,
     "metadata": {},
     "output_type": "execute_result"
    }
   ],
   "source": [
    "df1.A.head() #类似于R语言dataframe的df1$a"
   ]
  },
  {
   "cell_type": "code",
   "execution_count": 16,
   "id": "e81d3f55",
   "metadata": {},
   "outputs": [
    {
     "data": {
      "text/html": [
       "<div>\n",
       "<style scoped>\n",
       "    .dataframe tbody tr th:only-of-type {\n",
       "        vertical-align: middle;\n",
       "    }\n",
       "\n",
       "    .dataframe tbody tr th {\n",
       "        vertical-align: top;\n",
       "    }\n",
       "\n",
       "    .dataframe thead th {\n",
       "        text-align: right;\n",
       "    }\n",
       "</style>\n",
       "<table border=\"1\" class=\"dataframe\">\n",
       "  <thead>\n",
       "    <tr style=\"text-align: right;\">\n",
       "      <th></th>\n",
       "      <th>A</th>\n",
       "      <th>B</th>\n",
       "    </tr>\n",
       "  </thead>\n",
       "  <tbody>\n",
       "    <tr>\n",
       "      <th>2018-07-25</th>\n",
       "      <td>-0.771811</td>\n",
       "      <td>-0.608586</td>\n",
       "    </tr>\n",
       "    <tr>\n",
       "      <th>2018-07-26</th>\n",
       "      <td>-2.325152</td>\n",
       "      <td>0.374092</td>\n",
       "    </tr>\n",
       "    <tr>\n",
       "      <th>2018-07-27</th>\n",
       "      <td>-0.896952</td>\n",
       "      <td>0.843832</td>\n",
       "    </tr>\n",
       "    <tr>\n",
       "      <th>2018-07-28</th>\n",
       "      <td>1.507442</td>\n",
       "      <td>-0.702480</td>\n",
       "    </tr>\n",
       "    <tr>\n",
       "      <th>2018-07-29</th>\n",
       "      <td>0.661898</td>\n",
       "      <td>-0.510146</td>\n",
       "    </tr>\n",
       "  </tbody>\n",
       "</table>\n",
       "</div>"
      ],
      "text/plain": [
       "                   A         B\n",
       "2018-07-25 -0.771811 -0.608586\n",
       "2018-07-26 -2.325152  0.374092\n",
       "2018-07-27 -0.896952  0.843832\n",
       "2018-07-28  1.507442 -0.702480\n",
       "2018-07-29  0.661898 -0.510146"
      ]
     },
     "execution_count": 16,
     "metadata": {},
     "output_type": "execute_result"
    }
   ],
   "source": [
    "df1[['A','B']].head()"
   ]
  },
  {
   "cell_type": "markdown",
   "id": "6d995092",
   "metadata": {},
   "source": [
    "访问某一列的几行：单一列是一个一维的Series，所以按照Series访问就行"
   ]
  },
  {
   "cell_type": "code",
   "execution_count": 12,
   "id": "15171ea6",
   "metadata": {},
   "outputs": [
    {
     "name": "stdout",
     "output_type": "stream",
     "text": [
      "2018-07-25   -0.771811\n",
      "2018-07-26   -2.325152\n",
      "2018-07-27   -0.896952\n",
      "2018-07-28    1.507442\n",
      "2018-07-29    0.661898\n",
      "2018-07-30    0.148548\n",
      "2018-07-31   -1.242165\n",
      "2018-08-01   -0.962540\n",
      "2018-08-02   -0.407141\n",
      "2018-08-03    1.791979\n",
      "2018-08-04    0.770419\n",
      "2018-08-05    0.306227\n",
      "2018-08-06   -0.461090\n",
      "2018-08-07    1.372108\n",
      "2018-08-08   -0.274292\n",
      "2018-08-09    1.766215\n",
      "2018-08-10    0.710355\n",
      "2018-08-11   -0.112260\n",
      "2018-08-12    1.419388\n",
      "2018-08-13    0.612926\n",
      "2018-08-14   -1.011711\n",
      "2018-08-15    0.687195\n",
      "2018-08-16   -0.977160\n",
      "2018-08-17   -0.545597\n",
      "2018-08-18   -0.396819\n",
      "2018-08-19   -0.605128\n",
      "2018-08-20   -0.373850\n",
      "2018-08-21   -0.952942\n",
      "2018-08-22    0.495371\n",
      "2018-08-23    0.897395\n",
      "Freq: D, Name: A, dtype: float64\n",
      "df1的第A列第1个元素是：\n",
      " -0.771811458994513\n",
      "df1的第A列的前两个元素是：\n",
      " 2018-07-25   -0.771811\n",
      "2018-07-26   -2.325152\n",
      "2018-07-27   -0.896952\n",
      "Freq: D, Name: A, dtype: float64\n"
     ]
    }
   ],
   "source": [
    "print(\"df1的第A列第1个元素是：\\n\",df1['A']['2018-07-25'])\n",
    "print(\"df1的第A列的前两个元素是：\\n\",df1['A'][0:3])"
   ]
  },
  {
   "cell_type": "markdown",
   "id": "622f8c6c",
   "metadata": {},
   "source": [
    "访问行"
   ]
  },
  {
   "cell_type": "code",
   "execution_count": 13,
   "id": "e77ed0e4",
   "metadata": {},
   "outputs": [],
   "source": [
    "#df1['2018-07-25']\n",
    "#df1[0]"
   ]
  },
  {
   "cell_type": "code",
   "execution_count": 14,
   "id": "8caaa23a",
   "metadata": {},
   "outputs": [
    {
     "data": {
      "text/html": [
       "<div>\n",
       "<style scoped>\n",
       "    .dataframe tbody tr th:only-of-type {\n",
       "        vertical-align: middle;\n",
       "    }\n",
       "\n",
       "    .dataframe tbody tr th {\n",
       "        vertical-align: top;\n",
       "    }\n",
       "\n",
       "    .dataframe thead th {\n",
       "        text-align: right;\n",
       "    }\n",
       "</style>\n",
       "<table border=\"1\" class=\"dataframe\">\n",
       "  <thead>\n",
       "    <tr style=\"text-align: right;\">\n",
       "      <th></th>\n",
       "      <th>A</th>\n",
       "      <th>B</th>\n",
       "      <th>C</th>\n",
       "    </tr>\n",
       "  </thead>\n",
       "  <tbody>\n",
       "    <tr>\n",
       "      <th>2018-07-25</th>\n",
       "      <td>-0.771811</td>\n",
       "      <td>-0.608586</td>\n",
       "      <td>-0.769815</td>\n",
       "    </tr>\n",
       "    <tr>\n",
       "      <th>2018-07-26</th>\n",
       "      <td>-2.325152</td>\n",
       "      <td>0.374092</td>\n",
       "      <td>0.388037</td>\n",
       "    </tr>\n",
       "  </tbody>\n",
       "</table>\n",
       "</div>"
      ],
      "text/plain": [
       "                   A         B         C\n",
       "2018-07-25 -0.771811 -0.608586 -0.769815\n",
       "2018-07-26 -2.325152  0.374092  0.388037"
      ]
     },
     "execution_count": 14,
     "metadata": {},
     "output_type": "execute_result"
    }
   ],
   "source": [
    "df1[0:2]"
   ]
  },
  {
   "cell_type": "markdown",
   "id": "3fabe0d7",
   "metadata": {},
   "source": [
    "df[ ]后面接列名，默认对列进行访问，接数字范围，默认对行进行访问"
   ]
  },
  {
   "cell_type": "code",
   "execution_count": 21,
   "id": "ac05c2f9",
   "metadata": {},
   "outputs": [
    {
     "data": {
      "text/plain": [
       "2018-07-25   -0.771811\n",
       "Freq: D, Name: A, dtype: float64"
      ]
     },
     "execution_count": 21,
     "metadata": {},
     "output_type": "execute_result"
    }
   ],
   "source": [
    "df1[0:1]['A']"
   ]
  },
  {
   "cell_type": "markdown",
   "id": "dc5d3842",
   "metadata": {},
   "source": [
    "dataframe也可以通过head和tail得到多行数据"
   ]
  },
  {
   "cell_type": "code",
   "execution_count": null,
   "id": "ad4aa537",
   "metadata": {},
   "outputs": [
    {
     "data": {
      "text/html": [
       "<div>\n",
       "<style scoped>\n",
       "    .dataframe tbody tr th:only-of-type {\n",
       "        vertical-align: middle;\n",
       "    }\n",
       "\n",
       "    .dataframe tbody tr th {\n",
       "        vertical-align: top;\n",
       "    }\n",
       "\n",
       "    .dataframe thead th {\n",
       "        text-align: right;\n",
       "    }\n",
       "</style>\n",
       "<table border=\"1\" class=\"dataframe\">\n",
       "  <thead>\n",
       "    <tr style=\"text-align: right;\">\n",
       "      <th></th>\n",
       "      <th>A</th>\n",
       "      <th>B</th>\n",
       "      <th>C</th>\n",
       "    </tr>\n",
       "  </thead>\n",
       "  <tbody>\n",
       "    <tr>\n",
       "      <th>2018-07-25</th>\n",
       "      <td>0.944705</td>\n",
       "      <td>0.488802</td>\n",
       "      <td>-1.367680</td>\n",
       "    </tr>\n",
       "    <tr>\n",
       "      <th>2018-07-26</th>\n",
       "      <td>-0.093890</td>\n",
       "      <td>0.532532</td>\n",
       "      <td>1.064494</td>\n",
       "    </tr>\n",
       "    <tr>\n",
       "      <th>2018-07-27</th>\n",
       "      <td>1.425078</td>\n",
       "      <td>0.423769</td>\n",
       "      <td>1.179328</td>\n",
       "    </tr>\n",
       "    <tr>\n",
       "      <th>2018-07-28</th>\n",
       "      <td>0.135038</td>\n",
       "      <td>-0.100141</td>\n",
       "      <td>1.043514</td>\n",
       "    </tr>\n",
       "    <tr>\n",
       "      <th>2018-07-29</th>\n",
       "      <td>0.609194</td>\n",
       "      <td>1.750651</td>\n",
       "      <td>-0.496497</td>\n",
       "    </tr>\n",
       "  </tbody>\n",
       "</table>\n",
       "</div>"
      ],
      "text/plain": [
       "                   A         B         C\n",
       "2018-07-25  0.944705  0.488802 -1.367680\n",
       "2018-07-26 -0.093890  0.532532  1.064494\n",
       "2018-07-27  1.425078  0.423769  1.179328\n",
       "2018-07-28  0.135038 -0.100141  1.043514\n",
       "2018-07-29  0.609194  1.750651 -0.496497"
      ]
     },
     "execution_count": 68,
     "metadata": {},
     "output_type": "execute_result"
    }
   ],
   "source": [
    "df1.head()"
   ]
  },
  {
   "cell_type": "code",
   "execution_count": null,
   "id": "2be47bad",
   "metadata": {},
   "outputs": [
    {
     "data": {
      "text/html": [
       "<div>\n",
       "<style scoped>\n",
       "    .dataframe tbody tr th:only-of-type {\n",
       "        vertical-align: middle;\n",
       "    }\n",
       "\n",
       "    .dataframe tbody tr th {\n",
       "        vertical-align: top;\n",
       "    }\n",
       "\n",
       "    .dataframe thead th {\n",
       "        text-align: right;\n",
       "    }\n",
       "</style>\n",
       "<table border=\"1\" class=\"dataframe\">\n",
       "  <thead>\n",
       "    <tr style=\"text-align: right;\">\n",
       "      <th></th>\n",
       "      <th>A</th>\n",
       "      <th>B</th>\n",
       "      <th>C</th>\n",
       "    </tr>\n",
       "  </thead>\n",
       "  <tbody>\n",
       "    <tr>\n",
       "      <th>2018-08-19</th>\n",
       "      <td>-0.815153</td>\n",
       "      <td>0.071628</td>\n",
       "      <td>1.267925</td>\n",
       "    </tr>\n",
       "    <tr>\n",
       "      <th>2018-08-20</th>\n",
       "      <td>0.113795</td>\n",
       "      <td>-0.268164</td>\n",
       "      <td>0.966678</td>\n",
       "    </tr>\n",
       "    <tr>\n",
       "      <th>2018-08-21</th>\n",
       "      <td>-2.554541</td>\n",
       "      <td>-0.146669</td>\n",
       "      <td>-0.109613</td>\n",
       "    </tr>\n",
       "    <tr>\n",
       "      <th>2018-08-22</th>\n",
       "      <td>0.087815</td>\n",
       "      <td>-0.297130</td>\n",
       "      <td>0.385605</td>\n",
       "    </tr>\n",
       "    <tr>\n",
       "      <th>2018-08-23</th>\n",
       "      <td>0.247919</td>\n",
       "      <td>0.156313</td>\n",
       "      <td>0.593856</td>\n",
       "    </tr>\n",
       "  </tbody>\n",
       "</table>\n",
       "</div>"
      ],
      "text/plain": [
       "                   A         B         C\n",
       "2018-08-19 -0.815153  0.071628  1.267925\n",
       "2018-08-20  0.113795 -0.268164  0.966678\n",
       "2018-08-21 -2.554541 -0.146669 -0.109613\n",
       "2018-08-22  0.087815 -0.297130  0.385605\n",
       "2018-08-23  0.247919  0.156313  0.593856"
      ]
     },
     "execution_count": 70,
     "metadata": {},
     "output_type": "execute_result"
    }
   ],
   "source": [
    "df1.tail()"
   ]
  },
  {
   "cell_type": "markdown",
   "id": "9cf29cf7",
   "metadata": {},
   "source": [
    "** 切片访问loc,iloc: df1.loc[需要的行名，需要的列名]， df1.iloc[行的范围，列的范围]**"
   ]
  },
  {
   "cell_type": "code",
   "execution_count": null,
   "id": "fc249eae",
   "metadata": {
    "scrolled": true
   },
   "outputs": [
    {
     "name": "stdout",
     "output_type": "stream",
     "text": [
      "利用loc访问：\n",
      "                    A         B\n",
      "2018-07-25 -0.824008  0.073868\n",
      "2018-07-27  0.826779 -0.838580\n"
     ]
    }
   ],
   "source": [
    "print(\"利用loc访问：\\n\",df1.loc[['2018-07-25','2018-07-27'],['A','B']])"
   ]
  },
  {
   "cell_type": "code",
   "execution_count": null,
   "id": "fd8ab4d9",
   "metadata": {},
   "outputs": [
    {
     "name": "stdout",
     "output_type": "stream",
     "text": [
      "利用iloc访问：\n",
      "                    A         B\n",
      "2018-07-25 -0.824008  0.073868\n",
      "2018-07-26 -0.550505  0.013808\n",
      "2018-07-27  0.826779 -0.838580\n"
     ]
    }
   ],
   "source": [
    "print(\"利用iloc访问：\\n\",df1.iloc[0:3,0:2])"
   ]
  },
  {
   "cell_type": "code",
   "execution_count": 22,
   "id": "9576b527",
   "metadata": {},
   "outputs": [
    {
     "name": "stdout",
     "output_type": "stream",
     "text": [
      "利用loc访问第一,二列：\n",
      "                    A         B\n",
      "2018-07-25 -0.771811 -0.608586\n",
      "2018-07-26 -2.325152  0.374092\n",
      "2018-07-27 -0.896952  0.843832\n",
      "2018-07-28  1.507442 -0.702480\n",
      "2018-07-29  0.661898 -0.510146\n"
     ]
    }
   ],
   "source": [
    "print(\"利用loc访问第一,二列：\\n\",df1.loc[:,['A','B']].head())"
   ]
  },
  {
   "cell_type": "code",
   "execution_count": 23,
   "id": "ccf15d2a",
   "metadata": {},
   "outputs": [
    {
     "name": "stdout",
     "output_type": "stream",
     "text": [
      "利用iloc访问第一,二列：\n",
      "                    A         B\n",
      "2018-07-25 -0.771811 -0.608586\n",
      "2018-07-26 -2.325152  0.374092\n",
      "2018-07-27 -0.896952  0.843832\n",
      "2018-07-28  1.507442 -0.702480\n",
      "2018-07-29  0.661898 -0.510146\n"
     ]
    }
   ],
   "source": [
    "print(\"利用iloc访问第一,二列：\\n\",df1.iloc[:,[0,1]].head())"
   ]
  },
  {
   "cell_type": "code",
   "execution_count": null,
   "id": "2e02418a",
   "metadata": {},
   "outputs": [
    {
     "name": "stdout",
     "output_type": "stream",
     "text": [
      "利用loc访问第一,二列：\n",
      "                    A         C\n",
      "2018-07-25  0.944705 -1.367680\n",
      "2018-08-20  0.113795  0.966678\n"
     ]
    }
   ],
   "source": [
    "print(\"利用loc访问：\\n\",df1.loc[['2018-07-25','2018-08-20'],['A','C']])"
   ]
  },
  {
   "cell_type": "code",
   "execution_count": null,
   "id": "df0aec59",
   "metadata": {},
   "outputs": [
    {
     "name": "stdout",
     "output_type": "stream",
     "text": [
      "：\n",
      "                    A         C\n",
      "2018-07-25  0.944705 -1.367680\n",
      "2018-08-20  0.113795  0.966678\n"
     ]
    }
   ],
   "source": [
    "print(\"：\\n\",df1.iloc[[0,26],[0,2]])"
   ]
  },
  {
   "cell_type": "markdown",
   "id": "7c28d1eb",
   "metadata": {},
   "source": [
    "#### 3.3、DataFrame数据的操作：增删改查"
   ]
  },
  {
   "cell_type": "markdown",
   "id": "57accfda",
   "metadata": {},
   "source": [
    "增加列"
   ]
  },
  {
   "cell_type": "code",
   "execution_count": null,
   "id": "ced0f8ad",
   "metadata": {},
   "outputs": [],
   "source": [
    "df1['D'] = np.random.randn(30)  # 直接增加一个标签\n",
    "df1['E'] = 100\n"
   ]
  },
  {
   "cell_type": "code",
   "execution_count": 24,
   "id": "8746c240",
   "metadata": {},
   "outputs": [
    {
     "name": "stdout",
     "output_type": "stream",
     "text": [
      "增加列后的df1：\n",
      "                    A         B         C\n",
      "2018-07-25 -0.771811 -0.608586 -0.769815\n",
      "2018-07-26 -2.325152  0.374092  0.388037\n",
      "2018-07-27 -0.896952  0.843832  0.470933\n",
      "2018-07-28  1.507442 -0.702480 -0.215718\n",
      "2018-07-29  0.661898 -0.510146  0.186526\n"
     ]
    }
   ],
   "source": [
    "print('增加列后的df1：\\n',df1.head())"
   ]
  },
  {
   "cell_type": "markdown",
   "id": "aa2194e3",
   "metadata": {},
   "source": [
    "增加行：借助loc"
   ]
  },
  {
   "cell_type": "code",
   "execution_count": null,
   "id": "37c69902",
   "metadata": {},
   "outputs": [],
   "source": [
    "df1.loc['2018-08-24'] = np.random.randn(5)"
   ]
  },
  {
   "cell_type": "code",
   "execution_count": null,
   "id": "6bcd142f",
   "metadata": {},
   "outputs": [
    {
     "name": "stdout",
     "output_type": "stream",
     "text": [
      "增加行后的df1：\n",
      "                             A         B         C         D          E\n",
      "2018-07-25 00:00:00 -1.560964 -0.569692 -1.085795 -1.993068  100.00000\n",
      "2018-07-26 00:00:00  0.617043 -0.699993 -0.098020  0.662120  100.00000\n",
      "2018-07-27 00:00:00 -1.047988  2.394908 -0.330180 -0.510555  100.00000\n",
      "2018-07-28 00:00:00 -0.045544  0.391090 -0.017925 -1.078149  100.00000\n",
      "2018-07-29 00:00:00 -0.342511 -1.906578  0.555677 -0.039681  100.00000\n",
      "2018-07-30 00:00:00  0.081707 -0.254454  0.992761  0.619298  100.00000\n",
      "2018-07-31 00:00:00  0.368610 -0.355114 -0.923982 -0.641986  100.00000\n",
      "2018-08-01 00:00:00 -0.420090 -0.277469  0.645901  0.002577  100.00000\n",
      "2018-08-02 00:00:00  0.834372 -0.068587 -0.323400 -0.473160  100.00000\n",
      "2018-08-03 00:00:00  0.595333 -1.309837  0.216276 -1.110158  100.00000\n",
      "2018-08-04 00:00:00  0.822070  1.104194  0.496328  0.224245  100.00000\n",
      "2018-08-05 00:00:00  0.604401 -0.769626 -1.495632  0.038127  100.00000\n",
      "2018-08-06 00:00:00  0.061232  0.723341 -0.043580  1.053568  100.00000\n",
      "2018-08-07 00:00:00 -0.298421 -0.349703  0.697284 -3.100199  100.00000\n",
      "2018-08-08 00:00:00  0.633400  0.950522 -0.288768 -0.044777  100.00000\n",
      "2018-08-09 00:00:00 -0.588400  0.497445  0.442685  2.183090  100.00000\n",
      "2018-08-10 00:00:00 -0.736865 -0.942345 -1.594637  0.570756  100.00000\n",
      "2018-08-11 00:00:00  0.174782 -1.367314 -0.773715 -0.262740  100.00000\n",
      "2018-08-12 00:00:00  0.449917 -0.605777  1.927381  1.493459  100.00000\n",
      "2018-08-13 00:00:00 -0.315847 -0.811842  0.249570  0.161830  100.00000\n",
      "2018-08-14 00:00:00 -1.492560  1.860030  1.194173 -0.406526  100.00000\n",
      "2018-08-15 00:00:00  0.445013 -0.426797 -0.340907 -0.136818  100.00000\n",
      "2018-08-16 00:00:00 -1.432283  1.782190  1.407405  1.002649  100.00000\n",
      "2018-08-17 00:00:00  0.941685  0.210603 -0.438995 -0.560822  100.00000\n",
      "2018-08-18 00:00:00  0.782845  0.297674 -0.771675  1.808409  100.00000\n",
      "2018-08-19 00:00:00 -1.446090  1.355587 -1.885760 -0.803679  100.00000\n",
      "2018-08-20 00:00:00 -0.282220 -0.902361  1.286233  0.335775  100.00000\n",
      "2018-08-21 00:00:00  0.712163 -1.063906  1.459725  1.275647  100.00000\n",
      "2018-08-22 00:00:00  0.796458  0.401089 -0.954397  0.765876  100.00000\n",
      "2018-08-23 00:00:00  1.257838  0.700552 -1.029645 -0.142784  100.00000\n",
      "2018-08-24 00:00:00 -0.448412  0.296047  1.803004 -1.101795    0.04897\n"
     ]
    }
   ],
   "source": [
    "print('增加行后的df1：\\n',df1)"
   ]
  },
  {
   "cell_type": "markdown",
   "id": "7969db09",
   "metadata": {},
   "source": [
    "删：删除DataFrame中的某列或者某行的数据：drop（）"
   ]
  },
  {
   "cell_type": "markdown",
   "id": "0ac55497",
   "metadata": {},
   "source": [
    "* 调用格式：df.drop(labels,axis=0,level=None,inplace=False,errors='raise')\n",
    "+ labels：接收string或者array，代表需要删除的行（列）的标签。\n",
    "+ axis：接收0或者1，代表操作轴的方向，默认为0.0表示删除行，1表示删除列\n",
    "- inplace：接收boolean。代表操作是否对原数据生效，默认为False，操作对元数据不生效，不改变原数据。"
   ]
  },
  {
   "cell_type": "markdown",
   "id": "a8d0997e",
   "metadata": {},
   "source": [
    "改：修改DataFrame中的数据，基本方法就是将这部分数据提取出来，重新赋值为新的数据"
   ]
  },
  {
   "cell_type": "code",
   "execution_count": null,
   "id": "5e58a0eb",
   "metadata": {},
   "outputs": [],
   "source": [
    "df1.loc['2018-08-24 00:00:00',:] = 1"
   ]
  },
  {
   "cell_type": "code",
   "execution_count": 27,
   "id": "344794e2",
   "metadata": {},
   "outputs": [
    {
     "data": {
      "text/html": [
       "<div>\n",
       "<style scoped>\n",
       "    .dataframe tbody tr th:only-of-type {\n",
       "        vertical-align: middle;\n",
       "    }\n",
       "\n",
       "    .dataframe tbody tr th {\n",
       "        vertical-align: top;\n",
       "    }\n",
       "\n",
       "    .dataframe thead th {\n",
       "        text-align: right;\n",
       "    }\n",
       "</style>\n",
       "<table border=\"1\" class=\"dataframe\">\n",
       "  <thead>\n",
       "    <tr style=\"text-align: right;\">\n",
       "      <th></th>\n",
       "      <th>A</th>\n",
       "      <th>B</th>\n",
       "      <th>C</th>\n",
       "    </tr>\n",
       "  </thead>\n",
       "  <tbody>\n",
       "    <tr>\n",
       "      <th>2018-07-25</th>\n",
       "      <td>-0.771811</td>\n",
       "      <td>-0.608586</td>\n",
       "      <td>-0.769815</td>\n",
       "    </tr>\n",
       "    <tr>\n",
       "      <th>2018-07-26</th>\n",
       "      <td>-2.325152</td>\n",
       "      <td>0.374092</td>\n",
       "      <td>0.388037</td>\n",
       "    </tr>\n",
       "    <tr>\n",
       "      <th>2018-07-27</th>\n",
       "      <td>-0.896952</td>\n",
       "      <td>0.843832</td>\n",
       "      <td>0.470933</td>\n",
       "    </tr>\n",
       "    <tr>\n",
       "      <th>2018-07-28</th>\n",
       "      <td>1.507442</td>\n",
       "      <td>-0.702480</td>\n",
       "      <td>-0.215718</td>\n",
       "    </tr>\n",
       "    <tr>\n",
       "      <th>2018-07-29</th>\n",
       "      <td>0.661898</td>\n",
       "      <td>-0.510146</td>\n",
       "      <td>0.186526</td>\n",
       "    </tr>\n",
       "  </tbody>\n",
       "</table>\n",
       "</div>"
      ],
      "text/plain": [
       "                   A         B         C\n",
       "2018-07-25 -0.771811 -0.608586 -0.769815\n",
       "2018-07-26 -2.325152  0.374092  0.388037\n",
       "2018-07-27 -0.896952  0.843832  0.470933\n",
       "2018-07-28  1.507442 -0.702480 -0.215718\n",
       "2018-07-29  0.661898 -0.510146  0.186526"
      ]
     },
     "execution_count": 27,
     "metadata": {},
     "output_type": "execute_result"
    }
   ],
   "source": [
    "df1.head()"
   ]
  },
  {
   "cell_type": "code",
   "execution_count": null,
   "id": "ea6f2cb6",
   "metadata": {},
   "outputs": [],
   "source": [
    "df1.loc[:,\"E\"] = 200"
   ]
  },
  {
   "cell_type": "code",
   "execution_count": 28,
   "id": "47d12d2b",
   "metadata": {},
   "outputs": [
    {
     "data": {
      "text/html": [
       "<div>\n",
       "<style scoped>\n",
       "    .dataframe tbody tr th:only-of-type {\n",
       "        vertical-align: middle;\n",
       "    }\n",
       "\n",
       "    .dataframe tbody tr th {\n",
       "        vertical-align: top;\n",
       "    }\n",
       "\n",
       "    .dataframe thead th {\n",
       "        text-align: right;\n",
       "    }\n",
       "</style>\n",
       "<table border=\"1\" class=\"dataframe\">\n",
       "  <thead>\n",
       "    <tr style=\"text-align: right;\">\n",
       "      <th></th>\n",
       "      <th>A</th>\n",
       "      <th>B</th>\n",
       "      <th>C</th>\n",
       "    </tr>\n",
       "  </thead>\n",
       "  <tbody>\n",
       "    <tr>\n",
       "      <th>2018-07-25</th>\n",
       "      <td>-0.771811</td>\n",
       "      <td>-0.608586</td>\n",
       "      <td>-0.769815</td>\n",
       "    </tr>\n",
       "    <tr>\n",
       "      <th>2018-07-26</th>\n",
       "      <td>-2.325152</td>\n",
       "      <td>0.374092</td>\n",
       "      <td>0.388037</td>\n",
       "    </tr>\n",
       "    <tr>\n",
       "      <th>2018-07-27</th>\n",
       "      <td>-0.896952</td>\n",
       "      <td>0.843832</td>\n",
       "      <td>0.470933</td>\n",
       "    </tr>\n",
       "    <tr>\n",
       "      <th>2018-07-28</th>\n",
       "      <td>1.507442</td>\n",
       "      <td>-0.702480</td>\n",
       "      <td>-0.215718</td>\n",
       "    </tr>\n",
       "    <tr>\n",
       "      <th>2018-07-29</th>\n",
       "      <td>0.661898</td>\n",
       "      <td>-0.510146</td>\n",
       "      <td>0.186526</td>\n",
       "    </tr>\n",
       "  </tbody>\n",
       "</table>\n",
       "</div>"
      ],
      "text/plain": [
       "                   A         B         C\n",
       "2018-07-25 -0.771811 -0.608586 -0.769815\n",
       "2018-07-26 -2.325152  0.374092  0.388037\n",
       "2018-07-27 -0.896952  0.843832  0.470933\n",
       "2018-07-28  1.507442 -0.702480 -0.215718\n",
       "2018-07-29  0.661898 -0.510146  0.186526"
      ]
     },
     "execution_count": 28,
     "metadata": {},
     "output_type": "execute_result"
    }
   ],
   "source": [
    "df1.head()"
   ]
  },
  {
   "cell_type": "markdown",
   "id": "31ad5561",
   "metadata": {},
   "source": [
    "查：访问元素，将满足条件的元素提取出来"
   ]
  },
  {
   "cell_type": "markdown",
   "id": "d41ba9ca",
   "metadata": {},
   "source": [
    "#### 3.4、描述性分析DataFrame数据"
   ]
  },
  {
   "cell_type": "markdown",
   "id": "61fcf8cd",
   "metadata": {},
   "source": [
    "describe函数"
   ]
  },
  {
   "cell_type": "code",
   "execution_count": null,
   "id": "aa063a2e",
   "metadata": {},
   "outputs": [
    {
     "data": {
      "text/html": [
       "<div>\n",
       "<style scoped>\n",
       "    .dataframe tbody tr th:only-of-type {\n",
       "        vertical-align: middle;\n",
       "    }\n",
       "\n",
       "    .dataframe tbody tr th {\n",
       "        vertical-align: top;\n",
       "    }\n",
       "\n",
       "    .dataframe thead th {\n",
       "        text-align: right;\n",
       "    }\n",
       "</style>\n",
       "<table border=\"1\" class=\"dataframe\">\n",
       "  <thead>\n",
       "    <tr style=\"text-align: right;\">\n",
       "      <th></th>\n",
       "      <th>A</th>\n",
       "      <th>B</th>\n",
       "      <th>C</th>\n",
       "      <th>D</th>\n",
       "      <th>E</th>\n",
       "    </tr>\n",
       "  </thead>\n",
       "  <tbody>\n",
       "    <tr>\n",
       "      <th>count</th>\n",
       "      <td>31.000000</td>\n",
       "      <td>31.000000</td>\n",
       "      <td>31.000000</td>\n",
       "      <td>31.000000</td>\n",
       "      <td>31.0</td>\n",
       "    </tr>\n",
       "    <tr>\n",
       "      <th>mean</th>\n",
       "      <td>0.037713</td>\n",
       "      <td>0.031866</td>\n",
       "      <td>0.005625</td>\n",
       "      <td>0.061043</td>\n",
       "      <td>200.0</td>\n",
       "    </tr>\n",
       "    <tr>\n",
       "      <th>std</th>\n",
       "      <td>0.816270</td>\n",
       "      <td>1.033972</td>\n",
       "      <td>0.979906</td>\n",
       "      <td>1.079061</td>\n",
       "      <td>0.0</td>\n",
       "    </tr>\n",
       "    <tr>\n",
       "      <th>min</th>\n",
       "      <td>-1.560964</td>\n",
       "      <td>-1.906578</td>\n",
       "      <td>-1.885760</td>\n",
       "      <td>-3.100199</td>\n",
       "      <td>200.0</td>\n",
       "    </tr>\n",
       "    <tr>\n",
       "      <th>25%</th>\n",
       "      <td>-0.381300</td>\n",
       "      <td>-0.734810</td>\n",
       "      <td>-0.772695</td>\n",
       "      <td>-0.491858</td>\n",
       "      <td>200.0</td>\n",
       "    </tr>\n",
       "    <tr>\n",
       "      <th>50%</th>\n",
       "      <td>0.174782</td>\n",
       "      <td>-0.254454</td>\n",
       "      <td>-0.043580</td>\n",
       "      <td>0.002577</td>\n",
       "      <td>200.0</td>\n",
       "    </tr>\n",
       "    <tr>\n",
       "      <th>75%</th>\n",
       "      <td>0.672782</td>\n",
       "      <td>0.711946</td>\n",
       "      <td>0.671592</td>\n",
       "      <td>0.713998</td>\n",
       "      <td>200.0</td>\n",
       "    </tr>\n",
       "    <tr>\n",
       "      <th>max</th>\n",
       "      <td>1.257838</td>\n",
       "      <td>2.394908</td>\n",
       "      <td>1.927381</td>\n",
       "      <td>2.183090</td>\n",
       "      <td>200.0</td>\n",
       "    </tr>\n",
       "  </tbody>\n",
       "</table>\n",
       "</div>"
      ],
      "text/plain": [
       "               A          B          C          D      E\n",
       "count  31.000000  31.000000  31.000000  31.000000   31.0\n",
       "mean    0.037713   0.031866   0.005625   0.061043  200.0\n",
       "std     0.816270   1.033972   0.979906   1.079061    0.0\n",
       "min    -1.560964  -1.906578  -1.885760  -3.100199  200.0\n",
       "25%    -0.381300  -0.734810  -0.772695  -0.491858  200.0\n",
       "50%     0.174782  -0.254454  -0.043580   0.002577  200.0\n",
       "75%     0.672782   0.711946   0.671592   0.713998  200.0\n",
       "max     1.257838   2.394908   1.927381   2.183090  200.0"
      ]
     },
     "execution_count": 108,
     "metadata": {},
     "output_type": "execute_result"
    }
   ],
   "source": [
    "df1.describe() #所有数值型特征的基本统计分析"
   ]
  },
  {
   "cell_type": "code",
   "execution_count": null,
   "id": "0e8d93f2",
   "metadata": {},
   "outputs": [
    {
     "data": {
      "text/html": [
       "<div>\n",
       "<style scoped>\n",
       "    .dataframe tbody tr th:only-of-type {\n",
       "        vertical-align: middle;\n",
       "    }\n",
       "\n",
       "    .dataframe tbody tr th {\n",
       "        vertical-align: top;\n",
       "    }\n",
       "\n",
       "    .dataframe thead th {\n",
       "        text-align: right;\n",
       "    }\n",
       "</style>\n",
       "<table border=\"1\" class=\"dataframe\">\n",
       "  <thead>\n",
       "    <tr style=\"text-align: right;\">\n",
       "      <th></th>\n",
       "      <th>A</th>\n",
       "      <th>C</th>\n",
       "    </tr>\n",
       "  </thead>\n",
       "  <tbody>\n",
       "    <tr>\n",
       "      <th>count</th>\n",
       "      <td>31.000000</td>\n",
       "      <td>31.000000</td>\n",
       "    </tr>\n",
       "    <tr>\n",
       "      <th>mean</th>\n",
       "      <td>0.037713</td>\n",
       "      <td>0.005625</td>\n",
       "    </tr>\n",
       "    <tr>\n",
       "      <th>std</th>\n",
       "      <td>0.816270</td>\n",
       "      <td>0.979906</td>\n",
       "    </tr>\n",
       "    <tr>\n",
       "      <th>min</th>\n",
       "      <td>-1.560964</td>\n",
       "      <td>-1.885760</td>\n",
       "    </tr>\n",
       "    <tr>\n",
       "      <th>25%</th>\n",
       "      <td>-0.381300</td>\n",
       "      <td>-0.772695</td>\n",
       "    </tr>\n",
       "    <tr>\n",
       "      <th>50%</th>\n",
       "      <td>0.174782</td>\n",
       "      <td>-0.043580</td>\n",
       "    </tr>\n",
       "    <tr>\n",
       "      <th>75%</th>\n",
       "      <td>0.672782</td>\n",
       "      <td>0.671592</td>\n",
       "    </tr>\n",
       "    <tr>\n",
       "      <th>max</th>\n",
       "      <td>1.257838</td>\n",
       "      <td>1.927381</td>\n",
       "    </tr>\n",
       "  </tbody>\n",
       "</table>\n",
       "</div>"
      ],
      "text/plain": [
       "               A          C\n",
       "count  31.000000  31.000000\n",
       "mean    0.037713   0.005625\n",
       "std     0.816270   0.979906\n",
       "min    -1.560964  -1.885760\n",
       "25%    -0.381300  -0.772695\n",
       "50%     0.174782  -0.043580\n",
       "75%     0.672782   0.671592\n",
       "max     1.257838   1.927381"
      ]
     },
     "execution_count": 107,
     "metadata": {},
     "output_type": "execute_result"
    }
   ],
   "source": [
    "df1[['A','C']].describe() #指定列的基本统计分析"
   ]
  },
  {
   "cell_type": "markdown",
   "id": "0f9991fd",
   "metadata": {},
   "source": [
    "更多的函数见教材P73，表4-6 Pandas数学运算与统计描述函数"
   ]
  },
  {
   "cell_type": "code",
   "execution_count": null,
   "id": "858927f3",
   "metadata": {},
   "outputs": [
    {
     "data": {
      "text/plain": [
       "A      0.174782\n",
       "B     -0.254454\n",
       "C     -0.043580\n",
       "D      0.002577\n",
       "E    200.000000\n",
       "dtype: float64"
      ]
     },
     "execution_count": 109,
     "metadata": {},
     "output_type": "execute_result"
    }
   ],
   "source": [
    "df1.median()"
   ]
  },
  {
   "cell_type": "code",
   "execution_count": null,
   "id": "3b063dc9",
   "metadata": {},
   "outputs": [
    {
     "data": {
      "text/plain": [
       "A    0.816270\n",
       "B    1.033972\n",
       "C    0.979906\n",
       "D    1.079061\n",
       "E    0.000000\n",
       "dtype: float64"
      ]
     },
     "execution_count": 110,
     "metadata": {},
     "output_type": "execute_result"
    }
   ],
   "source": [
    "df1.std()"
   ]
  },
  {
   "cell_type": "code",
   "execution_count": null,
   "id": "6cf65853",
   "metadata": {},
   "outputs": [
    {
     "data": {
      "text/plain": [
       "A      0.037713\n",
       "B      0.031866\n",
       "C      0.005625\n",
       "D      0.061043\n",
       "E    200.000000\n",
       "dtype: float64"
      ]
     },
     "execution_count": 112,
     "metadata": {},
     "output_type": "execute_result"
    }
   ],
   "source": [
    "df1.mean()"
   ]
  },
  {
   "cell_type": "code",
   "execution_count": null,
   "id": "369c43eb",
   "metadata": {},
   "outputs": [
    {
     "data": {
      "text/plain": [
       "A    0.666296\n",
       "B    1.069098\n",
       "C    0.960215\n",
       "D    1.164372\n",
       "E    0.000000\n",
       "dtype: float64"
      ]
     },
     "execution_count": 113,
     "metadata": {},
     "output_type": "execute_result"
    }
   ],
   "source": [
    "df1.var()"
   ]
  },
  {
   "cell_type": "markdown",
   "id": "658960d0",
   "metadata": {},
   "source": [
    "value_counts()函数：对于类别型（category类型数据）实现频数统计"
   ]
  },
  {
   "cell_type": "markdown",
   "id": "c0b987ef",
   "metadata": {},
   "source": [
    "示例"
   ]
  },
  {
   "cell_type": "code",
   "execution_count": null,
   "id": "32c874aa",
   "metadata": {},
   "outputs": [
    {
     "data": {
      "text/html": [
       "<div>\n",
       "<style scoped>\n",
       "    .dataframe tbody tr th:only-of-type {\n",
       "        vertical-align: middle;\n",
       "    }\n",
       "\n",
       "    .dataframe tbody tr th {\n",
       "        vertical-align: top;\n",
       "    }\n",
       "\n",
       "    .dataframe thead th {\n",
       "        text-align: right;\n",
       "    }\n",
       "</style>\n",
       "<table border=\"1\" class=\"dataframe\">\n",
       "  <thead>\n",
       "    <tr style=\"text-align: right;\">\n",
       "      <th></th>\n",
       "      <th>detail_id</th>\n",
       "      <th>order_id</th>\n",
       "      <th>dishes_id</th>\n",
       "      <th>logicprn_name</th>\n",
       "      <th>parent_class_name</th>\n",
       "      <th>itemis_add</th>\n",
       "      <th>counts</th>\n",
       "      <th>amounts</th>\n",
       "      <th>cost</th>\n",
       "      <th>discount_amt</th>\n",
       "      <th>discount_reason</th>\n",
       "      <th>kick_back</th>\n",
       "      <th>add_inprice</th>\n",
       "      <th>add_info</th>\n",
       "      <th>bar_code</th>\n",
       "      <th>emp_id</th>\n",
       "    </tr>\n",
       "  </thead>\n",
       "  <tbody>\n",
       "    <tr>\n",
       "      <th>count</th>\n",
       "      <td>2779.000000</td>\n",
       "      <td>2779.000000</td>\n",
       "      <td>2779.000000</td>\n",
       "      <td>0.0</td>\n",
       "      <td>0.0</td>\n",
       "      <td>2779.0</td>\n",
       "      <td>2779.000000</td>\n",
       "      <td>2779.000000</td>\n",
       "      <td>0.0</td>\n",
       "      <td>0.0</td>\n",
       "      <td>0.0</td>\n",
       "      <td>0.0</td>\n",
       "      <td>2779.0</td>\n",
       "      <td>0.0</td>\n",
       "      <td>0.0</td>\n",
       "      <td>2779.000000</td>\n",
       "    </tr>\n",
       "    <tr>\n",
       "      <th>mean</th>\n",
       "      <td>4545.617128</td>\n",
       "      <td>737.658150</td>\n",
       "      <td>609981.577906</td>\n",
       "      <td>NaN</td>\n",
       "      <td>NaN</td>\n",
       "      <td>0.0</td>\n",
       "      <td>1.111191</td>\n",
       "      <td>45.337172</td>\n",
       "      <td>NaN</td>\n",
       "      <td>NaN</td>\n",
       "      <td>NaN</td>\n",
       "      <td>NaN</td>\n",
       "      <td>0.0</td>\n",
       "      <td>NaN</td>\n",
       "      <td>NaN</td>\n",
       "      <td>1252.321339</td>\n",
       "    </tr>\n",
       "    <tr>\n",
       "      <th>std</th>\n",
       "      <td>1710.910552</td>\n",
       "      <td>312.694193</td>\n",
       "      <td>153.691844</td>\n",
       "      <td>NaN</td>\n",
       "      <td>NaN</td>\n",
       "      <td>0.0</td>\n",
       "      <td>0.625428</td>\n",
       "      <td>36.808550</td>\n",
       "      <td>NaN</td>\n",
       "      <td>NaN</td>\n",
       "      <td>NaN</td>\n",
       "      <td>NaN</td>\n",
       "      <td>0.0</td>\n",
       "      <td>NaN</td>\n",
       "      <td>NaN</td>\n",
       "      <td>170.157476</td>\n",
       "    </tr>\n",
       "    <tr>\n",
       "      <th>min</th>\n",
       "      <td>753.000000</td>\n",
       "      <td>137.000000</td>\n",
       "      <td>606057.000000</td>\n",
       "      <td>NaN</td>\n",
       "      <td>NaN</td>\n",
       "      <td>0.0</td>\n",
       "      <td>1.000000</td>\n",
       "      <td>1.000000</td>\n",
       "      <td>NaN</td>\n",
       "      <td>NaN</td>\n",
       "      <td>NaN</td>\n",
       "      <td>NaN</td>\n",
       "      <td>0.0</td>\n",
       "      <td>NaN</td>\n",
       "      <td>NaN</td>\n",
       "      <td>982.000000</td>\n",
       "    </tr>\n",
       "    <tr>\n",
       "      <th>25%</th>\n",
       "      <td>3263.000000</td>\n",
       "      <td>471.000000</td>\n",
       "      <td>609951.500000</td>\n",
       "      <td>NaN</td>\n",
       "      <td>NaN</td>\n",
       "      <td>0.0</td>\n",
       "      <td>1.000000</td>\n",
       "      <td>25.000000</td>\n",
       "      <td>NaN</td>\n",
       "      <td>NaN</td>\n",
       "      <td>NaN</td>\n",
       "      <td>NaN</td>\n",
       "      <td>0.0</td>\n",
       "      <td>NaN</td>\n",
       "      <td>NaN</td>\n",
       "      <td>1124.000000</td>\n",
       "    </tr>\n",
       "    <tr>\n",
       "      <th>50%</th>\n",
       "      <td>4386.000000</td>\n",
       "      <td>669.000000</td>\n",
       "      <td>609980.000000</td>\n",
       "      <td>NaN</td>\n",
       "      <td>NaN</td>\n",
       "      <td>0.0</td>\n",
       "      <td>1.000000</td>\n",
       "      <td>35.000000</td>\n",
       "      <td>NaN</td>\n",
       "      <td>NaN</td>\n",
       "      <td>NaN</td>\n",
       "      <td>NaN</td>\n",
       "      <td>0.0</td>\n",
       "      <td>NaN</td>\n",
       "      <td>NaN</td>\n",
       "      <td>1187.000000</td>\n",
       "    </tr>\n",
       "    <tr>\n",
       "      <th>75%</th>\n",
       "      <td>5758.500000</td>\n",
       "      <td>1026.000000</td>\n",
       "      <td>610019.000000</td>\n",
       "      <td>NaN</td>\n",
       "      <td>NaN</td>\n",
       "      <td>0.0</td>\n",
       "      <td>1.000000</td>\n",
       "      <td>56.000000</td>\n",
       "      <td>NaN</td>\n",
       "      <td>NaN</td>\n",
       "      <td>NaN</td>\n",
       "      <td>NaN</td>\n",
       "      <td>0.0</td>\n",
       "      <td>NaN</td>\n",
       "      <td>NaN</td>\n",
       "      <td>1402.000000</td>\n",
       "    </tr>\n",
       "    <tr>\n",
       "      <th>max</th>\n",
       "      <td>8238.000000</td>\n",
       "      <td>1323.000000</td>\n",
       "      <td>610072.000000</td>\n",
       "      <td>NaN</td>\n",
       "      <td>NaN</td>\n",
       "      <td>0.0</td>\n",
       "      <td>10.000000</td>\n",
       "      <td>178.000000</td>\n",
       "      <td>NaN</td>\n",
       "      <td>NaN</td>\n",
       "      <td>NaN</td>\n",
       "      <td>NaN</td>\n",
       "      <td>0.0</td>\n",
       "      <td>NaN</td>\n",
       "      <td>NaN</td>\n",
       "      <td>1610.000000</td>\n",
       "    </tr>\n",
       "  </tbody>\n",
       "</table>\n",
       "</div>"
      ],
      "text/plain": [
       "         detail_id     order_id      dishes_id  logicprn_name  \\\n",
       "count  2779.000000  2779.000000    2779.000000            0.0   \n",
       "mean   4545.617128   737.658150  609981.577906            NaN   \n",
       "std    1710.910552   312.694193     153.691844            NaN   \n",
       "min     753.000000   137.000000  606057.000000            NaN   \n",
       "25%    3263.000000   471.000000  609951.500000            NaN   \n",
       "50%    4386.000000   669.000000  609980.000000            NaN   \n",
       "75%    5758.500000  1026.000000  610019.000000            NaN   \n",
       "max    8238.000000  1323.000000  610072.000000            NaN   \n",
       "\n",
       "       parent_class_name  itemis_add       counts      amounts  cost  \\\n",
       "count                0.0      2779.0  2779.000000  2779.000000   0.0   \n",
       "mean                 NaN         0.0     1.111191    45.337172   NaN   \n",
       "std                  NaN         0.0     0.625428    36.808550   NaN   \n",
       "min                  NaN         0.0     1.000000     1.000000   NaN   \n",
       "25%                  NaN         0.0     1.000000    25.000000   NaN   \n",
       "50%                  NaN         0.0     1.000000    35.000000   NaN   \n",
       "75%                  NaN         0.0     1.000000    56.000000   NaN   \n",
       "max                  NaN         0.0    10.000000   178.000000   NaN   \n",
       "\n",
       "       discount_amt  discount_reason  kick_back  add_inprice  add_info  \\\n",
       "count           0.0              0.0        0.0       2779.0       0.0   \n",
       "mean            NaN              NaN        NaN          0.0       NaN   \n",
       "std             NaN              NaN        NaN          0.0       NaN   \n",
       "min             NaN              NaN        NaN          0.0       NaN   \n",
       "25%             NaN              NaN        NaN          0.0       NaN   \n",
       "50%             NaN              NaN        NaN          0.0       NaN   \n",
       "75%             NaN              NaN        NaN          0.0       NaN   \n",
       "max             NaN              NaN        NaN          0.0       NaN   \n",
       "\n",
       "       bar_code       emp_id  \n",
       "count       0.0  2779.000000  \n",
       "mean        NaN  1252.321339  \n",
       "std         NaN   170.157476  \n",
       "min         NaN   982.000000  \n",
       "25%         NaN  1124.000000  \n",
       "50%         NaN  1187.000000  \n",
       "75%         NaN  1402.000000  \n",
       "max         NaN  1610.000000  "
      ]
     },
     "execution_count": 144,
     "metadata": {},
     "output_type": "execute_result"
    }
   ],
   "source": [
    "dat.describe()"
   ]
  },
  {
   "cell_type": "code",
   "execution_count": null,
   "id": "dd2bb356",
   "metadata": {},
   "outputs": [
    {
     "data": {
      "text/plain": [
       "白饭/大碗               92\n",
       "凉拌菠菜                77\n",
       "谷稻小庄                72\n",
       "麻辣小龙虾               65\n",
       "白饭/小碗               60\n",
       "                    ..\n",
       "照烧鸡腿_x000D_\\n        1\n",
       "百里香奶油烤紅酒牛肉           1\n",
       "红酒土豆烧鸭腿_x000D_\\n     1\n",
       "五香酱驴肉_x000D_\\n       1\n",
       "冰镇花螺                 1\n",
       "Name: dishes_name, Length: 154, dtype: int64"
      ]
     },
     "execution_count": 146,
     "metadata": {},
     "output_type": "execute_result"
    }
   ],
   "source": [
    "dat['dishes_name'].value_counts()"
   ]
  },
  {
   "cell_type": "markdown",
   "id": "979b48e3",
   "metadata": {},
   "source": [
    "#### 3.5、表格合并"
   ]
  },
  {
   "cell_type": "code",
   "execution_count": null,
   "id": "bfd0774d",
   "metadata": {},
   "outputs": [],
   "source": [
    "?pd.merge"
   ]
  },
  {
   "cell_type": "code",
   "execution_count": null,
   "id": "4e5932e8",
   "metadata": {},
   "outputs": [
    {
     "name": "stdout",
     "output_type": "stream",
     "text": [
      "待合并表格df4:\n",
      "     id       date         city category  age   price\n",
      "0  1001 2013-01-02     Beijing     100-A   23  1200.0\n",
      "1  1002 2013-01-03           SH    100-B   44     NaN\n",
      "2  1003 2013-01-04   guangzhou     110-A   54  2133.0\n",
      "3  1004 2013-01-05     Shenzhen    110-C   32  5433.0\n",
      "4  1005 2013-01-06     shanghai    210-A   34     NaN\n",
      "5  1006 2013-01-07     BEIJING     130-F   32  4432.0\n"
     ]
    }
   ],
   "source": [
    "#构造待合并表格DF4\n",
    "df4= pd.DataFrame({'id':[1001,1002,1003,1004,1005,1006], \n",
    "'date':pd.date_range('20130102', periods=6),\n",
    "'city':['Beijing ', 'SH', ' guangzhou ', 'Shenzhen', 'shanghai', 'BEIJING '],\n",
    "'age':[23,44,54,32,34,32],\n",
    "'category':['100-A','100-B','110-A','110-C','210-A','130-F'],\n",
    "'price':[1200,np.nan,2133,5433,np.nan,4432]},\n",
    "columns =['id','date','city','category','age','price'])\n",
    "\n",
    "print('待合并表格df4:')\n",
    "print(df4)"
   ]
  },
  {
   "cell_type": "code",
   "execution_count": null,
   "id": "b55f3a65",
   "metadata": {},
   "outputs": [
    {
     "name": "stdout",
     "output_type": "stream",
     "text": [
      "待合并表格df5:\n",
      "     id  gender pay  m-point\n",
      "0  1001    male   Y       10\n",
      "1  1002  female   N       12\n",
      "2  1003    male   Y       20\n",
      "3  1004  female   Y       40\n",
      "4  1005    male   N       40\n",
      "5  1006  female   Y       40\n",
      "6  1007    male   N       30\n",
      "7  1008  female   Y       20\n"
     ]
    }
   ],
   "source": [
    "#构造待合并表格DF5\n",
    "df5=pd.DataFrame({'id':[1001,1002,1003,1004,1005,1006,1007,1008], \n",
    "'gender':['male','female','male','female','male','female','male','female'],\n",
    "'pay':['Y','N','Y','Y','N','Y','N','Y',],\n",
    "'m-point':[10,12,20,40,40,40,30,20]})\n",
    "print('待合并表格df5:')\n",
    "print(df5)"
   ]
  },
  {
   "cell_type": "code",
   "execution_count": null,
   "id": "3d872312",
   "metadata": {},
   "outputs": [
    {
     "name": "stdout",
     "output_type": "stream",
     "text": [
      "df4与df5的交集:\n",
      "inner内连接，表示取df4和df5都存在的数据做连接:\n",
      "     id       date         city category  age   price  gender pay  m-point\n",
      "0  1001 2013-01-02     Beijing     100-A   23  1200.0    male   Y       10\n",
      "1  1002 2013-01-03           SH    100-B   44     NaN  female   N       12\n",
      "2  1003 2013-01-04   guangzhou     110-A   54  2133.0    male   Y       20\n",
      "3  1004 2013-01-05     Shenzhen    110-C   32  5433.0  female   Y       40\n",
      "4  1005 2013-01-06     shanghai    210-A   34     NaN    male   N       40\n",
      "5  1006 2013-01-07     BEIJING     130-F   32  4432.0  female   Y       40\n"
     ]
    }
   ],
   "source": [
    "print('df4与df5的交集:')\n",
    "print('inner内连接，表示取df4和df5都存在的数据做连接:')\n",
    "print(pd.merge(df4,df5,how='inner')) "
   ]
  },
  {
   "cell_type": "code",
   "execution_count": null,
   "id": "dd8e583b",
   "metadata": {},
   "outputs": [
    {
     "name": "stdout",
     "output_type": "stream",
     "text": [
      "df4与df5的合并，按照左表的数据:\n",
      "left左连接，表示按df4存在的数据做连接:\n",
      "     id       date         city category  age   price  gender pay  m-point\n",
      "0  1001 2013-01-02     Beijing     100-A   23  1200.0    male   Y       10\n",
      "1  1002 2013-01-03           SH    100-B   44     NaN  female   N       12\n",
      "2  1003 2013-01-04   guangzhou     110-A   54  2133.0    male   Y       20\n",
      "3  1004 2013-01-05     Shenzhen    110-C   32  5433.0  female   Y       40\n",
      "4  1005 2013-01-06     shanghai    210-A   34     NaN    male   N       40\n",
      "5  1006 2013-01-07     BEIJING     130-F   32  4432.0  female   Y       40\n"
     ]
    }
   ],
   "source": [
    "print(\"df4与df5的合并，按照左表的数据:\")\n",
    "print('left左连接，表示按df4存在的数据做连接:')\n",
    "print(pd.merge(df4,df5,how='left')) "
   ]
  },
  {
   "cell_type": "code",
   "execution_count": null,
   "id": "eefdb464",
   "metadata": {},
   "outputs": [
    {
     "name": "stdout",
     "output_type": "stream",
     "text": [
      "     id       date         city category   age   price  gender pay  m-point\n",
      "0  1001 2013-01-02     Beijing     100-A  23.0  1200.0    male   Y       10\n",
      "1  1002 2013-01-03           SH    100-B  44.0     NaN  female   N       12\n",
      "2  1003 2013-01-04   guangzhou     110-A  54.0  2133.0    male   Y       20\n",
      "3  1004 2013-01-05     Shenzhen    110-C  32.0  5433.0  female   Y       40\n",
      "4  1005 2013-01-06     shanghai    210-A  34.0     NaN    male   N       40\n",
      "5  1006 2013-01-07     BEIJING     130-F  32.0  4432.0  female   Y       40\n",
      "6  1007        NaT          NaN      NaN   NaN     NaN    male   N       30\n",
      "7  1008        NaT          NaN      NaN   NaN     NaN  female   Y       20\n"
     ]
    }
   ],
   "source": [
    "pd.merge(df4,df5,how='right')"
   ]
  },
  {
   "cell_type": "code",
   "execution_count": null,
   "id": "e5dc7783",
   "metadata": {},
   "outputs": [
    {
     "name": "stdout",
     "output_type": "stream",
     "text": [
      "df4与df5的并集:\n",
      "outer外连接，表示求并集，不存在的数据项自动用NaN填充:\n",
      "     id       date         city category   age   price  gender pay  m-point\n",
      "0  1001 2013-01-02     Beijing     100-A  23.0  1200.0    male   Y       10\n",
      "1  1002 2013-01-03           SH    100-B  44.0     NaN  female   N       12\n",
      "2  1003 2013-01-04   guangzhou     110-A  54.0  2133.0    male   Y       20\n",
      "3  1004 2013-01-05     Shenzhen    110-C  32.0  5433.0  female   Y       40\n",
      "4  1005 2013-01-06     shanghai    210-A  34.0     NaN    male   N       40\n",
      "5  1006 2013-01-07     BEIJING     130-F  32.0  4432.0  female   Y       40\n",
      "6  1007        NaT          NaN      NaN   NaN     NaN    male   N       30\n",
      "7  1008        NaT          NaN      NaN   NaN     NaN  female   Y       20\n"
     ]
    }
   ],
   "source": [
    "print(\"df4与df5的并集:\")\n",
    "print('outer外连接，表示求并集，不存在的数据项自动用NaN填充:')\n",
    "print(pd.merge(df4,df5,how='outer')) "
   ]
  },
  {
   "cell_type": "code",
   "execution_count": null,
   "id": "5eb9161b",
   "metadata": {},
   "outputs": [
    {
     "name": "stdout",
     "output_type": "stream",
     "text": [
      "df4与df5的并集:\n",
      "outer外连接，表示求并集，不存在的数据项自动用NaN填充:\n",
      "    id_x       date         city category  age   price  id_y  gender pay  \\\n",
      "0   1001 2013-01-02     Beijing     100-A   23  1200.0  1001    male   Y   \n",
      "1   1001 2013-01-02     Beijing     100-A   23  1200.0  1002  female   N   \n",
      "2   1001 2013-01-02     Beijing     100-A   23  1200.0  1003    male   Y   \n",
      "3   1001 2013-01-02     Beijing     100-A   23  1200.0  1004  female   Y   \n",
      "4   1001 2013-01-02     Beijing     100-A   23  1200.0  1005    male   N   \n",
      "5   1001 2013-01-02     Beijing     100-A   23  1200.0  1006  female   Y   \n",
      "6   1001 2013-01-02     Beijing     100-A   23  1200.0  1007    male   N   \n",
      "7   1001 2013-01-02     Beijing     100-A   23  1200.0  1008  female   Y   \n",
      "8   1002 2013-01-03           SH    100-B   44     NaN  1001    male   Y   \n",
      "9   1002 2013-01-03           SH    100-B   44     NaN  1002  female   N   \n",
      "10  1002 2013-01-03           SH    100-B   44     NaN  1003    male   Y   \n",
      "11  1002 2013-01-03           SH    100-B   44     NaN  1004  female   Y   \n",
      "12  1002 2013-01-03           SH    100-B   44     NaN  1005    male   N   \n",
      "13  1002 2013-01-03           SH    100-B   44     NaN  1006  female   Y   \n",
      "14  1002 2013-01-03           SH    100-B   44     NaN  1007    male   N   \n",
      "15  1002 2013-01-03           SH    100-B   44     NaN  1008  female   Y   \n",
      "16  1003 2013-01-04   guangzhou     110-A   54  2133.0  1001    male   Y   \n",
      "17  1003 2013-01-04   guangzhou     110-A   54  2133.0  1002  female   N   \n",
      "18  1003 2013-01-04   guangzhou     110-A   54  2133.0  1003    male   Y   \n",
      "19  1003 2013-01-04   guangzhou     110-A   54  2133.0  1004  female   Y   \n",
      "20  1003 2013-01-04   guangzhou     110-A   54  2133.0  1005    male   N   \n",
      "21  1003 2013-01-04   guangzhou     110-A   54  2133.0  1006  female   Y   \n",
      "22  1003 2013-01-04   guangzhou     110-A   54  2133.0  1007    male   N   \n",
      "23  1003 2013-01-04   guangzhou     110-A   54  2133.0  1008  female   Y   \n",
      "24  1004 2013-01-05     Shenzhen    110-C   32  5433.0  1001    male   Y   \n",
      "25  1004 2013-01-05     Shenzhen    110-C   32  5433.0  1002  female   N   \n",
      "26  1004 2013-01-05     Shenzhen    110-C   32  5433.0  1003    male   Y   \n",
      "27  1004 2013-01-05     Shenzhen    110-C   32  5433.0  1004  female   Y   \n",
      "28  1004 2013-01-05     Shenzhen    110-C   32  5433.0  1005    male   N   \n",
      "29  1004 2013-01-05     Shenzhen    110-C   32  5433.0  1006  female   Y   \n",
      "30  1004 2013-01-05     Shenzhen    110-C   32  5433.0  1007    male   N   \n",
      "31  1004 2013-01-05     Shenzhen    110-C   32  5433.0  1008  female   Y   \n",
      "32  1005 2013-01-06     shanghai    210-A   34     NaN  1001    male   Y   \n",
      "33  1005 2013-01-06     shanghai    210-A   34     NaN  1002  female   N   \n",
      "34  1005 2013-01-06     shanghai    210-A   34     NaN  1003    male   Y   \n",
      "35  1005 2013-01-06     shanghai    210-A   34     NaN  1004  female   Y   \n",
      "36  1005 2013-01-06     shanghai    210-A   34     NaN  1005    male   N   \n",
      "37  1005 2013-01-06     shanghai    210-A   34     NaN  1006  female   Y   \n",
      "38  1005 2013-01-06     shanghai    210-A   34     NaN  1007    male   N   \n",
      "39  1005 2013-01-06     shanghai    210-A   34     NaN  1008  female   Y   \n",
      "40  1006 2013-01-07     BEIJING     130-F   32  4432.0  1001    male   Y   \n",
      "41  1006 2013-01-07     BEIJING     130-F   32  4432.0  1002  female   N   \n",
      "42  1006 2013-01-07     BEIJING     130-F   32  4432.0  1003    male   Y   \n",
      "43  1006 2013-01-07     BEIJING     130-F   32  4432.0  1004  female   Y   \n",
      "44  1006 2013-01-07     BEIJING     130-F   32  4432.0  1005    male   N   \n",
      "45  1006 2013-01-07     BEIJING     130-F   32  4432.0  1006  female   Y   \n",
      "46  1006 2013-01-07     BEIJING     130-F   32  4432.0  1007    male   N   \n",
      "47  1006 2013-01-07     BEIJING     130-F   32  4432.0  1008  female   Y   \n",
      "\n",
      "    m-point  \n",
      "0        10  \n",
      "1        12  \n",
      "2        20  \n",
      "3        40  \n",
      "4        40  \n",
      "5        40  \n",
      "6        30  \n",
      "7        20  \n",
      "8        10  \n",
      "9        12  \n",
      "10       20  \n",
      "11       40  \n",
      "12       40  \n",
      "13       40  \n",
      "14       30  \n",
      "15       20  \n",
      "16       10  \n",
      "17       12  \n",
      "18       20  \n",
      "19       40  \n",
      "20       40  \n",
      "21       40  \n",
      "22       30  \n",
      "23       20  \n",
      "24       10  \n",
      "25       12  \n",
      "26       20  \n",
      "27       40  \n",
      "28       40  \n",
      "29       40  \n",
      "30       30  \n",
      "31       20  \n",
      "32       10  \n",
      "33       12  \n",
      "34       20  \n",
      "35       40  \n",
      "36       40  \n",
      "37       40  \n",
      "38       30  \n",
      "39       20  \n",
      "40       10  \n",
      "41       12  \n",
      "42       20  \n",
      "43       40  \n",
      "44       40  \n",
      "45       40  \n",
      "46       30  \n",
      "47       20  \n"
     ]
    }
   ],
   "source": [
    "print(\"df4与df5的并集:\")\n",
    "print('outer外连接，表示求并集，不存在的数据项自动用NaN填充:')\n",
    "print(pd.merge(df4,df5,how='cross')) "
   ]
  }
 ],
 "metadata": {
  "kernelspec": {
   "display_name": "Python 3",
   "language": "python",
   "name": "python3"
  },
  "language_info": {
   "codemirror_mode": {
    "name": "ipython",
    "version": 3
   },
   "file_extension": ".py",
   "mimetype": "text/x-python",
   "name": "python",
   "nbconvert_exporter": "python",
   "pygments_lexer": "ipython3",
   "version": "3.8.10"
  }
 },
 "nbformat": 4,
 "nbformat_minor": 5
}
