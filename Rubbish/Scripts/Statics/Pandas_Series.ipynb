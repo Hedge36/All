{
 "cells": [
  {
   "cell_type": "markdown",
   "id": "238d6805",
   "metadata": {},
   "source": [
    "## Pandas数据分析包"
   ]
  },
  {
   "cell_type": "code",
   "execution_count": 2,
   "id": "e2f7aa18",
   "metadata": {},
   "outputs": [],
   "source": [
    "import numpy as np\n",
    "import pandas as pd"
   ]
  },
  {
   "cell_type": "markdown",
   "id": "2939d363",
   "metadata": {},
   "source": [
    "### 主要内容"
   ]
  },
  {
   "cell_type": "markdown",
   "id": "990ff6ac",
   "metadata": {},
   "source": [
    "* Pandas的基本数据结构：Series（Time-Series）和DataFrame（Panel）\n",
    "+ Series的生成和基本操作\n",
    "+ DataFrame的生成和基本操作(增删改查，聚合，基本统计计算等）\n",
    "- 案例"
   ]
  },
  {
   "cell_type": "markdown",
   "id": "4eb240d3",
   "metadata": {},
   "source": [
    "#### 1、Series的生成和基本操作"
   ]
  },
  {
   "cell_type": "markdown",
   "id": "e0c0143c",
   "metadata": {},
   "source": [
    "Series是类似与数组的一维线性数据结构，通常是一组相同类型的数据元素，但也可以出现不同类型的数据元素。Series有值（Values）和索引（index）两个属性。"
   ]
  },
  {
   "cell_type": "code",
   "execution_count": 3,
   "id": "f002f696",
   "metadata": {},
   "outputs": [
    {
     "data": {
      "text/plain": [
       "score            100\n",
       "schoole         gduf\n",
       "city       GuangZhou\n",
       "dtype: object"
      ]
     },
     "execution_count": 3,
     "metadata": {},
     "output_type": "execute_result"
    }
   ],
   "source": [
    "S1 = pd.Series([100, 'gduf', 'GuangZhou'], index=[\n",
    "               'score', 'schoole', 'city'])  # 通过list来生成\n",
    "S1\n"
   ]
  },
  {
   "cell_type": "code",
   "execution_count": 4,
   "id": "4991a4af",
   "metadata": {},
   "outputs": [
    {
     "data": {
      "text/plain": [
       "a    NaN\n",
       "c    NaN\n",
       "e    NaN\n",
       "d    NaN\n",
       "b    NaN\n",
       "f    NaN\n",
       "dtype: object"
      ]
     },
     "execution_count": 4,
     "metadata": {},
     "output_type": "execute_result"
    }
   ],
   "source": [
    "# Series类似于字典，键-值对应，这里是index和value对应\n",
    "S1.reindex(['a', 'c', 'e', 'd', 'b', 'f'])\n"
   ]
  },
  {
   "cell_type": "markdown",
   "id": "35a29494",
   "metadata": {},
   "source": [
    "Series的引用：利用index或者数字"
   ]
  },
  {
   "cell_type": "code",
   "execution_count": 85,
   "id": "8e5f2458",
   "metadata": {},
   "outputs": [
    {
     "data": {
      "text/plain": [
       "9"
      ]
     },
     "execution_count": 85,
     "metadata": {},
     "output_type": "execute_result"
    }
   ],
   "source": [
    "S2['e']\n",
    "S2[['a', 'c', 'e']]  # 与reindex相同\n"
   ]
  },
  {
   "cell_type": "code",
   "execution_count": 72,
   "id": "6f5cd16c",
   "metadata": {},
   "outputs": [
    {
     "data": {
      "text/plain": [
       "a     True\n",
       "b     True\n",
       "c    False\n",
       "d    False\n",
       "e    False\n",
       "f    False\n",
       "dtype: bool"
      ]
     },
     "execution_count": 72,
     "metadata": {},
     "output_type": "execute_result"
    }
   ],
   "source": [
    "S2[S2 < 4]\n",
    "S2 < 4\n",
    "S2+2\n"
   ]
  },
  {
   "cell_type": "markdown",
   "id": "40b2f844",
   "metadata": {},
   "source": [
    "Series与字典相类似，index与values对应。所以，可以用字典操作"
   ]
  },
  {
   "cell_type": "code",
   "execution_count": 77,
   "id": "a35fea27",
   "metadata": {},
   "outputs": [
    {
     "data": {
      "text/plain": [
       "(Index(['a', 'b', 'c', 'd', 'e', 'f'], dtype='object'),\n",
       " Index(['a', 'b', 'c', 'd', 'e', 'f'], dtype='object'),\n",
       " array([ 1,  3,  5,  7,  9, 11], dtype=int64))"
      ]
     },
     "execution_count": 77,
     "metadata": {},
     "output_type": "execute_result"
    }
   ],
   "source": [
    "S2.keys(),S2.index,S2.values"
   ]
  },
  {
   "cell_type": "code",
   "execution_count": 93,
   "id": "227ffc60",
   "metadata": {},
   "outputs": [
    {
     "data": {
      "text/plain": [
       "True"
      ]
     },
     "execution_count": 93,
     "metadata": {},
     "output_type": "execute_result"
    }
   ],
   "source": [
    "'a' in S2 #某个index是否在S2中，但不能查值"
   ]
  },
  {
   "cell_type": "markdown",
   "id": "ec3cf7f1",
   "metadata": {},
   "source": [
    "利用字典生成Series"
   ]
  },
  {
   "cell_type": "code",
   "execution_count": 5,
   "id": "a62d7041",
   "metadata": {},
   "outputs": [
    {
     "data": {
      "text/plain": [
       "score           100\n",
       "school         gduf\n",
       "city      GuangZhou\n",
       "dtype: object"
      ]
     },
     "execution_count": 5,
     "metadata": {},
     "output_type": "execute_result"
    }
   ],
   "source": [
    "x = {'score':100,'school':'gduf','city':'GuangZhou'}\n",
    "S3 = pd.Series(x)\n",
    "S3\n"
   ]
  },
  {
   "cell_type": "markdown",
   "id": "07682372",
   "metadata": {},
   "source": [
    "#### (1)在S2中增加元素"
   ]
  },
  {
   "cell_type": "code",
   "execution_count": 81,
   "id": "b4e2abf1",
   "metadata": {},
   "outputs": [
    {
     "data": {
      "text/plain": [
       "a     1\n",
       "b     3\n",
       "c     5\n",
       "d     7\n",
       "e     9\n",
       "f    11\n",
       "g    13\n",
       "dtype: int64"
      ]
     },
     "execution_count": 81,
     "metadata": {},
     "output_type": "execute_result"
    }
   ],
   "source": [
    "S2['g'] = 13\n",
    "S2"
   ]
  },
  {
   "cell_type": "markdown",
   "id": "58ab2028",
   "metadata": {},
   "source": [
    "#### (2)删除Series的元素"
   ]
  },
  {
   "cell_type": "code",
   "execution_count": 86,
   "id": "e6edc687",
   "metadata": {},
   "outputs": [
    {
     "data": {
      "text/plain": [
       "b     3\n",
       "c     5\n",
       "d     7\n",
       "e     9\n",
       "f    11\n",
       "g    13\n",
       "dtype: int64"
      ]
     },
     "execution_count": 86,
     "metadata": {},
     "output_type": "execute_result"
    }
   ],
   "source": [
    "S2.drop('a')"
   ]
  },
  {
   "cell_type": "code",
   "execution_count": 88,
   "id": "2199e026",
   "metadata": {},
   "outputs": [
    {
     "data": {
      "text/plain": [
       "a     1\n",
       "b     3\n",
       "c     5\n",
       "d     7\n",
       "e     9\n",
       "f    11\n",
       "g    13\n",
       "dtype: int64"
      ]
     },
     "execution_count": 88,
     "metadata": {},
     "output_type": "execute_result"
    }
   ],
   "source": [
    "S2"
   ]
  },
  {
   "cell_type": "markdown",
   "id": "b03ef54e",
   "metadata": {},
   "source": [
    "注意：这里删除元素不会体现在原始序列S2，而会生成一个新的Series"
   ]
  },
  {
   "cell_type": "markdown",
   "id": "cfefac7c",
   "metadata": {},
   "source": [
    "#### (3)改变Series的元素的值"
   ]
  },
  {
   "cell_type": "code",
   "execution_count": 91,
   "id": "23242113",
   "metadata": {},
   "outputs": [],
   "source": [
    "S2[['a','b']] = [21,22]\n",
    "S2\n"
   ]
  },
  {
   "cell_type": "code",
   "execution_count": 9,
   "id": "a55db81a",
   "metadata": {},
   "outputs": [
    {
     "data": {
      "text/plain": [
       "a    100.0\n",
       "b     95.0\n",
       "c     98.0\n",
       "e      NaN\n",
       "dtype: float64"
      ]
     },
     "execution_count": 9,
     "metadata": {},
     "output_type": "execute_result"
    }
   ],
   "source": [
    "S3 = pd.Series([100,95,98],index=['a','b','c',])\n",
    "S3.reindex(['a','b','c','e'])\n"
   ]
  }
 ],
 "metadata": {
  "kernelspec": {
   "display_name": "Python 3",
   "language": "python",
   "name": "python3"
  },
  "language_info": {
   "codemirror_mode": {
    "name": "ipython",
    "version": 3
   },
   "file_extension": ".py",
   "mimetype": "text/x-python",
   "name": "python",
   "nbconvert_exporter": "python",
   "pygments_lexer": "ipython3",
   "version": "3.8.10"
  }
 },
 "nbformat": 4,
 "nbformat_minor": 5
}
