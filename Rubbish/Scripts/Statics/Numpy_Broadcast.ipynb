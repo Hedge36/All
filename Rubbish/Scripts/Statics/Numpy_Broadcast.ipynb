{
 "cells": [
  {
   "cell_type": "markdown",
   "id": "cc860934",
   "metadata": {},
   "source": [
    "## numpy中数组计算的广播机制"
   ]
  },
  {
   "cell_type": "markdown",
   "id": "3df921bd",
   "metadata": {},
   "source": [
    "numpy模块的两个数组做相应运算时（+，-，*，\\），是按照元素进行（和线性代数运算区别）。做这种运算的前提条件是：两个数组的shape一致。如果两个数组的shape不一致，numpy会实行广播机制。"
   ]
  },
  {
   "cell_type": "markdown",
   "id": "cb8de882",
   "metadata": {},
   "source": [
    "当两个数组的形状并不相同的时候，我们可以通过扩展数组的方法来实现相加、相减、相乘等操作，这种机制叫做广播（broadcasting）。\n",
    "比如，一个二维数组减去列平均值，来对数组的每一列进行距平化处理："
   ]
  },
  {
   "cell_type": "code",
   "execution_count": 2,
   "id": "7b1401c1",
   "metadata": {},
   "outputs": [],
   "source": [
    "import numpy as np\n",
    "import random"
   ]
  },
  {
   "cell_type": "code",
   "execution_count": 9,
   "id": "b93b2769",
   "metadata": {},
   "outputs": [
    {
     "data": {
      "text/plain": [
       "array([[ 0.28884164, -1.74328561, -1.05925287],\n",
       "       [-0.23169775,  1.42495722,  0.87593576],\n",
       "       [ 0.91126661,  0.93264832,  1.46388955],\n",
       "       [ 0.89833404, -0.32648783,  0.43164774]])"
      ]
     },
     "execution_count": 9,
     "metadata": {},
     "output_type": "execute_result"
    }
   ],
   "source": [
    "arr = np.random.randn(4,3)\n",
    "arr"
   ]
  },
  {
   "cell_type": "code",
   "execution_count": 4,
   "id": "2afdf422",
   "metadata": {},
   "outputs": [
    {
     "name": "stdout",
     "output_type": "stream",
     "text": [
      "[ 0.11643465  0.10773404 -0.71046974]\n"
     ]
    },
    {
     "data": {
      "text/plain": [
       "(3,)"
      ]
     },
     "execution_count": 4,
     "metadata": {},
     "output_type": "execute_result"
    }
   ],
   "source": [
    "arr_mean = arr.mean(0)\n",
    "print(arr_mean)\n",
    "arr_mean.shape"
   ]
  },
  {
   "cell_type": "code",
   "execution_count": 36,
   "id": "8718555c",
   "metadata": {},
   "outputs": [
    {
     "data": {
      "text/plain": [
       "array([[-0.9259803 ,  0.17030095, -0.92905622],\n",
       "       [-0.04549615, -0.71719414, -0.0104473 ],\n",
       "       [-0.00704713,  0.46832089,  0.61928124],\n",
       "       [ 0.97852358,  0.0785723 ,  0.32022228]])"
      ]
     },
     "execution_count": 36,
     "metadata": {},
     "output_type": "execute_result"
    }
   ],
   "source": [
    "arr-arr_mean"
   ]
  },
  {
   "cell_type": "markdown",
   "id": "7b500851",
   "metadata": {},
   "source": [
    "上式arr和arr_mean维度并不形同，但是它们可以进行相减操作，这就是通过广播机制来实现的"
   ]
  },
  {
   "cell_type": "code",
   "execution_count": 12,
   "id": "fc6aedcd",
   "metadata": {},
   "outputs": [
    {
     "name": "stdout",
     "output_type": "stream",
     "text": [
      "[-0.83789894  0.68973174  1.10260149  0.33449799]\n"
     ]
    },
    {
     "data": {
      "text/plain": [
       "(4,)"
      ]
     },
     "execution_count": 12,
     "metadata": {},
     "output_type": "execute_result"
    }
   ],
   "source": [
    "arr_mean = arr.mean(1)\n",
    "print(arr_mean)\n",
    "arr_mean.shape"
   ]
  },
  {
   "cell_type": "code",
   "execution_count": 13,
   "id": "6802df8c",
   "metadata": {},
   "outputs": [
    {
     "ename": "ValueError",
     "evalue": "operands could not be broadcast together with shapes (4,3) (4,) ",
     "output_type": "error",
     "traceback": [
      "\u001b[1;31m---------------------------------------------------------------------------\u001b[0m",
      "\u001b[1;31mValueError\u001b[0m                                Traceback (most recent call last)",
      "\u001b[1;32m<ipython-input-13-18e2be8d625f>\u001b[0m in \u001b[0;36m<module>\u001b[1;34m\u001b[0m\n\u001b[1;32m----> 1\u001b[1;33m \u001b[0marr\u001b[0m\u001b[1;33m-\u001b[0m\u001b[0marr_mean\u001b[0m\u001b[1;33m\u001b[0m\u001b[1;33m\u001b[0m\u001b[0m\n\u001b[0m",
      "\u001b[1;31mValueError\u001b[0m: operands could not be broadcast together with shapes (4,3) (4,) "
     ]
    }
   ],
   "source": [
    "arr-arr_mean"
   ]
  },
  {
   "cell_type": "markdown",
   "id": "b015ebd4",
   "metadata": {},
   "source": [
    "广播的原则：如果两个数组的后缘维度（trailing dimension，即从末尾开始算起的维度）的轴长度相符，或其中的一方的长度为1，则认为它们是广播兼容的。广播会在缺失和（或）长度为1的维度上进行(这句话乃是理解广播的核心)。广播主要发生在两种情况，一种是两个数组的维数不相等，但是它们的后缘维度的轴长相符，另外一种是有一方的长度为1。"
   ]
  },
  {
   "cell_type": "markdown",
   "id": "916af28a",
   "metadata": {},
   "source": [
    "1、维度不同，但是后缘维度相同"
   ]
  },
  {
   "cell_type": "code",
   "execution_count": 45,
   "id": "44dbd7df",
   "metadata": {},
   "outputs": [
    {
     "name": "stdout",
     "output_type": "stream",
     "text": [
      "arr1=\n",
      " [[ 1.25543834 -1.06585291 -0.27434819  1.49523174  2.19114238]\n",
      " [-0.52459474  0.73811633  0.22977074  0.24681176  0.52329189]\n",
      " [-1.18423267  0.09594318 -1.35196    -2.1143115  -0.90934572]\n",
      " [-0.49176489 -1.13485332 -0.20063068 -0.41417959 -0.89626773]] \n",
      " arr2=\n",
      " [1 2 3 4 5] \n",
      " arr1+arr2=\n",
      " [[ 2.25543834  0.93414709  2.72565181  5.49523174  7.19114238]\n",
      " [ 0.47540526  2.73811633  3.22977074  4.24681176  5.52329189]\n",
      " [-0.18423267  2.09594318  1.64804     1.8856885   4.09065428]\n",
      " [ 0.50823511  0.86514668  2.79936932  3.58582041  4.10373227]]\n"
     ]
    }
   ],
   "source": [
    "import numpy as np\n",
    "import random\n",
    "arr1 = np.random.randn(4,5)#arr1.shape=(4,5)\n",
    "arr2 = np.array([1,2,3,4,5])#arr2.shape=(5,)\n",
    "print(\"arr1=\\n\",arr1,\"\\n\",\"arr2=\\n\",arr2,\"\\n\",\"arr1+arr2=\\n\",arr1+arr2)"
   ]
  },
  {
   "cell_type": "markdown",
   "id": "6f58ea90",
   "metadata": {},
   "source": [
    "  上例中arr1的shape为（4,3），arr2的shape为（3，）。可以说前者是二维的，而后者是一维的。但是它们的后缘维度相等，arr1的第二维长度为3，和arr2的维度相同。arr1和arr2的shape并不一样，但是它们可以执行相加操作，这就是通过广播完成的，在这个例子当中是将arr2沿着0轴进行扩展"
   ]
  },
  {
   "cell_type": "code",
   "execution_count": 51,
   "id": "283c3242",
   "metadata": {},
   "outputs": [
    {
     "name": "stdout",
     "output_type": "stream",
     "text": [
      "arr1=\n",
      " [[[-1.31923726 -0.02902639]\n",
      "  [ 1.85464412  0.41428047]\n",
      "  [ 0.358164    0.00248155]\n",
      "  [ 0.44607763 -0.59050035]]\n",
      "\n",
      " [[ 0.39449064  0.3597871 ]\n",
      "  [-0.53151628 -0.72997639]\n",
      "  [ 0.31099557  1.42766657]\n",
      "  [ 0.10327547 -1.81468962]]\n",
      "\n",
      " [[ 0.63752705  0.92017257]\n",
      "  [ 0.02879847  0.27200378]\n",
      "  [-0.80889928 -0.38037749]\n",
      "  [-0.89976586 -0.48071647]]] \n",
      " arr2=\n",
      " [[ 0.666808    0.63264601]\n",
      " [-0.79475543 -1.68347626]\n",
      " [-0.52051361  1.88616034]\n",
      " [ 2.71641485 -0.56605883]] \n",
      " arr1+arr2=\n",
      " [[[-0.65242926  0.60361962]\n",
      "  [ 1.05988868 -1.2691958 ]\n",
      "  [-0.16234961  1.88864189]\n",
      "  [ 3.16249248 -1.15655918]]\n",
      "\n",
      " [[ 1.06129863  0.99243311]\n",
      "  [-1.32627171 -2.41345265]\n",
      "  [-0.20951803  3.31382691]\n",
      "  [ 2.81969031 -2.38074845]]\n",
      "\n",
      " [[ 1.30433504  1.55281857]\n",
      "  [-0.76595696 -1.41147249]\n",
      "  [-1.32941288  1.50578285]\n",
      "  [ 1.81664898 -1.0467753 ]]]\n"
     ]
    }
   ],
   "source": [
    "\n",
    "arr1 = np.random.randn(3,4,2)#arr1.shape=(3,4,2)\n",
    "arr2 = np.random.randn(4,2)#arr2.shape=(4,2)\n",
    "print(\"arr1=\\n\",arr1,\"\\n\",\"arr2=\\n\",arr2,\"\\n\",\"arr1+arr2=\\n\",arr1+arr2)"
   ]
  },
  {
   "cell_type": "markdown",
   "id": "f86dff2a",
   "metadata": {},
   "source": [
    "2、数组维度相同，其中有个轴为1"
   ]
  },
  {
   "cell_type": "code",
   "execution_count": 14,
   "id": "cd9e7832",
   "metadata": {},
   "outputs": [
    {
     "name": "stdout",
     "output_type": "stream",
     "text": [
      "arr1=\n",
      " [[0 0 0]\n",
      " [1 1 1]\n",
      " [2 2 2]\n",
      " [3 3 3]] \n",
      " arr2=\n",
      " [[1]\n",
      " [2]\n",
      " [3]\n",
      " [4]] \n",
      " arr1+arr2=\n",
      " [[1 1 1]\n",
      " [3 3 3]\n",
      " [5 5 5]\n",
      " [7 7 7]]\n"
     ]
    }
   ],
   "source": [
    "arr1 = np.array([[0,0,0],[1,1,1],[2,2,2],[3,3,3]])\n",
    "arr2 = np.array([[1],[2],[3],[4]])\n",
    "print(\"arr1=\\n\",arr1,\"\\n\",\"arr2=\\n\",arr2,\"\\n\",\"arr1+arr2=\\n\",arr1+arr2)"
   ]
  },
  {
   "cell_type": "markdown",
   "id": "94c588df",
   "metadata": {},
   "source": [
    "在这种情况下，两个数组的维度要保证相等，其中有一个轴的长度为1，这样就会沿着长度为1的轴进行扩展。这样的例子还有：（4,6）和（1,6） 。（3,5,6）和（1,5,6）、（3,1,6）、（3,5,1），后面三个分别会沿着0轴，1轴，2轴进行广播。"
   ]
  }
 ],
 "metadata": {
  "kernelspec": {
   "display_name": "Python 3",
   "language": "python",
   "name": "python3"
  },
  "language_info": {
   "codemirror_mode": {
    "name": "ipython",
    "version": 3
   },
   "file_extension": ".py",
   "mimetype": "text/x-python",
   "name": "python",
   "nbconvert_exporter": "python",
   "pygments_lexer": "ipython3",
   "version": "3.8.10"
  }
 },
 "nbformat": 4,
 "nbformat_minor": 5
}
