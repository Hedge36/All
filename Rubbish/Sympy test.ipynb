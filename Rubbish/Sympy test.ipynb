{
 "metadata": {
  "language_info": {
   "codemirror_mode": {
    "name": "ipython",
    "version": 3
   },
   "file_extension": ".py",
   "mimetype": "text/x-python",
   "name": "python",
   "nbconvert_exporter": "python",
   "pygments_lexer": "ipython3",
   "version": "3.8.3-final"
  },
  "orig_nbformat": 2,
  "kernelspec": {
   "name": "python3",
   "display_name": "Python 3",
   "language": "python"
  }
 },
 "nbformat": 4,
 "nbformat_minor": 2,
 "cells": [
  {
   "cell_type": "code",
   "execution_count": null,
   "metadata": {},
   "outputs": [],
   "source": [
    "import sympy,math\n",
    "sys.displayhook = sympy.pprint\n",
    "\n",
    "def hf(λ, l, d, v):\n",
    "    \"短管沿程水头损失\"\n",
    "    hf = λ * l  * v**2/ (d * 2 * 9.8)\n",
    "    return hf\n",
    "\n",
    "\n",
    "def hj(ζ,v):\n",
    "    \"局部水头损失\"\n",
    "    hj = ζ * v **2 / 2 /9.8\n",
    "    return hj\n",
    "\n",
    "    \n",
    "def v(Q,d):\n",
    "    \"流速\"\n",
    "    v = 4*Q / math.pi / d ** 2\n",
    "    return v\n",
    "\n",
    "def hfl(a,l,Q):\n",
    "     \"长管水头损失\"\n",
    "     hf = a*l*Q**2\n",
    "     return hf   "
   ]
  },
  {
   "source": [
    "# 5-11\n",
    "l = 10\n",
    "d = 1\n",
    "Q = 4.3\n",
    "ζ = 1.5\n",
    "λ = 0.02\n",
    "μc = 1/(λ*l/d+ζ)**0.5\n",
    "A = math.pi*d**2/4\n",
    "H = sympy.symbols('H')\n",
    "f = Q - μc*A*(2*9.8*H)**0.5\n",
    "sympy.solve(f,H)"
   ],
   "cell_type": "code",
   "metadata": {},
   "execution_count": null,
   "outputs": []
  },
  {
   "source": [
    "# 5-13\n",
    "Q = 30E-3\n",
    "ζ1 = 7.5\n",
    "ζ2 = 4.5\n",
    "d1 = 0.2\n",
    "d2 = 0.15\n",
    "z = 30\n",
    "λ = 0.03\n",
    "l1 = 20\n",
    "l2 = 45\n",
    "v1 = v(Q,d1)\n",
    "v2 = v(Q,d2)\n",
    "γ = 9.8e3\n",
    "H = z + hj(ζ1,v1) + hj(ζ2,v2) + hf(λ, l1, d1, v1)+hf(λ, l2, d2, v2)\n",
    "H*γ*Q/0.8"
   ],
   "cell_type": "code",
   "metadata": {},
   "execution_count": null,
   "outputs": []
  },
  {
   "source": [
    "# 5-16\n",
    "Q1 = Q2 = 20E-3\n",
    "Q3 = 10E-3\n",
    "Q4 = 5E-3\n",
    "a1 = 9.029\n",
    "a2 = 41.85\n",
    "a3 = a4 = 365.3\n",
    "l1 = 30\n",
    "l2 = 240\n",
    "l3 = 200\n",
    "l4 = 100\n",
    "d1 = 0.2\n",
    "d2 = 0.15\n",
    "d3 = d4 = 0.1\n",
    "H = hfl(a1,l1,Q1)+hfl(a2,l2,Q2)+hfl(a3,l3,Q3)+hfl(a4,l4,Q4)+6.5*v(Q1,d1)**2 / 2 / 9.8 + 9\n",
    "H"
   ],
   "cell_type": "code",
   "metadata": {},
   "execution_count": null,
   "outputs": []
  },
  {
   "source": [
    "# 5-19\n",
    "x,y,z = sympy.symbols('x y z')\n",
    "Q = 120\n",
    "la = 1000\n",
    "lb = 900\n",
    "lc = 300\n",
    "da = 250e-3\n",
    "db = 300e-3\n",
    "dc = 250e-3\n",
    "λ = 0.03\n",
    "f = [x+y-Q,\n",
    "    z-y,\n",
    "    la / da**5 *x**2 -lb / db**5 *y**2 -lc / dc**5 *z**2 ]\n",
    "# solve(f,[x,y,z])\n",
    "va = v(x,da)\n",
    "hf(λ,la,da,va)"
   ],
   "cell_type": "code",
   "metadata": {},
   "execution_count": null,
   "outputs": []
  },
  {
   "source": [
    "#5-20\n",
    "x,y,z,m,n = sympy.symbols('x y z m n')\n",
    "Q = 1\n",
    "f = [Q - x- y,\n",
    "    x -m-z,\n",
    "    y-z-n,\n",
    "    m+n-Q,\n",
    "    x**2 - y**2 +z**2 + 2*m**2 -2*n **2]\n",
    "sympy.solve(f,[x,y,z,m,n])"
   ],
   "cell_type": "code",
   "metadata": {},
   "execution_count": null,
   "outputs": []
  },
  {
   "source": [
    "k = sympy.symbols('k')\n",
    "f = 0.9*(16e4 - k)**0.5 + 0.1*(16e4-k-7620)**0.5 - 385\n",
    "sympy.solve(f,k)"
   ],
   "cell_type": "code",
   "metadata": {},
   "execution_count": null,
   "outputs": []
  },
  {
   "source": [
    "# 求极限\n",
    "V,m = sympy.symbols(\"v m\")\n",
    "f = V - 2*m**2 * V + m**3\n",
    "sympy.limit(f,m,0)\n",
    "x = sympy.symbols(\"x\")\n",
    "G = sympy.Function(\"G\")\n",
    "# 微分方程的函数方程一定要声明\n",
    "# 求微分方程的解\n",
    "sympy.dsolve(G(x).diff(x) + G(x)**2 + G(x), G(x))\n"
   ],
   "cell_type": "code",
   "metadata": {},
   "execution_count": null,
   "outputs": []
  },
  {
   "source": [
    "# 二重定积分\n",
    "t,x = sympy.symbols(\"t x\")\n",
    "f = 2*t\n",
    "g = sympy.integrate(f,(t,0,x))\n",
    "print(sympy.integrate(g,(x,0,3)))\n",
    "# 不定积分\n",
    "print(sympy.integrate(6*x**5, x))"
   ],
   "cell_type": "code",
   "metadata": {},
   "execution_count": null,
   "outputs": []
  }
 ]
}