{
 "metadata": {
  "language_info": {
   "codemirror_mode": {
    "name": "ipython",
    "version": 3
   },
   "file_extension": ".py",
   "mimetype": "text/x-python",
   "name": "python",
   "nbconvert_exporter": "python",
   "pygments_lexer": "ipython3",
   "version": "3.8.3"
  },
  "orig_nbformat": 2,
  "kernelspec": {
   "name": "python383jvsc74a57bd0ed30ea7ea1cbcc5d6cdd427c80ab89fed01beb16106f90368e1dac31164d7c67",
   "display_name": "Python 3.8.3 64-bit"
  }
 },
 "nbformat": 4,
 "nbformat_minor": 2,
 "cells": [
  {
   "cell_type": "code",
   "execution_count": 2,
   "metadata": {},
   "outputs": [],
   "source": [
    "import pandas as pd \n",
    "import numpy as np "
   ]
  },
  {
   "cell_type": "code",
   "execution_count": 3,
   "metadata": {},
   "outputs": [
    {
     "output_type": "execute_result",
     "data": {
      "text/plain": [
       "          试件形状  试件长度/直径    试件宽度    试件高度    试件面积 Unnamed: 5 Unnamed: 6  \\\n",
       "0          圆柱体       50     NaN     100  1962.5        NaN        NaN   \n",
       "1         样品编号      最大力    抗压强度      围压    弹性模量      弹性泊松比       割线模量   \n",
       "2          NaN  284.991       0       0     NaN        NaN          0   \n",
       "3         试验时间      轴向力    轴向位移   轴向变形一   轴向变形二       径向变形     轴向变形均值   \n",
       "4          Sec       kN      mm      mm      mm         mm         mm   \n",
       "...        ...      ...     ...     ...     ...        ...        ...   \n",
       "43961  440.477    0.146 -3.2245  0.3422  0.0376     4.5023     0.1899   \n",
       "43962  440.487    0.221 -3.2256  0.3422  0.0377     4.5024       0.19   \n",
       "43963  440.497    0.147 -3.2289  0.3423  0.0376     4.5024     0.1899   \n",
       "43964  440.507    0.226 -3.2306  0.3423  0.0375     4.5023     0.1899   \n",
       "43965  440.517    0.136 -3.2319  0.3422  0.0376     4.5023     0.1899   \n",
       "\n",
       "      Unnamed: 7 Unnamed: 8 Unnamed: 9 Unnamed: 10 Unnamed: 11 Unnamed: 12  \\\n",
       "0            NaN        NaN        NaN         NaN         NaN         NaN   \n",
       "1          岩石泊松比   弹性模量起点X轴   弹性模量起点X轴    弹性模量起点Y轴    弹性模量终点X轴    弹性模量终点X轴   \n",
       "2            NaN        NaN     0.1168     -0.0213           0       0.298   \n",
       "3             围压       轴向应力       径向应变         NaN         NaN         NaN   \n",
       "4            MPa        MPa          %                     NaN         NaN   \n",
       "...          ...        ...        ...         ...         ...         ...   \n",
       "43961          0      0.074     0.0331         NaN         NaN         NaN   \n",
       "43962          0      0.113     0.0331         NaN         NaN         NaN   \n",
       "43963          0      0.075     0.0331         NaN         NaN         NaN   \n",
       "43964          0      0.115     0.0331         NaN         NaN         NaN   \n",
       "43965          0      0.069     0.0331         NaN         NaN         NaN   \n",
       "\n",
       "      Unnamed: 13 Unnamed: 14 Unnamed: 15 Unnamed: 16  Unnamed: 17  \n",
       "0             NaN         NaN         NaN         NaN          NaN  \n",
       "1        弹性模量终点Y轴    岩石模量终点X轴    岩石模量终点X轴    岩石模量终点Y轴          NaN  \n",
       "2         -0.0081           0      0.2095     -0.0187          0.0  \n",
       "3             NaN         NaN         NaN         NaN          NaN  \n",
       "4             NaN         NaN         NaN         NaN          NaN  \n",
       "...           ...         ...         ...         ...          ...  \n",
       "43961         NaN         NaN         NaN         NaN          NaN  \n",
       "43962         NaN         NaN         NaN         NaN          NaN  \n",
       "43963         NaN         NaN         NaN         NaN          NaN  \n",
       "43964         NaN         NaN         NaN         NaN          NaN  \n",
       "43965         NaN         NaN         NaN         NaN          NaN  \n",
       "\n",
       "[43966 rows x 18 columns]"
      ],
      "text/html": "<div>\n<style scoped>\n    .dataframe tbody tr th:only-of-type {\n        vertical-align: middle;\n    }\n\n    .dataframe tbody tr th {\n        vertical-align: top;\n    }\n\n    .dataframe thead th {\n        text-align: right;\n    }\n</style>\n<table border=\"1\" class=\"dataframe\">\n  <thead>\n    <tr style=\"text-align: right;\">\n      <th></th>\n      <th>试件形状</th>\n      <th>试件长度/直径</th>\n      <th>试件宽度</th>\n      <th>试件高度</th>\n      <th>试件面积</th>\n      <th>Unnamed: 5</th>\n      <th>Unnamed: 6</th>\n      <th>Unnamed: 7</th>\n      <th>Unnamed: 8</th>\n      <th>Unnamed: 9</th>\n      <th>Unnamed: 10</th>\n      <th>Unnamed: 11</th>\n      <th>Unnamed: 12</th>\n      <th>Unnamed: 13</th>\n      <th>Unnamed: 14</th>\n      <th>Unnamed: 15</th>\n      <th>Unnamed: 16</th>\n      <th>Unnamed: 17</th>\n    </tr>\n  </thead>\n  <tbody>\n    <tr>\n      <th>0</th>\n      <td>圆柱体</td>\n      <td>50</td>\n      <td>NaN</td>\n      <td>100</td>\n      <td>1962.5</td>\n      <td>NaN</td>\n      <td>NaN</td>\n      <td>NaN</td>\n      <td>NaN</td>\n      <td>NaN</td>\n      <td>NaN</td>\n      <td>NaN</td>\n      <td>NaN</td>\n      <td>NaN</td>\n      <td>NaN</td>\n      <td>NaN</td>\n      <td>NaN</td>\n      <td>NaN</td>\n    </tr>\n    <tr>\n      <th>1</th>\n      <td>样品编号</td>\n      <td>最大力</td>\n      <td>抗压强度</td>\n      <td>围压</td>\n      <td>弹性模量</td>\n      <td>弹性泊松比</td>\n      <td>割线模量</td>\n      <td>岩石泊松比</td>\n      <td>弹性模量起点X轴</td>\n      <td>弹性模量起点X轴</td>\n      <td>弹性模量起点Y轴</td>\n      <td>弹性模量终点X轴</td>\n      <td>弹性模量终点X轴</td>\n      <td>弹性模量终点Y轴</td>\n      <td>岩石模量终点X轴</td>\n      <td>岩石模量终点X轴</td>\n      <td>岩石模量终点Y轴</td>\n      <td>NaN</td>\n    </tr>\n    <tr>\n      <th>2</th>\n      <td>NaN</td>\n      <td>284.991</td>\n      <td>0</td>\n      <td>0</td>\n      <td>NaN</td>\n      <td>NaN</td>\n      <td>0</td>\n      <td>NaN</td>\n      <td>NaN</td>\n      <td>0.1168</td>\n      <td>-0.0213</td>\n      <td>0</td>\n      <td>0.298</td>\n      <td>-0.0081</td>\n      <td>0</td>\n      <td>0.2095</td>\n      <td>-0.0187</td>\n      <td>0.0</td>\n    </tr>\n    <tr>\n      <th>3</th>\n      <td>试验时间</td>\n      <td>轴向力</td>\n      <td>轴向位移</td>\n      <td>轴向变形一</td>\n      <td>轴向变形二</td>\n      <td>径向变形</td>\n      <td>轴向变形均值</td>\n      <td>围压</td>\n      <td>轴向应力</td>\n      <td>径向应变</td>\n      <td>NaN</td>\n      <td>NaN</td>\n      <td>NaN</td>\n      <td>NaN</td>\n      <td>NaN</td>\n      <td>NaN</td>\n      <td>NaN</td>\n      <td>NaN</td>\n    </tr>\n    <tr>\n      <th>4</th>\n      <td>Sec</td>\n      <td>kN</td>\n      <td>mm</td>\n      <td>mm</td>\n      <td>mm</td>\n      <td>mm</td>\n      <td>mm</td>\n      <td>MPa</td>\n      <td>MPa</td>\n      <td>%</td>\n      <td></td>\n      <td>NaN</td>\n      <td>NaN</td>\n      <td>NaN</td>\n      <td>NaN</td>\n      <td>NaN</td>\n      <td>NaN</td>\n      <td>NaN</td>\n    </tr>\n    <tr>\n      <th>...</th>\n      <td>...</td>\n      <td>...</td>\n      <td>...</td>\n      <td>...</td>\n      <td>...</td>\n      <td>...</td>\n      <td>...</td>\n      <td>...</td>\n      <td>...</td>\n      <td>...</td>\n      <td>...</td>\n      <td>...</td>\n      <td>...</td>\n      <td>...</td>\n      <td>...</td>\n      <td>...</td>\n      <td>...</td>\n      <td>...</td>\n    </tr>\n    <tr>\n      <th>43961</th>\n      <td>440.477</td>\n      <td>0.146</td>\n      <td>-3.2245</td>\n      <td>0.3422</td>\n      <td>0.0376</td>\n      <td>4.5023</td>\n      <td>0.1899</td>\n      <td>0</td>\n      <td>0.074</td>\n      <td>0.0331</td>\n      <td>NaN</td>\n      <td>NaN</td>\n      <td>NaN</td>\n      <td>NaN</td>\n      <td>NaN</td>\n      <td>NaN</td>\n      <td>NaN</td>\n      <td>NaN</td>\n    </tr>\n    <tr>\n      <th>43962</th>\n      <td>440.487</td>\n      <td>0.221</td>\n      <td>-3.2256</td>\n      <td>0.3422</td>\n      <td>0.0377</td>\n      <td>4.5024</td>\n      <td>0.19</td>\n      <td>0</td>\n      <td>0.113</td>\n      <td>0.0331</td>\n      <td>NaN</td>\n      <td>NaN</td>\n      <td>NaN</td>\n      <td>NaN</td>\n      <td>NaN</td>\n      <td>NaN</td>\n      <td>NaN</td>\n      <td>NaN</td>\n    </tr>\n    <tr>\n      <th>43963</th>\n      <td>440.497</td>\n      <td>0.147</td>\n      <td>-3.2289</td>\n      <td>0.3423</td>\n      <td>0.0376</td>\n      <td>4.5024</td>\n      <td>0.1899</td>\n      <td>0</td>\n      <td>0.075</td>\n      <td>0.0331</td>\n      <td>NaN</td>\n      <td>NaN</td>\n      <td>NaN</td>\n      <td>NaN</td>\n      <td>NaN</td>\n      <td>NaN</td>\n      <td>NaN</td>\n      <td>NaN</td>\n    </tr>\n    <tr>\n      <th>43964</th>\n      <td>440.507</td>\n      <td>0.226</td>\n      <td>-3.2306</td>\n      <td>0.3423</td>\n      <td>0.0375</td>\n      <td>4.5023</td>\n      <td>0.1899</td>\n      <td>0</td>\n      <td>0.115</td>\n      <td>0.0331</td>\n      <td>NaN</td>\n      <td>NaN</td>\n      <td>NaN</td>\n      <td>NaN</td>\n      <td>NaN</td>\n      <td>NaN</td>\n      <td>NaN</td>\n      <td>NaN</td>\n    </tr>\n    <tr>\n      <th>43965</th>\n      <td>440.517</td>\n      <td>0.136</td>\n      <td>-3.2319</td>\n      <td>0.3422</td>\n      <td>0.0376</td>\n      <td>4.5023</td>\n      <td>0.1899</td>\n      <td>0</td>\n      <td>0.069</td>\n      <td>0.0331</td>\n      <td>NaN</td>\n      <td>NaN</td>\n      <td>NaN</td>\n      <td>NaN</td>\n      <td>NaN</td>\n      <td>NaN</td>\n      <td>NaN</td>\n      <td>NaN</td>\n    </tr>\n  </tbody>\n</table>\n<p>43966 rows × 18 columns</p>\n</div>"
     },
     "metadata": {},
     "execution_count": 3
    }
   ],
   "source": [
    "df = pd.read_excel(\"1.xls\")\n",
    "df"
   ]
  },
  {
   "cell_type": "code",
   "execution_count": 12,
   "metadata": {},
   "outputs": [],
   "source": [
    "df.iloc[3:4,10] = 'py测试区'\n",
    "df.iloc[5:,10] = df.iloc[5:, 9] + 1"
   ]
  },
  {
   "cell_type": "code",
   "execution_count": 14,
   "metadata": {},
   "outputs": [],
   "source": [
    "df.to_excel(\"1.xls\", index=False)"
   ]
  }
 ]
}