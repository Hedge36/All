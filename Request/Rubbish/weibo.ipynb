{
 "metadata": {
  "language_info": {
   "codemirror_mode": {
    "name": "ipython",
    "version": 3
   },
   "file_extension": ".py",
   "mimetype": "text/x-python",
   "name": "python",
   "nbconvert_exporter": "python",
   "pygments_lexer": "ipython3",
   "version": "3.8.3"
  },
  "orig_nbformat": 2,
  "kernelspec": {
   "name": "python383jvsc74a57bd0ed30ea7ea1cbcc5d6cdd427c80ab89fed01beb16106f90368e1dac31164d7c67",
   "display_name": "Python 3.8.3 64-bit"
  }
 },
 "nbformat": 4,
 "nbformat_minor": 2,
 "cells": [
  {
   "cell_type": "code",
   "execution_count": 79,
   "metadata": {},
   "outputs": [],
   "source": [
    "import requests\n",
    "from lxml import etree\n",
    "from bs4 import BeautifulSoup\n",
    "from selenium import webdriver"
   ]
  },
  {
   "cell_type": "code",
   "execution_count": 86,
   "metadata": {},
   "outputs": [],
   "source": [
    "# 浏览器驱动路径\n",
    "drive_url = r\"D:\\Study\\2019-2020\\Python\\code\\Request\\Review Materials\\msedgedriver.exe\"\n",
    "browser = webdriver.Edge(executable_path=drive_url)"
   ]
  },
  {
   "source": [
    "headers = {\n",
    "'user-agent': 'Mozilla/5.0 (Windows NT 10.0; Win64; x64) AppleWebKit/537.36 (KHTML, like Gecko) Chrome/65.0.3325.146 Safari/537.36'\n",
    "}\n",
    "cookies = {'cookie': 'UM_distinctid=17549eb5f5556e-03324d9dc741fc-5f79591b-144000-17549eb5f563c3; SINAGLOBAL=7155365335094.175.1603262964232; UOR=,,www.cjavapy.com; SUB=_2AkMXMeanf8NxqwFRmPkWxG_iZIl0yw_EieKhbRd8JRMxHRl-yT9kqmw-tRB6PLHISJcTrjO1-ipposzyaXHTEsM865CQ; SUBP=0033WrSXqPxfM72-Ws9jqgMF55529P9D9WFeY7Ee.RJolMLbC5I4Bddo; _s_tentry=-; Apache=1671028124162.9565.1617846918907; ULV=1617846918979:14:2:4:1671028124162.9565.1617846918907:1617610340165; WBtopGlobal_register_version=2021040810; appkey=; WBStorage=202104081033|undefined; crossidccode=CODE-tc-1LukuW-14XwOM-oimMa891cTdnF3s4ed5b7'}\n",
    "\n",
    "url = \"https://weibo.com/1918149512/K8p04fgl7?refer_flag=1001030103_&type=comment#_loginLayer_1617849257580\""
   ],
   "cell_type": "code",
   "metadata": {},
   "execution_count": 97,
   "outputs": []
  },
  {
   "source": [
    "browser.get(url)\n",
    "r = browser.page_source"
   ],
   "cell_type": "markdown",
   "metadata": {}
  },
  {
   "source": [
    "browser.find_element_by_xpath('//*[@id=\"Pl_Official_WeiboDetail__58\"]/div/div/div/div[1]/div[3]/div[4]').text\n"
   ],
   "cell_type": "markdown",
   "metadata": {}
  },
  {
   "source": [
    "response = requests.get(url, headers = headers, cookies = cookies)\n",
    "response.text[1000:5000]"
   ],
   "cell_type": "code",
   "metadata": {},
   "execution_count": 101,
   "outputs": [
    {
     "output_type": "execute_result",
     "data": {
      "text/plain": [
       "'.cn/\">\\r\\n<link rel=\"dns-prefetch\" href=\"//tp4.sinaimg.cn/\">\\r\\n<link rel=\"dns-prefetch\" href=\"//ww1.sinaimg.cn/\">\\r\\n<link rel=\"dns-prefetch\" href=\"//ww2.sinaimg.cn/\">\\r\\n<link rel=\"dns-prefetch\" href=\"//ww3.sinaimg.cn/\">\\r\\n<link rel=\"dns-prefetch\" href=\"//ww4.sinaimg.cn/\">\\r\\n\\r\\n<link rel=\"mask-icon\" sizes=\"any\" href=\"//img.t.sinajs.cn/t6/style/images/apple/wbfont.svg\" color=\"black\" />\\r\\n<link rel=\"shortcut icon\" type=\"image/x-icon\" href=\"/favicon.ico\" />\\r\\n\\r\\n<title>本固根深才能枝荣叶茂（感悟初心）2019... 来自直播广州 - 微博</title>\\r\\n<link type=\"text/css\" rel=\"stylesheet\" charset=\"utf-8\" href=\"//img.t.sinajs.cn/t6/style/css/module/base/frame.css?version=8360e4a841c8aaec\" putoff=\"style/css/module/combination/extra.css?version=8360e4a841c8aaec\" />\\n\\t<link type=\"text/css\" rel=\"stylesheet\" charset=\"utf-8\" href=\"//img.t.sinajs.cn/t6/skin/diy/skin.css?version=8360e4a841c8aaec\" />\\n\\t<style id=\"custom_style\" type=\"text/css\">\\n            @import \\'//img.t.sinajs.cn/t6/skin/diy/diy003/skin.css?version=40c445261b223d2b\\';\\n              body,.S_page{\\n               background-image:url(\\'//ww1.sinaimg.cn/woriginal/7254a388gw1e7nmc5xn1uj211h0lidht.jpg\\');\\n               background-repeat    : no-repeat;\\n               background-attachment: fixed;\\n               background-position  : center top;\\n              }\\n        </style>\\r\\n<script type=\"text/javascript\">\\r\\n~function(l){var h = l.href, r = l.protocol +\\'//\\'+ l.host, i = h.indexOf(\\'#!\\'), s = i != -1 ? h.substr(i + 2) : \\'\\';if ( (new RegExp(\"/[a-zA-Z0-9\\\\\\\\.\\\\\\\\-~!@#$%^&*+?:_/=<>]+\", \"gi\")).test(s) ) l.replace(r + s);}(location)\\r\\n</script>\\r\\n<script type=\"text/javascript\">\\r\\ntry{document.execCommand(\"BackgroundImageCache\", false, true);}catch(e){}\\r\\n</script>\\r\\n<!-- $CONFIG -->\\r\\n<script type=\"text/javascript\">\\r\\nvar $CONFIG = {};\\r\\n$CONFIG[\\'islogin\\']=\\'2\\'; \\r\\n$CONFIG[\\'oid\\']=\\'1918149512\\'; \\r\\n$CONFIG[\\'page_id\\']=\\'1002061918149512\\'; \\r\\n$CONFIG[\\'onick\\']=\\'直播广州\\'; \\r\\n$CONFIG[\\'skin\\']=\\'diy\\'; \\r\\n$CONFIG[\\'background\\']=\\'7254a388gw1e7nmc5xn1uj211h0lidht\\'; \\r\\n$CONFIG[\\'scheme\\']=\\'diy003\\'; \\r\\n$CONFIG[\\'colors_type\\']=\\'0\\'; \\r\\n$CONFIG[\\'uid\\']=\\'3655689037\\'; \\r\\n$CONFIG[\\'nick\\']=\\'欢迎新用户\\'; \\r\\n$CONFIG[\\'sex\\']=\\'m\\'; \\r\\n$CONFIG[\\'watermark\\']=\\'u/3655689037\\'; \\r\\n$CONFIG[\\'domain\\']=\\'100206\\'; \\r\\n$CONFIG[\\'lang\\']=\\'zh-cn\\'; \\r\\n$CONFIG[\\'avatar_large\\']=\\'https://tva1.sinaimg.cn/crop.0.0.179.179.180/d9e5634djw1east9pi6bej2050050dfw.jpg?KID=imgbed,tva&amp;Expires=1617861360&amp;ssig=PHyHj4goEv\\'; \\r\\n$CONFIG[\\'timeDiff\\']=(new Date() - 1617850690000); \\r\\n$CONFIG[\\'servertime\\']=\\'1617850690\\'; \\r\\n$CONFIG[\\'location\\']=\\'page_100206_single_weibo\\'; \\r\\n$CONFIG[\\'pageid\\']=\\'\\'; \\r\\n$CONFIG[\\'title_value\\']=\\'本固根深才能枝荣叶茂（感悟初心）2019... 来自直播广州 - 微博\\'; \\r\\n$CONFIG[\\'$webim\\']=\\'1\\'; \\r\\n$CONFIG[\\'miyou\\']=\\'1\\'; \\r\\n$CONFIG[\\'brand\\']=\\'0\\'; \\r\\n$CONFIG[\\'bigpipe\\']=\\'true\\'; \\r\\n$CONFIG[\\'bpType\\']=\\'page\\'; \\r\\n$CONFIG[\\'cssPath\\']=\\'//img.t.sinajs.cn/t6/\\'; \\r\\n$CONFIG[\\'imgPath\\']=\\'//img.t.sinajs.cn/t6/\\'; \\r\\n$CONFIG[\\'jsPath\\']=\\'//js.t.sinajs.cn/t6/\\'; \\r\\n$CONFIG[\\'mJsPath\\']=[\"\\\\/\\\\/js{n}.t.sinajs.cn\\\\/t6\\\\/\",1,2]; \\r\\n$CONFIG[\\'mCssPath\\']=[\"\\\\/\\\\/img{n}.t.sinajs.cn\\\\/t6\\\\/\",1,2]; \\r\\n$CONFIG[\\'version\\']=\\'0344db14bef7e76a\\'; \\r\\n$CONFIG[\\'g_mathematician\\']=\\'1\\'; \\r\\n$CONFIG[\\'isAuto\\']=\\'0\\'; \\r\\n$CONFIG[\\'timeweibo\\']=\\'1\\'; \\r\\n$CONFIG[\\'isVmember\\']=\\'0\\'; \\r\\n$CONFIG[\\'isKrMember\\']=\\'0\\'; \\r\\n$CONFIG[\\'isGoldenV\\']=\\'0\\'; \\r\\n</script>\\r\\n<!-- / $CONFIG -->\\r\\n</head>\\r\\n<body class=\"B_page S_page\">\\r\\n  <div class=\"WB_miniblog\">\\r\\n    <div class=\"WB_miniblog_fb\">\\r\\n      <div id=\"pl_common_top\">\\r\\n      </div>\\r\\n      \\t    <!-- 未登录注册邀请页 -->\\r\\n\\t    <div id=\"pl_common_unlogininvitereg\"></div>\\r\\n\\t    <!-- /未登录注册邀请页 -->\\r\\n\\t    <!-- 未登录base页 -->\\r\\n\\t    <div id=\"pl_common_unloginbase\"></div>\\r\\n\\t    <!-- /未登录base页 -->\\r\\n\\t    <!-- SUDA_CODE_START -->\\r\\n<script type=\\'text/javascript\\' charset=\"utf-8\">\\r\\n(function() {\\r\\n\\tvar doc = document,\\r\\n\\t\\twa = doc.createElement(\\'script\\'),\\r\\n\\t\\ts = doc.getElementsByTagName(\\'script\\')[0];\\r\\n    wa.type = \\'text/javascript\\';\\r\\n    wa.charset = \\'utf-8\\';\\r\\n    wa.async = true;\\r\\n    wa.src = (\\'https:\\' == doc.location.protocol ? \\'https://\\' : \\'http://\\') + \\'js.t.sinajs.cn/open/analytics/js/suda.js?version=0344db14bef7e76a\\';\\r\\n    '"
      ]
     },
     "metadata": {},
     "execution_count": 101
    }
   ]
  },
  {
   "source": [
    "soup = BeautifulSoup(response.text,'html.parser')\n",
    "soup.find_all('class=\"WB_text W_f14\"')"
   ],
   "cell_type": "markdown",
   "metadata": {}
  },
  {
   "cell_type": "code",
   "execution_count": null,
   "metadata": {},
   "outputs": [],
   "source": []
  }
 ]
}