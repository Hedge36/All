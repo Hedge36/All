{
 "cells": [
  {
   "cell_type": "code",
   "execution_count": 15,
   "metadata": {},
   "outputs": [],
   "source": [
    "import urllib.request"
   ]
  },
  {
   "cell_type": "markdown",
   "metadata": {},
   "source": [
    "## 获取一个get请求"
   ]
  },
  {
   "cell_type": "code",
   "execution_count": null,
   "metadata": {
    "scrolled": false
   },
   "outputs": [],
   "source": [
    "response = urllib.request.urlopen(\"http://www.baidu.com\")\n",
    "print(response.read().decode(\"utf-8\"))"
   ]
  },
  {
   "cell_type": "markdown",
   "metadata": {},
   "source": [
    "## 获取一个post请求"
   ]
  },
  {
   "cell_type": "code",
   "execution_count": null,
   "metadata": {},
   "outputs": [],
   "source": [
    "import urllib.parse\n",
    "\n",
    "\n",
    "target_url = \"http://httpbin.org/post\"\n",
    "account = \"account\"\n",
    "password = \"password\"\n",
    "\n",
    "\n",
    "data = bytes(urllib.parse.urlencode({account: password}), encoding=\"utf-8\")\n",
    "response = urllib.request.urlopen(target_url, data = data)\n",
    "print(response.read().decode(\"utf-8\"))"
   ]
  },
  {
   "cell_type": "markdown",
   "metadata": {},
   "source": [
    "## 页面响应超时处理"
   ]
  },
  {
   "cell_type": "code",
   "execution_count": null,
   "metadata": {
    "scrolled": true
   },
   "outputs": [],
   "source": [
    "try:\n",
    "    response = urllib.request.urlopen(\"http://httpbin.org/get\", timeout = 3)\n",
    "    print(response.read().decode(\"utf-8\"))\n",
    "except urllib.error.URLError as e:\n",
    "    print(\"Time out!\")"
   ]
  },
  {
   "cell_type": "markdown",
   "metadata": {},
   "source": [
    "## Response Headers属性"
   ]
  },
  {
   "cell_type": "code",
   "execution_count": null,
   "metadata": {},
   "outputs": [],
   "source": [
    "response = urllib.request.urlopen(\"http://httpbin.org/get\", timeout = 3)\n",
    "print(response.status)\n",
    "# 200 表示状态正常\n",
    "# 418 为一个梗，意味对方已经发现你是爬虫\n",
    "# 获取回应题头所有属性\n",
    "print(response.getheaders())\n",
    "#  获取回应题头某一单一属性\n",
    "print(response.getheader(\"status\"))"
   ]
  },
  {
   "cell_type": "markdown",
   "metadata": {},
   "source": [
    "## Header属性封装"
   ]
  },
  {
   "cell_type": "code",
   "execution_count": null,
   "metadata": {},
   "outputs": [],
   "source": [
    "url = \"https://www.douban.com\"\n",
    "headers = {\n",
    "\"User-Agent\": \"Mozilla/5.0 (Windows NT 10.0; WOW64) AppleWebKit/537.36 (KHTML, like Gecko) Chrome/84.0.4147.89 Safari/537.36 SLBrowser/7.0.0.1071 SLBChan/8\"}\n",
    "req = urllib.request.Request(url=url, headers= headers, method=\"GET\")\n",
    "response = urllib.request.urlopen(req)\n",
    "print(response.read().decode(\"utf-8\"))"
   ]
  }
 ],
 "metadata": {
  "kernelspec": {
   "display_name": "Python 3",
   "language": "python",
   "name": "python3"
  },
  "language_info": {
   "codemirror_mode": {
    "name": "ipython",
    "version": 3
   },
   "file_extension": ".py",
   "mimetype": "text/x-python",
   "name": "python",
   "nbconvert_exporter": "python",
   "pygments_lexer": "ipython3",
   "version": "3.8.3"
  }
 },
 "nbformat": 4,
 "nbformat_minor": 4
}
