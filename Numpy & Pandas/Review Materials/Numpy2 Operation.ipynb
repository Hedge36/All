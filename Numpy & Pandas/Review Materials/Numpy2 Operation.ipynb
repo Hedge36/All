{
 "metadata": {
  "language_info": {
   "codemirror_mode": {
    "name": "ipython",
    "version": 3
   },
   "file_extension": ".py",
   "mimetype": "text/x-python",
   "name": "python",
   "nbconvert_exporter": "python",
   "pygments_lexer": "ipython3",
   "version": "3.8.3"
  },
  "orig_nbformat": 2,
  "kernelspec": {
   "name": "python383jvsc74a57bd0ed30ea7ea1cbcc5d6cdd427c80ab89fed01beb16106f90368e1dac31164d7c67",
   "display_name": "Python 3.8.3 64-bit"
  }
 },
 "nbformat": 4,
 "nbformat_minor": 2,
 "cells": [
  {
   "cell_type": "code",
   "execution_count": null,
   "metadata": {},
   "outputs": [],
   "source": [
    "import numpy as np"
   ]
  },
  {
   "cell_type": "code",
   "execution_count": null,
   "metadata": {},
   "outputs": [],
   "source": [
    "a = np.array([10, 20, 30, 40])\n",
    "b = np.arange(4)"
   ]
  },
  {
   "source": [
    "基本的一维运算"
   ],
   "cell_type": "markdown",
   "metadata": {}
  },
  {
   "cell_type": "code",
   "execution_count": null,
   "metadata": {},
   "outputs": [],
   "source": [
    "a - b, a + b, b**2, a * b "
   ]
  },
  {
   "cell_type": "code",
   "execution_count": null,
   "metadata": {},
   "outputs": [],
   "source": [
    "10 * np.sin(a), b < 3"
   ]
  },
  {
   "source": [
    "多维运算"
   ],
   "cell_type": "markdown",
   "metadata": {}
  },
  {
   "cell_type": "code",
   "execution_count": null,
   "metadata": {},
   "outputs": [],
   "source": [
    "c = np.array([\n",
    "    [1,1],\n",
    "    [2,2]\n",
    "])\n",
    "d = b.reshape((2,2))"
   ]
  },
  {
   "cell_type": "code",
   "execution_count": null,
   "metadata": {},
   "outputs": [],
   "source": [
    "c * d"
   ]
  },
  {
   "cell_type": "code",
   "execution_count": null,
   "metadata": {},
   "outputs": [],
   "source": [
    "np. dot(c,d)\n",
    "# c.dot(d)"
   ]
  },
  {
   "source": [
    "高阶运算"
   ],
   "cell_type": "markdown",
   "metadata": {}
  },
  {
   "cell_type": "code",
   "execution_count": null,
   "metadata": {},
   "outputs": [],
   "source": [
    "# 生成随机矩阵\n",
    "e = np.random.random((4,4))\n",
    "e"
   ]
  },
  {
   "cell_type": "code",
   "execution_count": null,
   "metadata": {},
   "outputs": [],
   "source": [
    "# 逐列求和， axis行或列操作\n",
    "np.sum(e, axis=0)"
   ]
  },
  {
   "source": [
    "索引操作"
   ],
   "cell_type": "markdown",
   "metadata": {}
  },
  {
   "cell_type": "code",
   "execution_count": 31,
   "metadata": {},
   "outputs": [
    {
     "output_type": "execute_result",
     "data": {
      "text/plain": [
       "array([0.94517715, 0.38972317])"
      ]
     },
     "metadata": {},
     "execution_count": 31
    }
   ],
   "source": [
    "# 返回矩阵e中最小元素对应索引号\n",
    "np.argmin(e)\n",
    "# 矩阵元素索引方式\n",
    "# 索引矩阵e中第1行第2个数\n",
    "e[1][2], e[1,2]\n",
    "# 索引矩阵第二行第二第三个元素\n",
    "e[1,1:3]\n"
   ]
  },
  {
   "cell_type": "code",
   "execution_count": null,
   "metadata": {},
   "outputs": [],
   "source": [
    "# 矩阵e元素平均值，中位数，逐项累加值， 邻项差值\n",
    "np.mean(e), np.median(e), np.cumsum(e), np.diff(e),\n",
    "# np.average(e)"
   ]
  },
  {
   "cell_type": "code",
   "execution_count": null,
   "metadata": {},
   "outputs": [],
   "source": [
    "# 返回矩阵e中非零数对应的两个行数与列数对应矩阵\n",
    "np.nonzero(e)"
   ]
  },
  {
   "cell_type": "code",
   "execution_count": null,
   "metadata": {},
   "outputs": [],
   "source": [
    "np.sort(e)"
   ]
  },
  {
   "source": [
    "转置矩阵与一维转化(迭代器)<br>\n",
    "一维向量无法直接转置，可采用如下方式:\n",
    "e\\[:,np.newaxis]"
   ],
   "cell_type": "markdown",
   "metadata": {}
  },
  {
   "cell_type": "code",
   "execution_count": 32,
   "metadata": {},
   "outputs": [
    {
     "output_type": "execute_result",
     "data": {
      "text/plain": [
       "(array([[0.2699752 , 0.80642319, 0.7115676 , 0.87676421],\n",
       "        [0.43654781, 0.94517715, 0.73373977, 0.57669794],\n",
       "        [0.22759141, 0.38972317, 0.45131109, 0.39600244],\n",
       "        [0.74149329, 0.413439  , 0.697788  , 0.84279679]]),\n",
       " <numpy.flatiter at 0x15b60e1c1a0>)"
      ]
     },
     "metadata": {},
     "execution_count": 32
    }
   ],
   "source": [
    "\n",
    "# np.transpose(e)\n",
    "e.T, e.flat"
   ]
  },
  {
   "cell_type": "code",
   "execution_count": null,
   "metadata": {},
   "outputs": [],
   "source": [
    "# 根据最大最小值截取矩阵（超过或不足直接取最值）\n",
    "np.clip(e,0.3,0.8)"
   ]
  },
  {
   "source": [
    "<h3>Array对象的合并"
   ],
   "cell_type": "markdown",
   "metadata": {}
  },
  {
   "cell_type": "code",
   "execution_count": 33,
   "metadata": {},
   "outputs": [],
   "source": [
    "A = np.array([1, 1, 1])\n",
    "B = np.array([2, 2, 2])"
   ]
  },
  {
   "cell_type": "code",
   "execution_count": null,
   "metadata": {},
   "outputs": [],
   "source": [
    "# vertical stack 竖向合并\n",
    "np.vstack((A, B))"
   ]
  },
  {
   "cell_type": "code",
   "execution_count": 36,
   "metadata": {},
   "outputs": [
    {
     "output_type": "execute_result",
     "data": {
      "text/plain": [
       "array([1, 1, 1, 2, 2, 2])"
      ]
     },
     "metadata": {},
     "execution_count": 36
    }
   ],
   "source": [
    "# horizontal stack 水平合并\n",
    "np.hstack((A, B))"
   ]
  },
  {
   "source": [
    "<h2>Array对象的分割</h2>\n",
    "平均分配"
   ],
   "cell_type": "markdown",
   "metadata": {}
  },
  {
   "cell_type": "code",
   "execution_count": 41,
   "metadata": {},
   "outputs": [
    {
     "output_type": "execute_result",
     "data": {
      "text/plain": [
       "(array([[ 0,  1,  2,  3],\n",
       "        [ 4,  5,  6,  7],\n",
       "        [ 8,  9, 10, 11]]),\n",
       " [array([[0, 1],\n",
       "         [4, 5],\n",
       "         [8, 9]]),\n",
       "  array([[ 2,  3],\n",
       "         [ 6,  7],\n",
       "         [10, 11]])])"
      ]
     },
     "metadata": {},
     "execution_count": 41
    }
   ],
   "source": [
    "C = np.arange(12).reshape((3, 4))\n",
    "C, np.split(C, 2, axis=1)\n",
    "# np.vsplit(array, indice)\n",
    "# np.hsplit(array, indice)"
   ]
  },
  {
   "source": [
    "不均分配"
   ],
   "cell_type": "markdown",
   "metadata": {}
  },
  {
   "cell_type": "code",
   "execution_count": 42,
   "metadata": {},
   "outputs": [
    {
     "output_type": "execute_result",
     "data": {
      "text/plain": [
       "[array([[0, 1],\n",
       "        [4, 5],\n",
       "        [8, 9]]),\n",
       " array([[ 2],\n",
       "        [ 6],\n",
       "        [10]]),\n",
       " array([[ 3],\n",
       "        [ 7],\n",
       "        [11]])]"
      ]
     },
     "metadata": {},
     "execution_count": 42
    }
   ],
   "source": [
    "np.array_split(C, 3, axis=1)"
   ]
  }
 ]
}