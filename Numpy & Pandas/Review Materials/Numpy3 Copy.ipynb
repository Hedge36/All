{
 "metadata": {
  "language_info": {
   "codemirror_mode": {
    "name": "ipython",
    "version": 3
   },
   "file_extension": ".py",
   "mimetype": "text/x-python",
   "name": "python",
   "nbconvert_exporter": "python",
   "pygments_lexer": "ipython3",
   "version": "3.8.3"
  },
  "orig_nbformat": 2,
  "kernelspec": {
   "name": "python383jvsc74a57bd0ed30ea7ea1cbcc5d6cdd427c80ab89fed01beb16106f90368e1dac31164d7c67",
   "display_name": "Python 3.8.3 64-bit"
  }
 },
 "nbformat": 4,
 "nbformat_minor": 2,
 "cells": [
  {
   "cell_type": "code",
   "execution_count": 1,
   "metadata": {},
   "outputs": [],
   "source": [
    "import numpy as np"
   ]
  },
  {
   "source": [
    "<h2>浅拷贝与深拷贝"
   ],
   "cell_type": "markdown",
   "metadata": {}
  },
  {
   "source": [
    "浅拷贝"
   ],
   "cell_type": "markdown",
   "metadata": {}
  },
  {
   "cell_type": "code",
   "execution_count": 5,
   "metadata": {},
   "outputs": [
    {
     "output_type": "execute_result",
     "data": {
      "text/plain": [
       "(True,\n",
       " array([[2, 2],\n",
       "        [2, 3]]))"
      ]
     },
     "metadata": {},
     "execution_count": 5
    }
   ],
   "source": [
    "a = np.array([[1, 2], \n",
    "                [2, 3]])\n",
    "b = a\n",
    "a[0][0] = 2.3\n",
    "b is a, b"
   ]
  },
  {
   "source": [
    "深拷贝"
   ],
   "cell_type": "markdown",
   "metadata": {}
  },
  {
   "cell_type": "code",
   "execution_count": 10,
   "metadata": {},
   "outputs": [
    {
     "output_type": "execute_result",
     "data": {
      "text/plain": [
       "(False,\n",
       " array([[5, 2],\n",
       "        [2, 3]]),\n",
       " array([[5, 2],\n",
       "        [2, 3]]))"
      ]
     },
     "metadata": {},
     "execution_count": 10
    }
   ],
   "source": [
    "b = a.copy()\n",
    "a[0][0] = 5.3\n",
    "b is a, a, b"
   ]
  }
 ]
}