{
 "metadata": {
  "language_info": {
   "codemirror_mode": {
    "name": "ipython",
    "version": 3
   },
   "file_extension": ".py",
   "mimetype": "text/x-python",
   "name": "python",
   "nbconvert_exporter": "python",
   "pygments_lexer": "ipython3",
   "version": "3.8.3"
  },
  "orig_nbformat": 2,
  "kernelspec": {
   "name": "python3",
   "display_name": "Python 3.8.3 64-bit",
   "metadata": {
    "interpreter": {
     "hash": "ed30ea7ea1cbcc5d6cdd427c80ab89fed01beb16106f90368e1dac31164d7c67"
    }
   }
  }
 },
 "nbformat": 4,
 "nbformat_minor": 2,
 "cells": [
  {
   "cell_type": "code",
   "execution_count": 1,
   "metadata": {},
   "outputs": [],
   "source": [
    "import csv"
   ]
  },
  {
   "source": [
    "csv文件读取"
   ],
   "cell_type": "markdown",
   "metadata": {}
  },
  {
   "cell_type": "code",
   "execution_count": null,
   "metadata": {},
   "outputs": [],
   "source": [
    "with open(\"1.csv\", \"r\") as f:\n",
    "    # 实例化内置读取类，获取一个csv读取器，返回reader对象\n",
    "    csvfile = csv.reader(f)\n",
    "    # 以行读取，行内列表元素以逗号分割，返回二元列表\n",
    "    print(list(csvfile))"
   ]
  },
  {
   "source": [
    "csv文件写入"
   ],
   "cell_type": "markdown",
   "metadata": {}
  },
  {
   "cell_type": "code",
   "execution_count": null,
   "metadata": {},
   "outputs": [],
   "source": [
    "with open(\"2.csv\", \"w\") as w:\n",
    "    writefile = csv.writer(w)\n",
    "    writefile.writerow([\"1\", \"2\"])\n",
    "    writefile.writerows([[\"2\"],[\"3\"]])"
   ]
  }
 ]
}