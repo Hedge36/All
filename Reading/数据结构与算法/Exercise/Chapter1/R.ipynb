{
 "cells": [
  {
   "cell_type": "code",
   "execution_count": null,
   "source": [
    "def is_multiple(n:int, m:int):\r\n",
    "    return not bool(n % m)"
   ],
   "outputs": [],
   "metadata": {}
  },
  {
   "cell_type": "code",
   "execution_count": null,
   "source": [
    "def is_even(k: int):\r\n",
    "    return not bool(k % 2)\r\n"
   ],
   "outputs": [],
   "metadata": {}
  },
  {
   "cell_type": "code",
   "execution_count": null,
   "source": [
    "def minmax(data):\r\n",
    "    m, n =  0, 0\r\n",
    "    for i in range(len(data)):\r\n",
    "        if data[i] > m :\r\n",
    "            m = data[i]\r\n",
    "        else:\r\n",
    "            n = data[i]\r\n",
    "    return m,n"
   ],
   "outputs": [],
   "metadata": {}
  },
  {
   "cell_type": "code",
   "execution_count": null,
   "source": [
    "def squareplus(n:int):\r\n",
    "    return sum([i**2 for i in range(1, n+1)])"
   ],
   "outputs": [],
   "metadata": {}
  },
  {
   "cell_type": "code",
   "execution_count": null,
   "source": [
    "def oddsquareplus(n: int):\r\n",
    "    return sum([i**2 for i in range(1, n+1) if i % 2 == 1])"
   ],
   "outputs": [],
   "metadata": {}
  },
  {
   "cell_type": "code",
   "execution_count": null,
   "source": [
    "list(range(50, 90, 10))"
   ],
   "outputs": [],
   "metadata": {}
  },
  {
   "cell_type": "code",
   "execution_count": null,
   "source": [
    "list(range(8, -10, -2))"
   ],
   "outputs": [],
   "metadata": {}
  },
  {
   "cell_type": "code",
   "execution_count": null,
   "source": [
    "[2**i for i in range(1, 9)]"
   ],
   "outputs": [],
   "metadata": {}
  },
  {
   "cell_type": "code",
   "execution_count": null,
   "source": [
    "def selfchoice(data):\r\n",
    "    import random\r\n",
    "    size = len(data)\r\n",
    "    index = random.randrange(start=0, stop=size, step=1)\r\n",
    "    return data[index]"
   ],
   "outputs": [],
   "metadata": {}
  }
 ],
 "metadata": {
  "orig_nbformat": 4,
  "language_info": {
   "name": "python",
   "version": "3.8.3",
   "mimetype": "text/x-python",
   "codemirror_mode": {
    "name": "ipython",
    "version": 3
   },
   "pygments_lexer": "ipython3",
   "nbconvert_exporter": "python",
   "file_extension": ".py"
  },
  "kernelspec": {
   "name": "python3",
   "display_name": "Python 3.8.3 64-bit"
  },
  "interpreter": {
   "hash": "ed30ea7ea1cbcc5d6cdd427c80ab89fed01beb16106f90368e1dac31164d7c67"
  }
 },
 "nbformat": 4,
 "nbformat_minor": 2
}