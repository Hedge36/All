{
 "cells": [
  {
   "cell_type": "code",
   "execution_count": 5,
   "source": [
    "def oddmulti(data):\r\n",
    "    temp = [i % 2 for i in data if i != 0]\r\n",
    "    return 0 < sum(temp) < len(temp)"
   ],
   "outputs": [],
   "metadata": {}
  },
  {
   "cell_type": "code",
   "execution_count": 8,
   "source": [
    "def only(data:list):\r\n",
    "    return len(data) == len(set(data))"
   ],
   "outputs": [],
   "metadata": {}
  },
  {
   "cell_type": "code",
   "execution_count": 11,
   "source": [
    "def scale(data, factor):\r\n",
    "    for val in data:\r\n",
    "        val *= factor"
   ],
   "outputs": [],
   "metadata": {}
  },
  {
   "cell_type": "code",
   "execution_count": null,
   "source": [
    "[chr(i) for i in range(97, 123)]"
   ],
   "outputs": [],
   "metadata": {}
  },
  {
   "cell_type": "code",
   "execution_count": 20,
   "source": [
    "def selfshuffle(data:list):\r\n",
    "    import random\r\n",
    "    size = len(data)\r\n",
    "    indexs = [i for i in range(size)]\r\n",
    "    return [data[indexs.pop(random.randint(0, size-i-1))] for i in range(size)]"
   ],
   "outputs": [],
   "metadata": {}
  },
  {
   "cell_type": "code",
   "execution_count": 34,
   "source": [
    "def dot(a:list, b:list):\r\n",
    "    if len(a) == len(b):\r\n",
    "        return [a[i]*b[i] for i in range(len(a))]\r\n",
    "    else:\r\n",
    "        print(\"Length of A and B must be same.\")"
   ],
   "outputs": [],
   "metadata": {}
  },
  {
   "cell_type": "code",
   "execution_count": null,
   "source": [
    "def countvowel(text:str):\r\n",
    "    return [text.count(letter) for letter in [\"a\", \"o\", \"e\", \"i\"]]"
   ],
   "outputs": [],
   "metadata": {}
  },
  {
   "cell_type": "code",
   "execution_count": 49,
   "source": [
    "def checkcal(a:int,b:int,c:int):\r\n",
    "    try:        \r\n",
    "        return a+b==c or a==b-c or a*b==c\r\n",
    "    except:\r\n",
    "        print(\"Error.\")"
   ],
   "outputs": [],
   "metadata": {}
  },
  {
   "cell_type": "code",
   "execution_count": 52,
   "source": [
    "def norm(v:tuple, p:int=2):\r\n",
    "    return sum([i**p for i in v])**(1/p)"
   ],
   "outputs": [],
   "metadata": {}
  }
 ],
 "metadata": {
  "orig_nbformat": 4,
  "language_info": {
   "name": "python",
   "version": "3.8.3",
   "mimetype": "text/x-python",
   "codemirror_mode": {
    "name": "ipython",
    "version": 3
   },
   "pygments_lexer": "ipython3",
   "nbconvert_exporter": "python",
   "file_extension": ".py"
  },
  "kernelspec": {
   "name": "python3",
   "display_name": "Python 3.8.3 64-bit"
  },
  "interpreter": {
   "hash": "ed30ea7ea1cbcc5d6cdd427c80ab89fed01beb16106f90368e1dac31164d7c67"
  }
 },
 "nbformat": 4,
 "nbformat_minor": 2
}