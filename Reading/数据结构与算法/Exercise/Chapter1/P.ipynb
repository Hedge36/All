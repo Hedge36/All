{
 "cells": [
  {
   "cell_type": "code",
   "execution_count": 6,
   "source": [
    "# Birthday paradox\r\n",
    "def probability(n:int):\r\n",
    "    from math import factorial\r\n",
    "    return 1 - factorial(365) / (365**n * factorial(365-n)) \r\n"
   ],
   "outputs": [],
   "metadata": {}
  },
  {
   "cell_type": "code",
   "execution_count": 11,
   "source": [
    "def backchange(a, b):\r\n",
    "    c = a -b \r\n",
    "    return c//100, c %100//50, c % 50 // 20, c % 50 % 20 // 10, c % 10 //5 , c % 5 "
   ],
   "outputs": [],
   "metadata": {}
  },
  {
   "cell_type": "code",
   "execution_count": null,
   "source": [
    "def counter1(data):\r\n",
    "    from collections import Counter\r\n",
    "    return Counter(data)"
   ],
   "outputs": [],
   "metadata": {}
  },
  {
   "cell_type": "code",
   "execution_count": null,
   "source": [
    "def counter2(data):\r\n",
    "    import numpy as np\r\n",
    "    print('Elements:\\n', s := np.unique(data))  # unique返回的是已排序数组\r\n",
    "    return [np.sum(data == i) for i in s]"
   ],
   "outputs": [],
   "metadata": {}
  }
 ],
 "metadata": {
  "orig_nbformat": 4,
  "language_info": {
   "name": "python",
   "version": "3.8.3",
   "mimetype": "text/x-python",
   "codemirror_mode": {
    "name": "ipython",
    "version": 3
   },
   "pygments_lexer": "ipython3",
   "nbconvert_exporter": "python",
   "file_extension": ".py"
  },
  "kernelspec": {
   "name": "python3",
   "display_name": "Python 3.8.3 64-bit"
  },
  "interpreter": {
   "hash": "ed30ea7ea1cbcc5d6cdd427c80ab89fed01beb16106f90368e1dac31164d7c67"
  }
 },
 "nbformat": 4,
 "nbformat_minor": 2
}