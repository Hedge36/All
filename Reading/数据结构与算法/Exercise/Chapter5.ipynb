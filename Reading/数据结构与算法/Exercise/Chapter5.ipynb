{
 "cells": [
  {
   "cell_type": "markdown",
   "source": [
    "# 巩固"
   ],
   "metadata": {}
  },
  {
   "cell_type": "code",
   "execution_count": null,
   "source": [
    "def shrinkdetect():\r\n",
    "    import sys\r\n",
    "    data = [None]*10\r\n",
    "    for k in range(10):  # n to be times you want to operate\r\n",
    "        a = len(data)\r\n",
    "        # size of list doesn't include real size of element but id\r\n",
    "        b = sys.getsizeof(data)\r\n",
    "        print(\"Length: {:3d}; Size: {:4d}\".format(a, b))\r\n",
    "        data.pop()"
   ],
   "outputs": [],
   "metadata": {}
  },
  {
   "cell_type": "markdown",
   "source": [
    "# 创新"
   ],
   "metadata": {}
  },
  {
   "cell_type": "code",
   "execution_count": 1,
   "source": [
    "import sys\r\n",
    "import time\r\n"
   ],
   "outputs": [],
   "metadata": {}
  },
  {
   "cell_type": "code",
   "execution_count": 53,
   "source": [
    "def clock():\r\n",
    "    n = 10000000\r\n",
    "    start = time.time()\r\n",
    "    # plus directly\r\n",
    "    s = \"\"\r\n",
    "    for i in range(n):\r\n",
    "        s += \"a\"\r\n",
    "    print(f\"Method1 cost {time.time() - start:.3f} s\")\r\n",
    "    start = time.time()\r\n",
    "    # plus by temp\r\n",
    "    temp = []\r\n",
    "    for i in range(n):\r\n",
    "        temp.append(\"a\")\r\n",
    "    t = \"\".join(temp)\r\n",
    "    print(f\"Method2 cost {time.time() - start:.3f} s\")\r\n",
    "    # method3\r\n",
    "    start = time.time()\r\n",
    "    y = \"\".join([\"a\" for _ in range(n)])\r\n",
    "    print(f\"Method3 cost {time.time() - start:.3f} s\")\r\n",
    "    # method4\r\n",
    "    start = time.time()\r\n",
    "    z = \"\".join(\"a\" for i in range(n))\r\n",
    "    print(f\"Method4 cost {time.time() - start:.3f} s\")\r\n",
    "clock()"
   ],
   "outputs": [
    {
     "output_type": "stream",
     "name": "stdout",
     "text": [
      "Method1 cost 5.089 s\n",
      "Method2 cost 0.852 s\n",
      "Method3 cost 0.583 s\n",
      "Method4 cost 0.950 s\n"
     ]
    }
   ],
   "metadata": {}
  },
  {
   "cell_type": "markdown",
   "source": [
    "# 项目"
   ],
   "metadata": {}
  },
  {
   "cell_type": "code",
   "execution_count": null,
   "source": [],
   "outputs": [],
   "metadata": {}
  }
 ],
 "metadata": {
  "orig_nbformat": 4,
  "language_info": {
   "name": "python",
   "version": "3.8.3",
   "mimetype": "text/x-python",
   "codemirror_mode": {
    "name": "ipython",
    "version": 3
   },
   "pygments_lexer": "ipython3",
   "nbconvert_exporter": "python",
   "file_extension": ".py"
  },
  "kernelspec": {
   "name": "python3",
   "display_name": "Python 3.8.3 64-bit"
  },
  "interpreter": {
   "hash": "ed30ea7ea1cbcc5d6cdd427c80ab89fed01beb16106f90368e1dac31164d7c67"
  }
 },
 "nbformat": 4,
 "nbformat_minor": 2
}