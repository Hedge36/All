{
 "cells": [
  {
   "cell_type": "markdown",
   "source": [
    "# 巩固"
   ],
   "metadata": {}
  },
  {
   "cell_type": "code",
   "execution_count": null,
   "source": [
    "def shrinkexpe():\r\n",
    "    import sys\r\n",
    "    data = [None]*10\r\n",
    "    for k in range(10):  # n to be times you want to operate\r\n",
    "        a = len(data)\r\n",
    "        # size of list doesn't include real size of element but id\r\n",
    "        b = sys.getsizeof(data)\r\n",
    "        print(\"Length: {:3d}; Size: {:4d}\".format(a, b))\r\n",
    "        data.pop()"
   ],
   "outputs": [],
   "metadata": {}
  }
 ],
 "metadata": {
  "orig_nbformat": 4,
  "language_info": {
   "name": "python"
  }
 },
 "nbformat": 4,
 "nbformat_minor": 2
}