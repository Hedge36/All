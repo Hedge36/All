{
 "cells": [
  {
   "cell_type": "markdown",
   "source": [
    "# 巩固"
   ],
   "metadata": {}
  },
  {
   "cell_type": "code",
   "execution_count": null,
   "source": [
    "def is_multiple(n:int, m:int):\r\n",
    "    return not bool(n % m)"
   ],
   "outputs": [],
   "metadata": {}
  },
  {
   "cell_type": "code",
   "execution_count": null,
   "source": [
    "def is_even(k: int):\r\n",
    "    return not bool(k % 2)\r\n"
   ],
   "outputs": [],
   "metadata": {}
  },
  {
   "cell_type": "code",
   "execution_count": null,
   "source": [
    "def minmax(data):\r\n",
    "    m, n =  0, 0\r\n",
    "    for i in range(len(data)):\r\n",
    "        if data[i] > m :\r\n",
    "            m = data[i]\r\n",
    "        else:\r\n",
    "            n = data[i]\r\n",
    "    return m,n"
   ],
   "outputs": [],
   "metadata": {}
  },
  {
   "cell_type": "code",
   "execution_count": null,
   "source": [
    "def squareplus(n:int):\r\n",
    "    return sum([i**2 for i in range(1, n+1)])"
   ],
   "outputs": [],
   "metadata": {}
  },
  {
   "cell_type": "code",
   "execution_count": null,
   "source": [
    "def oddsquareplus(n: int):\r\n",
    "    return sum([i**2 for i in range(1, n+1) if i % 2 == 1])"
   ],
   "outputs": [],
   "metadata": {}
  },
  {
   "cell_type": "code",
   "execution_count": null,
   "source": [
    "list(range(50, 90, 10))"
   ],
   "outputs": [],
   "metadata": {}
  },
  {
   "cell_type": "code",
   "execution_count": null,
   "source": [
    "list(range(8, -10, -2))"
   ],
   "outputs": [],
   "metadata": {}
  },
  {
   "cell_type": "code",
   "execution_count": null,
   "source": [
    "[2**i for i in range(1, 9)]"
   ],
   "outputs": [],
   "metadata": {}
  },
  {
   "cell_type": "code",
   "execution_count": null,
   "source": [
    "def selfchoice(data):\r\n",
    "    import random\r\n",
    "    size = len(data)\r\n",
    "    index = random.randrange(start=0, stop=size, step=1)\r\n",
    "    return data[index]"
   ],
   "outputs": [],
   "metadata": {}
  },
  {
   "cell_type": "markdown",
   "source": [
    "# 创新"
   ],
   "metadata": {}
  },
  {
   "cell_type": "code",
   "execution_count": 5,
   "source": [
    "def oddmulti(data):\r\n",
    "    temp = [i % 2 for i in data if i != 0]\r\n",
    "    return 0 < sum(temp) < len(temp)"
   ],
   "outputs": [],
   "metadata": {}
  },
  {
   "cell_type": "code",
   "execution_count": 8,
   "source": [
    "def only(data:list):\r\n",
    "    return len(data) == len(set(data))"
   ],
   "outputs": [],
   "metadata": {}
  },
  {
   "cell_type": "code",
   "execution_count": 11,
   "source": [
    "def scale(data, factor):\r\n",
    "    for val in data:\r\n",
    "        val *= factor"
   ],
   "outputs": [],
   "metadata": {}
  },
  {
   "cell_type": "code",
   "execution_count": null,
   "source": [
    "[chr(i) for i in range(97, 123)]"
   ],
   "outputs": [],
   "metadata": {}
  },
  {
   "cell_type": "code",
   "execution_count": 20,
   "source": [
    "def selfshuffle(data:list):\r\n",
    "    import random\r\n",
    "    size = len(data)\r\n",
    "    indexs = [i for i in range(size)]\r\n",
    "    return [data[indexs.pop(random.randint(0, size-i-1))] for i in range(size)]"
   ],
   "outputs": [],
   "metadata": {}
  },
  {
   "cell_type": "code",
   "execution_count": 34,
   "source": [
    "def dot(a:list, b:list):\r\n",
    "    if len(a) == len(b):\r\n",
    "        return [a[i]*b[i] for i in range(len(a))]\r\n",
    "    else:\r\n",
    "        print(\"Length of A and B must be same.\")"
   ],
   "outputs": [],
   "metadata": {}
  },
  {
   "cell_type": "code",
   "execution_count": null,
   "source": [
    "def countvowel(text:str):\r\n",
    "    return [text.count(letter) for letter in [\"a\", \"o\", \"e\", \"i\"]]"
   ],
   "outputs": [],
   "metadata": {}
  },
  {
   "cell_type": "code",
   "execution_count": 49,
   "source": [
    "def checkcal(a:int,b:int,c:int):\r\n",
    "    try:        \r\n",
    "        return a+b==c or a==b-c or a*b==c\r\n",
    "    except:\r\n",
    "        print(\"Error.\")"
   ],
   "outputs": [],
   "metadata": {}
  },
  {
   "cell_type": "code",
   "execution_count": 52,
   "source": [
    "def norm(v:tuple, p:int=2):\r\n",
    "    return sum([i**p for i in v])**(1/p)"
   ],
   "outputs": [],
   "metadata": {}
  },
  {
   "cell_type": "markdown",
   "source": [
    "# 项目"
   ],
   "metadata": {}
  },
  {
   "cell_type": "code",
   "execution_count": 6,
   "source": [
    "# Birthday paradox\r\n",
    "def probability(n:int):\r\n",
    "    from math import factorial\r\n",
    "    return 1 - factorial(365) / (365**n * factorial(365-n)) \r\n"
   ],
   "outputs": [],
   "metadata": {}
  },
  {
   "cell_type": "code",
   "execution_count": 11,
   "source": [
    "def backchange(a, b):\r\n",
    "    c = a -b \r\n",
    "    return c//100, c %100//50, c % 50 // 20, c % 50 % 20 // 10, c % 10 //5 , c % 5 "
   ],
   "outputs": [],
   "metadata": {}
  },
  {
   "cell_type": "code",
   "execution_count": null,
   "source": [
    "def counter1(data):\r\n",
    "    from collections import Counter\r\n",
    "    return Counter(data)"
   ],
   "outputs": [],
   "metadata": {}
  },
  {
   "cell_type": "code",
   "execution_count": null,
   "source": [
    "def counter2(data):\r\n",
    "    import numpy as np\r\n",
    "    print('Elements:\\n', s := np.unique(data))  # unique返回的是已排序数组\r\n",
    "    return [np.sum(data == i) for i in s]"
   ],
   "outputs": [],
   "metadata": {}
  }
 ],
 "metadata": {
  "orig_nbformat": 4,
  "language_info": {
   "name": "python",
   "version": "3.8.3"
  },
  "kernelspec": {
   "name": "python3",
   "display_name": "Python 3.8.3 64-bit"
  },
  "interpreter": {
   "hash": "ed30ea7ea1cbcc5d6cdd427c80ab89fed01beb16106f90368e1dac31164d7c67"
  }
 },
 "nbformat": 4,
 "nbformat_minor": 2
}