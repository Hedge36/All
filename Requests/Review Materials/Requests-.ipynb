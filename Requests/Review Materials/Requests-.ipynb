{
 "metadata": {
  "language_info": {
   "codemirror_mode": {
    "name": "ipython",
    "version": 3
   },
   "file_extension": ".py",
   "mimetype": "text/x-python",
   "name": "python",
   "nbconvert_exporter": "python",
   "pygments_lexer": "ipython3",
   "version": "3.8.3-final"
  },
  "orig_nbformat": 2,
  "kernelspec": {
   "name": "python3",
   "display_name": "Python 3.8.3 64-bit",
   "metadata": {
    "interpreter": {
     "hash": "ed30ea7ea1cbcc5d6cdd427c80ab89fed01beb16106f90368e1dac31164d7c67"
    }
   }
  }
 },
 "nbformat": 4,
 "nbformat_minor": 2,
 "cells": [
  {
   "cell_type": "code",
   "execution_count": 6,
   "metadata": {},
   "outputs": [],
   "source": [
    "import requests"
   ]
  },
  {
   "source": [
    "## Session(Cookie传递)"
   ],
   "cell_type": "markdown",
   "metadata": {}
  },
  {
   "cell_type": "code",
   "execution_count": 7,
   "metadata": {},
   "outputs": [],
   "source": [
    "session = requests.Session()\n",
    "info = {\"account\": \"Hedge\", \"password\": \"password\"}\n",
    "r = session.post(\"url\", data = info)\n",
    "print(r.cookies)\n",
    "r = session.get(\"url2\")\n",
    "print(r.text)"
   ]
  },
  {
   "source": [
    "## 文件下载\n",
    "### 1. 图片下载\n",
    "#### 1.1 urlretrieve"
   ],
   "cell_type": "markdown",
   "metadata": {}
  },
  {
   "cell_type": "code",
   "execution_count": null,
   "metadata": {},
   "outputs": [],
   "source": [
    "image_url = ''\n",
    "filename = ''\n",
    "savepath = 'D:\\Study\\\\2019-2020\\\\Python\\\\code\\\\request_pycharm\\\\Fetched_File\\\\images\\\\'+ filename"
   ]
  },
  {
   "source": [
    "from urllib.request import urlretrieve\n",
    "urlretrieve(image_url, savepath)"
   ],
   "cell_type": "code",
   "metadata": {},
   "execution_count": null,
   "outputs": []
  },
  {
   "source": [
    "#### 1.2 download"
   ],
   "cell_type": "markdown",
   "metadata": {}
  },
  {
   "cell_type": "code",
   "execution_count": null,
   "metadata": {},
   "outputs": [],
   "source": [
    "r = requests.get(image_url)\n",
    "with open(savepath, 'wb') as f:\n",
    "    f.write(r.content)"
   ]
  },
  {
   "source": [
    "#### 1.3 download chunck\n",
    "字节流下载，边下载边保存(以下为32byte per)，适用于大文件下载"
   ],
   "cell_type": "markdown",
   "metadata": {}
  },
  {
   "cell_type": "code",
   "execution_count": null,
   "metadata": {},
   "outputs": [],
   "source": [
    "r = requests.get(image_url, stream=True)\n",
    "with open(savepath, 'wb') as f:\n",
    "    for chunk in r.iter_content(chunk_size=32):\n",
    "        f.write(chunk)"
   ]
  }
 ]
}