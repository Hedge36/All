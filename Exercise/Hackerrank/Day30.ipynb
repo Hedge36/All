{
 "cells": [
  {
   "cell_type": "markdown",
   "source": [
    "# Day 8 Dictionaries and Maps\r\n"
   ],
   "metadata": {}
  },
  {
   "cell_type": "markdown",
   "source": [
    "## Objective\r\n",
    "Today, we're learning about Key-Value pair mappings using a Map or Dictionary data structure. Check out the Tutorial tab for learning materials and an instructional video!\r\n",
    "\r\n",
    "## Task\r\n",
    "Given  names and phone numbers, assemble a phone book that maps friends' names to their respective phone numbers. You will then be given an unknown number of names to query your phone book for. For each  queried, print the associated entry from your phone book on a new line in the form name=phoneNumber; if an entry for  is not found, print Not found instead.\r\n",
    "\r\n",
    "Note: Your phone book should be a Dictionary/Map/HashMap data structure.\r\n",
    "\r\n",
    "## Input Format\r\n",
    "\r\n",
    "The first line contains an integer, , denoting the number of entries in the phone book.\r\n",
    "Each of the  subsequent lines describes an entry in the form of  space-separated values on a single line. The first value is a friend's name, and the second value is an -digit phone number.\r\n",
    "\r\n",
    "After the  lines of phone book entries, there are an unknown number of lines of queries. Each line (query) contains a  to look up, and you must continue reading lines until there is no more input.\r\n",
    "\r\n",
    "Note: Names consist of lowercase English alphabetic letters and are first names only.\r\n",
    "\r\n",
    "## Constraints\r\n",
    "\r\n",
    "    $`1 \\le n \\le 10^5`$\r\n",
    "\r\n",
    "    `1 \\le queries \\le 10^5`\r\n",
    "    \r\n",
    "## Output Format\r\n",
    "\r\n",
    "On a new line for each query, print Not found if the name has no corresponding entry in the phone book; otherwise, print the full  and  in the format name=phoneNumber."
   ],
   "metadata": {}
  },
  {
   "cell_type": "code",
   "execution_count": null,
   "source": [
    "n = int(input())\r\n",
    "d = {}\r\n",
    "for i in range(n):\r\n",
    "    x = input().split()\r\n",
    "    d[x[0]] = x[1]\r\n",
    "while True:\r\n",
    "    try:\r\n",
    "        name = input()\r\n",
    "        if name in d:\r\n",
    "            print(name, \"=\", d[name], sep=\"\")\r\n",
    "        else:\r\n",
    "            print(\"Not found\")\r\n",
    "    except:\r\n",
    "        break"
   ],
   "outputs": [],
   "metadata": {}
  },
  {
   "cell_type": "markdown",
   "source": [
    "### Note : It worths noting that while using for loop, it takes lots of time to generate count, so use for loop will exceed time limits here. Additionally, code showed here isn't the fastest, either."
   ],
   "metadata": {}
  }
 ],
 "metadata": {
  "orig_nbformat": 4,
  "language_info": {
   "name": "python",
   "version": "3.8.3",
   "mimetype": "text/x-python",
   "codemirror_mode": {
    "name": "ipython",
    "version": 3
   },
   "pygments_lexer": "ipython3",
   "nbconvert_exporter": "python",
   "file_extension": ".py"
  },
  "kernelspec": {
   "name": "python3",
   "display_name": "Python 3.8.3 64-bit"
  },
  "interpreter": {
   "hash": "ed30ea7ea1cbcc5d6cdd427c80ab89fed01beb16106f90368e1dac31164d7c67"
  }
 },
 "nbformat": 4,
 "nbformat_minor": 2
}