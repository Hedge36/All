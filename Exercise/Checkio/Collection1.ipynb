{
 "metadata": {
  "language_info": {
   "codemirror_mode": {
    "name": "ipython",
    "version": 3
   },
   "file_extension": ".py",
   "mimetype": "text/x-python",
   "name": "python",
   "nbconvert_exporter": "python",
   "pygments_lexer": "ipython3",
   "version": "3.8.3"
  },
  "orig_nbformat": 4,
  "kernelspec": {
   "name": "python3",
   "display_name": "Python 3.8.3 64-bit"
  },
  "interpreter": {
   "hash": "ed30ea7ea1cbcc5d6cdd427c80ab89fed01beb16106f90368e1dac31164d7c67"
  }
 },
 "nbformat": 4,
 "nbformat_minor": 2,
 "cells": [
  {
   "source": [
    "<h1>Question1</h1>\n",
    "Try to find out how many zeros a given number has at the end.<br>\n",
    "\n",
    "Input: A positive Int<br>\n",
    "\n",
    "Output: An Int."
   ],
   "cell_type": "markdown",
   "metadata": {}
  },
  {
   "cell_type": "code",
   "execution_count": null,
   "metadata": {},
   "outputs": [],
   "source": [
    "def end_zeros(num: int) -> int:\n",
    "    return len(s := str(num)) - len(s.rstrip('0'))"
   ]
  },
  {
   "source": [
    "<h1>Question2</h1>\n",
    "In a given list the first element should become the last one. An empty list or list with only one element should stay the same.<br>\n",
    "\n",
    "Input: List.<br>\n",
    "\n",
    "Output: Iterable."
   ],
   "cell_type": "markdown",
   "metadata": {}
  },
  {
   "cell_type": "code",
   "execution_count": null,
   "metadata": {},
   "outputs": [],
   "source": [
    "# Change items IN-PLACE.\n",
    "def replace_first(items: list) -> list:\n",
    "    if items:\n",
    "        items.append(items.pop(0))\n",
    "    return items\n",
    "\n",
    "# Slices\n",
    "def replace_first(items: list) -> list:\n",
    "    return items[1:] + items[:1]\n",
    "\n",
    "# collections.deque have an useful method: rotate.\n",
    "from collections import deque\n",
    "def replace_first(items: list) -> deque:\n",
    "    items = deque(items)\n",
    "    items.rotate(-1)\n",
    "    return items"
   ]
  },
  {
   "source": [
    "<h1>Question 3 Split Pairs</h1>\n",
    "Split the string into pairs of two characters. If the string contains an odd number of characters, then the missing second character of the final pair should be replaced with an underscore ('_').<br>\n",
    "\n",
    "Input: A string.<br>\n",
    "\n",
    "Output: An iterable of strings."
   ],
   "cell_type": "markdown",
   "metadata": {}
  },
  {
   "cell_type": "code",
   "execution_count": null,
   "metadata": {},
   "outputs": [],
   "source": [
    "def split_pairs(a):\n",
    "    return [ch1+ch2 for ch1,ch2 in zip(a[::2],a[1::2]+'_')]\n",
    "\n",
    "def split_pairs(a):\n",
    "    l = len(a)\n",
    "    if l == 0:\n",
    "        return []\n",
    "    if l == 1:\n",
    "        return [a + '_']\n",
    "    else:\n",
    "        return [a[:2]] + split_pairs(a[2:])"
   ]
  },
  {
   "source": [
    "<h1>Question 4 Nearest Value</h1>\n",
    "Find the nearest value to the given one.\n",
    "\n",
    "You are given a list of values as set form and a value for which you need to find the nearest one.\n",
    "\n",
    "For example, we have the following set of numbers: 4, 7, 10, 11, 12, 17, and we need to find the nearest value to the number 9. If we sort this set in the ascending order, then to the left of number 9 will be number 7 and to the right - will be number 10. But 10 is closer than 7, which means that the correct answer is 10.<br>\n",
    "\n",
    "A few clarifications:\n",
    "<ul>\n",
    "<li>If 2 numbers are at the same distance, you need to choose the smallest one;<li>\n",
    "<li>The set of numbers is always non-empty, i.e. the size is >=1;<li>\n",
    "<li>The given value can be in this set, which means that it’s the answer;<li>\n",
    "<li>The set can contain both positive and negative numbers, but they are always integers;<li>\n",
    "<li>The set isn’t sorted and consists of unique numbers.<li>\n",
    "</ul>\n",
    "Input:Two arguments. A list of values in the set form. The sought value is an int.<br>\n",
    "\n",
    "Output: Int."
   ],
   "cell_type": "markdown",
   "metadata": {}
  },
  {
   "source": [
    "import numpy as np\n",
    "# Own\n",
    "def nearest_value(values: set, one: int) -> int:\n",
    "    values = list(values)\n",
    "    a = abs(np.array(values)-one)\n",
    "    minmum = np.min(a)\n",
    "    return one-minmum if one-minmum in values else one + minmum\n",
    "# Best\n",
    "def nearest_value(values: set, one: int) -> int:\n",
    "    return min(values, key=lambda n: (abs(one - n), n))"
   ],
   "cell_type": "code",
   "metadata": {},
   "execution_count": null,
   "outputs": []
  }
 ]
}