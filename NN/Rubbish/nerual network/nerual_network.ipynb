{
 "metadata": {
  "language_info": {
   "codemirror_mode": {
    "name": "ipython",
    "version": 3
   },
   "file_extension": ".py",
   "mimetype": "text/x-python",
   "name": "python",
   "nbconvert_exporter": "python",
   "pygments_lexer": "ipython3",
   "version": "3.8.3-final"
  },
  "orig_nbformat": 2,
  "kernelspec": {
   "name": "python3",
   "display_name": "Python 3"
  }
 },
 "nbformat": 4,
 "nbformat_minor": 2,
 "cells": [
  {
   "cell_type": "code",
   "execution_count": 1,
   "source": [
    "import numpy as np\r\n",
    "\r\n",
    "# scipy.special for the sigmoid function expit()\r\n",
    "import scipy.special"
   ],
   "outputs": [],
   "metadata": {}
  },
  {
   "cell_type": "code",
   "execution_count": 2,
   "source": [
    "class neuralNetwork:\r\n",
    "\r\n",
    "    # initialise the neural network\r\n",
    "    def __init__( self, inputnodes, hiddennodes, outputnodes, learningrate ):\r\n",
    "        #set number of nodes in each input, hidden, output layer\r\n",
    "        self.inodes = inputnodes\r\n",
    "        self.hnodes = hiddennodes\r\n",
    "        self.onodes = outputnodes\r\n",
    "\r\n",
    "       \r\n",
    "\r\n",
    "        #link weight matrices, wih and who\r\n",
    "        #weights inside the arrays are w_i_j, where link is from node i to node j in the next layer\r\n",
    "        #w11 w21\r\n",
    "        #w12 w22 etc\r\n",
    "\r\n",
    "        # self.wih = (np.random.rand(self.hnodes, self.inodes) - 0.5)\r\n",
    "        # self.who = (np.random.rand(self.onodes, self.hnodes) - 0.5)\r\n",
    "        self.wih = np.random.normal(0.0, pow(self.hnodes, -0.5), (self.hnodes, self.inodes))\r\n",
    "        self.who = np.random.normal(0.0, pow(self.onodes, -0.5), (self.onodes, self.hnodes))\r\n",
    "\r\n",
    "         #learning rate\r\n",
    "        self.lr = learningrate\r\n",
    "\r\n",
    "        # activation function is the sigmoid function\r\n",
    "        self.activation_function = lambda x:scipy.special.expit(x)\r\n",
    "\r\n",
    "        pass\r\n",
    "\r\n",
    "    # train the neural network\r\n",
    "    def train(self, inputs_list, targets_list):\r\n",
    "        # convert inputs list to 2d array\r\n",
    "        inputs = np.array(inputs_list, ndmin=2).T\r\n",
    "        targets = np.array(targets_list, ndmin=2).T\r\n",
    "\r\n",
    "        # calculate signals into hidden layer\r\n",
    "        hidden_inputs = np.dot(self.wih, inputs)\r\n",
    "        # calculate teh signals emerging from hidden layer\r\n",
    "        hidden_outputs = self.activation_function(hidden_inputs)\r\n",
    "\r\n",
    "        # calculate signals into final output layer\r\n",
    "        final_inputs = np.dot(self.who, hidden_outputs)\r\n",
    "        # calculate the signals emerging from final output layer\r\n",
    "        final_outputs = self.activation_function(final_inputs)\r\n",
    "\r\n",
    "        # error is the (target - actual)\r\n",
    "        output_errors = targets - final_outputs\r\n",
    "\r\n",
    "        #hidden layer error is the output_errors, split by weights, recombined at hidden nodes\r\n",
    "        hidden_errors = np.dot(self.who.T, output_errors)\r\n",
    "\r\n",
    "        #update the weights for the links between the hidden and output layers\r\n",
    "        self.who += self.lr * np.dot((output_errors * final_outputs * (1.0 - final_outputs)), np.transpose(hidden_outputs))\r\n",
    "\r\n",
    "        #update teh weights for the links between the input and hidden layers\r\n",
    "        self.wih += self.lr * np.dot((hidden_errors * hidden_outputs * (1.0 - hidden_outputs)), np.transpose(inputs))\r\n",
    "        pass\r\n",
    "\r\n",
    "\r\n",
    "    # query the neural network\r\n",
    "    def query(self, inputs_list):\r\n",
    "        #convert inputs list to 2d array\r\n",
    "        inputs = np.array(inputs_list, ndmin=2).T\r\n",
    "\r\n",
    "        # calculate signals into hidden layer\r\n",
    "        hidden_inputs = np.dot(self.wih, inputs)\r\n",
    "\r\n",
    "        # calculate teh signals emerging from hidden layer\r\n",
    "        hidden_outputs = self.activation_function(hidden_inputs)\r\n",
    "\r\n",
    "        # calculate signals into final output layer\r\n",
    "        final_inputs = np.dot(self.who, hidden_outputs)\r\n",
    "\r\n",
    "        # calculate the signals emerging from final output layer\r\n",
    "        final_outputs = self.activation_function(final_inputs)\r\n",
    "\r\n",
    "        return final_inputs"
   ],
   "outputs": [],
   "metadata": {}
  },
  {
   "cell_type": "code",
   "execution_count": 3,
   "source": [
    "# number of input hidden and output nodes\r\n",
    "input_nodes = 3\r\n",
    "hidden_nodes = 3\r\n",
    "output_nodes = 3\r\n",
    "\r\n",
    "# learning rate\r\n",
    "learning_rate = 0.3\r\n",
    "\r\n",
    "# create instance of neural network\r\n",
    "n = neuralNetwork(input_nodes, hidden_nodes, output_nodes, learning_rate)"
   ],
   "outputs": [],
   "metadata": {}
  },
  {
   "cell_type": "code",
   "execution_count": 4,
   "source": [
    "n.query([1.0, 0.5, -1.5])"
   ],
   "outputs": [
    {
     "output_type": "execute_result",
     "data": {
      "text/plain": [
       "array([[-0.27786374],\n",
       "       [ 0.04848925],\n",
       "       [-0.39429812]])"
      ]
     },
     "metadata": {},
     "execution_count": 4
    }
   ],
   "metadata": {}
  }
 ]
}